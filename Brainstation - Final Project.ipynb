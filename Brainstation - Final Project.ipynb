{
 "cells": [
  {
   "cell_type": "markdown",
   "metadata": {},
   "source": [
    "# Online Sales by Country Prediction"
   ]
  },
  {
   "cell_type": "code",
   "execution_count": 1,
   "metadata": {},
   "outputs": [],
   "source": [
    "import pandas as pd\n",
    "import numpy as np\n",
    "\n",
    "import matplotlib.pyplot as plt  \n",
    "import seaborn as seabornInstance \n",
    "import statsmodels.formula.api as smf \n",
    "from scipy import stats\n",
    "from sklearn.model_selection import train_test_split \n",
    "from sklearn.linear_model import LinearRegression\n",
    "from sklearn import metrics\n",
    "%matplotlib inline\n"
   ]
  },
  {
   "cell_type": "markdown",
   "metadata": {},
   "source": [
    "## Loading Files"
   ]
  },
  {
   "cell_type": "code",
   "execution_count": 2,
   "metadata": {},
   "outputs": [
    {
     "data": {
      "text/html": [
       "<div>\n",
       "<style scoped>\n",
       "    .dataframe tbody tr th:only-of-type {\n",
       "        vertical-align: middle;\n",
       "    }\n",
       "\n",
       "    .dataframe tbody tr th {\n",
       "        vertical-align: top;\n",
       "    }\n",
       "\n",
       "    .dataframe thead th {\n",
       "        text-align: right;\n",
       "    }\n",
       "</style>\n",
       "<table border=\"1\" class=\"dataframe\">\n",
       "  <thead>\n",
       "    <tr style=\"text-align: right;\">\n",
       "      <th></th>\n",
       "      <th>Country</th>\n",
       "      <th>Date</th>\n",
       "      <th>Users</th>\n",
       "      <th>New Users</th>\n",
       "      <th>Sessions</th>\n",
       "      <th>Bounce Rate</th>\n",
       "      <th>Pages / Session</th>\n",
       "      <th>Avg. Session Duration</th>\n",
       "      <th>Booking (Goal 1 Conversion Rate)</th>\n",
       "      <th>Booking (Goal 1 Completions)</th>\n",
       "      <th>Booking (Goal 1 Value)</th>\n",
       "    </tr>\n",
       "  </thead>\n",
       "  <tbody>\n",
       "    <tr>\n",
       "      <th>0</th>\n",
       "      <td>India</td>\n",
       "      <td>2019-06-11</td>\n",
       "      <td>703</td>\n",
       "      <td>703</td>\n",
       "      <td>703</td>\n",
       "      <td>0.9986</td>\n",
       "      <td>1.00</td>\n",
       "      <td>0.10</td>\n",
       "      <td>0.2461</td>\n",
       "      <td>173</td>\n",
       "      <td>0</td>\n",
       "    </tr>\n",
       "    <tr>\n",
       "      <th>1</th>\n",
       "      <td>United States</td>\n",
       "      <td>2019-06-14</td>\n",
       "      <td>688</td>\n",
       "      <td>683</td>\n",
       "      <td>690</td>\n",
       "      <td>0.9913</td>\n",
       "      <td>1.02</td>\n",
       "      <td>0.18</td>\n",
       "      <td>0.2246</td>\n",
       "      <td>155</td>\n",
       "      <td>0</td>\n",
       "    </tr>\n",
       "    <tr>\n",
       "      <th>2</th>\n",
       "      <td>Singapore</td>\n",
       "      <td>2019-06-11</td>\n",
       "      <td>654</td>\n",
       "      <td>654</td>\n",
       "      <td>654</td>\n",
       "      <td>1.0000</td>\n",
       "      <td>1.00</td>\n",
       "      <td>0.00</td>\n",
       "      <td>0.2401</td>\n",
       "      <td>157</td>\n",
       "      <td>0</td>\n",
       "    </tr>\n",
       "    <tr>\n",
       "      <th>3</th>\n",
       "      <td>United States</td>\n",
       "      <td>2019-06-11</td>\n",
       "      <td>639</td>\n",
       "      <td>639</td>\n",
       "      <td>641</td>\n",
       "      <td>0.9875</td>\n",
       "      <td>1.05</td>\n",
       "      <td>2.66</td>\n",
       "      <td>0.2512</td>\n",
       "      <td>161</td>\n",
       "      <td>0</td>\n",
       "    </tr>\n",
       "    <tr>\n",
       "      <th>4</th>\n",
       "      <td>United States</td>\n",
       "      <td>2019-06-15</td>\n",
       "      <td>625</td>\n",
       "      <td>622</td>\n",
       "      <td>625</td>\n",
       "      <td>1.0000</td>\n",
       "      <td>1.00</td>\n",
       "      <td>0.00</td>\n",
       "      <td>0.2928</td>\n",
       "      <td>183</td>\n",
       "      <td>0</td>\n",
       "    </tr>\n",
       "  </tbody>\n",
       "</table>\n",
       "</div>"
      ],
      "text/plain": [
       "         Country       Date  Users  New Users  Sessions  Bounce Rate  \\\n",
       "0          India 2019-06-11    703        703       703       0.9986   \n",
       "1  United States 2019-06-14    688        683       690       0.9913   \n",
       "2      Singapore 2019-06-11    654        654       654       1.0000   \n",
       "3  United States 2019-06-11    639        639       641       0.9875   \n",
       "4  United States 2019-06-15    625        622       625       1.0000   \n",
       "\n",
       "   Pages / Session  Avg. Session Duration  Booking (Goal 1 Conversion Rate)  \\\n",
       "0             1.00                   0.10                            0.2461   \n",
       "1             1.02                   0.18                            0.2246   \n",
       "2             1.00                   0.00                            0.2401   \n",
       "3             1.05                   2.66                            0.2512   \n",
       "4             1.00                   0.00                            0.2928   \n",
       "\n",
       "   Booking (Goal 1 Completions)  Booking (Goal 1 Value)  \n",
       "0                           173                       0  \n",
       "1                           155                       0  \n",
       "2                           157                       0  \n",
       "3                           161                       0  \n",
       "4                           183                       0  "
      ]
     },
     "execution_count": 2,
     "metadata": {},
     "output_type": "execute_result"
    }
   ],
   "source": [
    "goo = pd.read_csv('data/googleuft8.txt',parse_dates=[1])\n",
    "goo.head()"
   ]
  },
  {
   "cell_type": "code",
   "execution_count": 3,
   "metadata": {},
   "outputs": [
    {
     "data": {
      "text/html": [
       "<div>\n",
       "<style scoped>\n",
       "    .dataframe tbody tr th:only-of-type {\n",
       "        vertical-align: middle;\n",
       "    }\n",
       "\n",
       "    .dataframe tbody tr th {\n",
       "        vertical-align: top;\n",
       "    }\n",
       "\n",
       "    .dataframe thead th {\n",
       "        text-align: right;\n",
       "    }\n",
       "</style>\n",
       "<table border=\"1\" class=\"dataframe\">\n",
       "  <thead>\n",
       "    <tr style=\"text-align: right;\">\n",
       "      <th></th>\n",
       "      <th>ticketNumber</th>\n",
       "      <th>Date</th>\n",
       "      <th>tripId</th>\n",
       "      <th>ticketStatus</th>\n",
       "      <th>tripName</th>\n",
       "      <th>tripAbbreviation</th>\n",
       "      <th>taxAbbreviation</th>\n",
       "      <th>startDate</th>\n",
       "      <th>tripCategoryId</th>\n",
       "      <th>GrossTicket</th>\n",
       "      <th>Commission</th>\n",
       "      <th>NetTicket</th>\n",
       "      <th>invoiceId</th>\n",
       "      <th>invoiceStatus</th>\n",
       "      <th>groupId</th>\n",
       "      <th>Sales Office Invoice</th>\n",
       "      <th>gender</th>\n",
       "      <th>dateOfBirth</th>\n",
       "      <th>countryOfOriginId</th>\n",
       "      <th>countryName</th>\n",
       "    </tr>\n",
       "  </thead>\n",
       "  <tbody>\n",
       "    <tr>\n",
       "      <th>0</th>\n",
       "      <td>4203-E81</td>\n",
       "      <td>2019-04-05</td>\n",
       "      <td>4203</td>\n",
       "      <td>2</td>\n",
       "      <td>Niagara Falls - Saturday</td>\n",
       "      <td>NF</td>\n",
       "      <td>HST</td>\n",
       "      <td>2019-04-20</td>\n",
       "      <td>1</td>\n",
       "      <td>59.0</td>\n",
       "      <td>0</td>\n",
       "      <td>59.0</td>\n",
       "      <td>105932</td>\n",
       "      <td>2</td>\n",
       "      <td>NaN</td>\n",
       "      <td>ISX Online</td>\n",
       "      <td>Female</td>\n",
       "      <td>1986-10-09</td>\n",
       "      <td>73.0</td>\n",
       "      <td>France</td>\n",
       "    </tr>\n",
       "    <tr>\n",
       "      <th>1</th>\n",
       "      <td>4203-SXF</td>\n",
       "      <td>2019-04-05</td>\n",
       "      <td>4203</td>\n",
       "      <td>2</td>\n",
       "      <td>Niagara Falls - Saturday</td>\n",
       "      <td>NF</td>\n",
       "      <td>HST</td>\n",
       "      <td>2019-04-20</td>\n",
       "      <td>1</td>\n",
       "      <td>59.0</td>\n",
       "      <td>0</td>\n",
       "      <td>59.0</td>\n",
       "      <td>105933</td>\n",
       "      <td>2</td>\n",
       "      <td>NaN</td>\n",
       "      <td>ISX Online</td>\n",
       "      <td>Female</td>\n",
       "      <td>1997-09-07</td>\n",
       "      <td>73.0</td>\n",
       "      <td>France</td>\n",
       "    </tr>\n",
       "    <tr>\n",
       "      <th>2</th>\n",
       "      <td>4203-UEW</td>\n",
       "      <td>2019-04-05</td>\n",
       "      <td>4203</td>\n",
       "      <td>2</td>\n",
       "      <td>Niagara Falls - Saturday</td>\n",
       "      <td>NF</td>\n",
       "      <td>HST</td>\n",
       "      <td>2019-04-20</td>\n",
       "      <td>1</td>\n",
       "      <td>59.0</td>\n",
       "      <td>0</td>\n",
       "      <td>59.0</td>\n",
       "      <td>105934</td>\n",
       "      <td>2</td>\n",
       "      <td>NaN</td>\n",
       "      <td>ISX Online</td>\n",
       "      <td>Male</td>\n",
       "      <td>2007-05-26</td>\n",
       "      <td>38.0</td>\n",
       "      <td>Canada</td>\n",
       "    </tr>\n",
       "    <tr>\n",
       "      <th>3</th>\n",
       "      <td>4217-2KH</td>\n",
       "      <td>2019-04-05</td>\n",
       "      <td>4217</td>\n",
       "      <td>2</td>\n",
       "      <td>ISX Sunset Boat Cruise Party (NEW BUS DEPARTUR...</td>\n",
       "      <td>BC</td>\n",
       "      <td>HST</td>\n",
       "      <td>2019-04-26</td>\n",
       "      <td>3</td>\n",
       "      <td>25.0</td>\n",
       "      <td>0</td>\n",
       "      <td>25.0</td>\n",
       "      <td>105935</td>\n",
       "      <td>2</td>\n",
       "      <td>NaN</td>\n",
       "      <td>ISX Online</td>\n",
       "      <td>Male</td>\n",
       "      <td>1987-11-10</td>\n",
       "      <td>30.0</td>\n",
       "      <td>Brazil</td>\n",
       "    </tr>\n",
       "    <tr>\n",
       "      <th>4</th>\n",
       "      <td>4217-I9I</td>\n",
       "      <td>2019-04-05</td>\n",
       "      <td>4217</td>\n",
       "      <td>2</td>\n",
       "      <td>ISX Sunset Boat Cruise Party (NEW BUS DEPARTUR...</td>\n",
       "      <td>BC</td>\n",
       "      <td>HST</td>\n",
       "      <td>2019-04-26</td>\n",
       "      <td>3</td>\n",
       "      <td>25.0</td>\n",
       "      <td>0</td>\n",
       "      <td>25.0</td>\n",
       "      <td>105936</td>\n",
       "      <td>2</td>\n",
       "      <td>NaN</td>\n",
       "      <td>ISX Online</td>\n",
       "      <td>Female</td>\n",
       "      <td>2000-06-30</td>\n",
       "      <td>30.0</td>\n",
       "      <td>Brazil</td>\n",
       "    </tr>\n",
       "  </tbody>\n",
       "</table>\n",
       "</div>"
      ],
      "text/plain": [
       "  ticketNumber       Date  tripId  ticketStatus  \\\n",
       "0     4203-E81 2019-04-05    4203             2   \n",
       "1     4203-SXF 2019-04-05    4203             2   \n",
       "2     4203-UEW 2019-04-05    4203             2   \n",
       "3     4217-2KH 2019-04-05    4217             2   \n",
       "4     4217-I9I 2019-04-05    4217             2   \n",
       "\n",
       "                                            tripName tripAbbreviation  \\\n",
       "0                           Niagara Falls - Saturday               NF   \n",
       "1                           Niagara Falls - Saturday               NF   \n",
       "2                           Niagara Falls - Saturday               NF   \n",
       "3  ISX Sunset Boat Cruise Party (NEW BUS DEPARTUR...               BC   \n",
       "4  ISX Sunset Boat Cruise Party (NEW BUS DEPARTUR...               BC   \n",
       "\n",
       "  taxAbbreviation   startDate  tripCategoryId  GrossTicket  Commission  \\\n",
       "0             HST  2019-04-20               1         59.0           0   \n",
       "1             HST  2019-04-20               1         59.0           0   \n",
       "2             HST  2019-04-20               1         59.0           0   \n",
       "3             HST  2019-04-26               3         25.0           0   \n",
       "4             HST  2019-04-26               3         25.0           0   \n",
       "\n",
       "   NetTicket  invoiceId  invoiceStatus  groupId Sales Office Invoice  gender  \\\n",
       "0       59.0     105932              2      NaN           ISX Online  Female   \n",
       "1       59.0     105933              2      NaN           ISX Online  Female   \n",
       "2       59.0     105934              2      NaN           ISX Online    Male   \n",
       "3       25.0     105935              2      NaN           ISX Online    Male   \n",
       "4       25.0     105936              2      NaN           ISX Online  Female   \n",
       "\n",
       "  dateOfBirth  countryOfOriginId countryName  \n",
       "0  1986-10-09               73.0      France  \n",
       "1  1997-09-07               73.0      France  \n",
       "2  2007-05-26               38.0      Canada  \n",
       "3  1987-11-10               30.0      Brazil  \n",
       "4  2000-06-30               30.0      Brazil  "
      ]
     },
     "execution_count": 3,
     "metadata": {},
     "output_type": "execute_result"
    }
   ],
   "source": [
    "sa = pd.read_csv('data/sales.csv', parse_dates=[1]) \n",
    "sa.head()"
   ]
  },
  {
   "cell_type": "code",
   "execution_count": 4,
   "metadata": {},
   "outputs": [
    {
     "data": {
      "text/plain": [
       "RangeIndex(start=0, stop=3423, step=1)"
      ]
     },
     "execution_count": 4,
     "metadata": {},
     "output_type": "execute_result"
    }
   ],
   "source": [
    "goo.index"
   ]
  },
  {
   "cell_type": "code",
   "execution_count": 5,
   "metadata": {},
   "outputs": [
    {
     "data": {
      "text/plain": [
       "RangeIndex(start=0, stop=899, step=1)"
      ]
     },
     "execution_count": 5,
     "metadata": {},
     "output_type": "execute_result"
    }
   ],
   "source": [
    "sa.index"
   ]
  },
  {
   "cell_type": "code",
   "execution_count": 6,
   "metadata": {},
   "outputs": [
    {
     "data": {
      "text/plain": [
       "Country                                     object\n",
       "Date                                datetime64[ns]\n",
       "Users                                        int64\n",
       "New Users                                    int64\n",
       "Sessions                                     int64\n",
       "Bounce Rate                                float64\n",
       "Pages / Session                            float64\n",
       "Avg. Session Duration                      float64\n",
       "Booking (Goal 1 Conversion Rate)           float64\n",
       "Booking (Goal 1 Completions)                 int64\n",
       "Booking (Goal 1 Value)                       int64\n",
       "dtype: object"
      ]
     },
     "execution_count": 6,
     "metadata": {},
     "output_type": "execute_result"
    }
   ],
   "source": [
    "goo.dtypes"
   ]
  },
  {
   "cell_type": "code",
   "execution_count": 7,
   "metadata": {},
   "outputs": [
    {
     "data": {
      "text/plain": [
       "ticketNumber                    object\n",
       "Date                    datetime64[ns]\n",
       "tripId                           int64\n",
       "ticketStatus                     int64\n",
       "tripName                        object\n",
       "tripAbbreviation                object\n",
       "taxAbbreviation                 object\n",
       "startDate                       object\n",
       "tripCategoryId                   int64\n",
       "GrossTicket                    float64\n",
       "Commission                       int64\n",
       "NetTicket                      float64\n",
       "invoiceId                        int64\n",
       "invoiceStatus                    int64\n",
       "groupId                        float64\n",
       "Sales Office Invoice            object\n",
       "gender                          object\n",
       "dateOfBirth                     object\n",
       "countryOfOriginId              float64\n",
       "countryName                     object\n",
       "dtype: object"
      ]
     },
     "execution_count": 7,
     "metadata": {},
     "output_type": "execute_result"
    }
   ],
   "source": [
    "sa.dtypes"
   ]
  },
  {
   "cell_type": "code",
   "execution_count": 8,
   "metadata": {},
   "outputs": [],
   "source": [
    "sa_original = sa.copy() #copy to keep original"
   ]
  },
  {
   "cell_type": "code",
   "execution_count": 9,
   "metadata": {},
   "outputs": [],
   "source": [
    "goo_original = goo.copy() #copy to keep original"
   ]
  },
  {
   "cell_type": "markdown",
   "metadata": {},
   "source": [
    "## Organizing and Cleaning Data"
   ]
  },
  {
   "cell_type": "code",
   "execution_count": 10,
   "metadata": {},
   "outputs": [
    {
     "data": {
      "text/html": [
       "<div>\n",
       "<style scoped>\n",
       "    .dataframe tbody tr th:only-of-type {\n",
       "        vertical-align: middle;\n",
       "    }\n",
       "\n",
       "    .dataframe tbody tr th {\n",
       "        vertical-align: top;\n",
       "    }\n",
       "\n",
       "    .dataframe thead th {\n",
       "        text-align: right;\n",
       "    }\n",
       "</style>\n",
       "<table border=\"1\" class=\"dataframe\">\n",
       "  <thead>\n",
       "    <tr style=\"text-align: right;\">\n",
       "      <th></th>\n",
       "      <th>Country</th>\n",
       "      <th>Date</th>\n",
       "      <th>Users</th>\n",
       "      <th>New Users</th>\n",
       "      <th>Sessions</th>\n",
       "      <th>Bounce Rate</th>\n",
       "      <th>Pages / Session</th>\n",
       "      <th>Avg. Session Duration</th>\n",
       "      <th>Booking (Goal 1 Conversion Rate)</th>\n",
       "      <th>Booking (Goal 1 Completions)</th>\n",
       "      <th>Booking (Goal 1 Value)</th>\n",
       "    </tr>\n",
       "  </thead>\n",
       "  <tbody>\n",
       "    <tr>\n",
       "      <th>2886</th>\n",
       "      <td>Panama</td>\n",
       "      <td>2019-04-05</td>\n",
       "      <td>1</td>\n",
       "      <td>1</td>\n",
       "      <td>1</td>\n",
       "      <td>0.0000</td>\n",
       "      <td>2.00</td>\n",
       "      <td>159.00</td>\n",
       "      <td>0.0</td>\n",
       "      <td>0</td>\n",
       "      <td>0</td>\n",
       "    </tr>\n",
       "    <tr>\n",
       "      <th>2560</th>\n",
       "      <td>Japan</td>\n",
       "      <td>2019-04-05</td>\n",
       "      <td>1</td>\n",
       "      <td>1</td>\n",
       "      <td>1</td>\n",
       "      <td>1.0000</td>\n",
       "      <td>1.00</td>\n",
       "      <td>0.00</td>\n",
       "      <td>0.0</td>\n",
       "      <td>0</td>\n",
       "      <td>0</td>\n",
       "    </tr>\n",
       "    <tr>\n",
       "      <th>1909</th>\n",
       "      <td>Brazil</td>\n",
       "      <td>2019-04-05</td>\n",
       "      <td>1</td>\n",
       "      <td>1</td>\n",
       "      <td>1</td>\n",
       "      <td>1.0000</td>\n",
       "      <td>1.00</td>\n",
       "      <td>0.00</td>\n",
       "      <td>0.0</td>\n",
       "      <td>0</td>\n",
       "      <td>0</td>\n",
       "    </tr>\n",
       "    <tr>\n",
       "      <th>1740</th>\n",
       "      <td>United States</td>\n",
       "      <td>2019-04-05</td>\n",
       "      <td>2</td>\n",
       "      <td>2</td>\n",
       "      <td>2</td>\n",
       "      <td>0.5000</td>\n",
       "      <td>5.50</td>\n",
       "      <td>949.50</td>\n",
       "      <td>0.0</td>\n",
       "      <td>0</td>\n",
       "      <td>0</td>\n",
       "    </tr>\n",
       "    <tr>\n",
       "      <th>463</th>\n",
       "      <td>Canada</td>\n",
       "      <td>2019-04-05</td>\n",
       "      <td>21</td>\n",
       "      <td>20</td>\n",
       "      <td>22</td>\n",
       "      <td>0.5455</td>\n",
       "      <td>4.23</td>\n",
       "      <td>182.32</td>\n",
       "      <td>0.0</td>\n",
       "      <td>0</td>\n",
       "      <td>0</td>\n",
       "    </tr>\n",
       "  </tbody>\n",
       "</table>\n",
       "</div>"
      ],
      "text/plain": [
       "            Country       Date  Users  New Users  Sessions  Bounce Rate  \\\n",
       "2886         Panama 2019-04-05      1          1         1       0.0000   \n",
       "2560          Japan 2019-04-05      1          1         1       1.0000   \n",
       "1909         Brazil 2019-04-05      1          1         1       1.0000   \n",
       "1740  United States 2019-04-05      2          2         2       0.5000   \n",
       "463          Canada 2019-04-05     21         20        22       0.5455   \n",
       "\n",
       "      Pages / Session  Avg. Session Duration  \\\n",
       "2886             2.00                 159.00   \n",
       "2560             1.00                   0.00   \n",
       "1909             1.00                   0.00   \n",
       "1740             5.50                 949.50   \n",
       "463              4.23                 182.32   \n",
       "\n",
       "      Booking (Goal 1 Conversion Rate)  Booking (Goal 1 Completions)  \\\n",
       "2886                               0.0                             0   \n",
       "2560                               0.0                             0   \n",
       "1909                               0.0                             0   \n",
       "1740                               0.0                             0   \n",
       "463                                0.0                             0   \n",
       "\n",
       "      Booking (Goal 1 Value)  \n",
       "2886                       0  \n",
       "2560                       0  \n",
       "1909                       0  \n",
       "1740                       0  \n",
       "463                        0  "
      ]
     },
     "execution_count": 10,
     "metadata": {},
     "output_type": "execute_result"
    }
   ],
   "source": [
    "goo.sort_values('Date', ascending=True, inplace=True) #sort by date\n",
    "goo.head()"
   ]
  },
  {
   "cell_type": "code",
   "execution_count": 11,
   "metadata": {
    "scrolled": true
   },
   "outputs": [
    {
     "data": {
      "text/html": [
       "<div>\n",
       "<style scoped>\n",
       "    .dataframe tbody tr th:only-of-type {\n",
       "        vertical-align: middle;\n",
       "    }\n",
       "\n",
       "    .dataframe tbody tr th {\n",
       "        vertical-align: top;\n",
       "    }\n",
       "\n",
       "    .dataframe thead th {\n",
       "        text-align: right;\n",
       "    }\n",
       "</style>\n",
       "<table border=\"1\" class=\"dataframe\">\n",
       "  <thead>\n",
       "    <tr style=\"text-align: right;\">\n",
       "      <th></th>\n",
       "      <th>Country</th>\n",
       "      <th>Date</th>\n",
       "      <th>Users</th>\n",
       "      <th>New Users</th>\n",
       "      <th>Sessions</th>\n",
       "      <th>Bounce Rate</th>\n",
       "      <th>Pages / Session</th>\n",
       "      <th>Avg. Session Duration</th>\n",
       "      <th>Booking (Goal 1 Conversion Rate)</th>\n",
       "      <th>Booking (Goal 1 Completions)</th>\n",
       "      <th>Booking (Goal 1 Value)</th>\n",
       "    </tr>\n",
       "  </thead>\n",
       "  <tbody>\n",
       "    <tr>\n",
       "      <th>0</th>\n",
       "      <td>Panama</td>\n",
       "      <td>2019-04-05</td>\n",
       "      <td>1</td>\n",
       "      <td>1</td>\n",
       "      <td>1</td>\n",
       "      <td>0.0000</td>\n",
       "      <td>2.00</td>\n",
       "      <td>159.00</td>\n",
       "      <td>0.0</td>\n",
       "      <td>0</td>\n",
       "      <td>0</td>\n",
       "    </tr>\n",
       "    <tr>\n",
       "      <th>1</th>\n",
       "      <td>Japan</td>\n",
       "      <td>2019-04-05</td>\n",
       "      <td>1</td>\n",
       "      <td>1</td>\n",
       "      <td>1</td>\n",
       "      <td>1.0000</td>\n",
       "      <td>1.00</td>\n",
       "      <td>0.00</td>\n",
       "      <td>0.0</td>\n",
       "      <td>0</td>\n",
       "      <td>0</td>\n",
       "    </tr>\n",
       "    <tr>\n",
       "      <th>2</th>\n",
       "      <td>Brazil</td>\n",
       "      <td>2019-04-05</td>\n",
       "      <td>1</td>\n",
       "      <td>1</td>\n",
       "      <td>1</td>\n",
       "      <td>1.0000</td>\n",
       "      <td>1.00</td>\n",
       "      <td>0.00</td>\n",
       "      <td>0.0</td>\n",
       "      <td>0</td>\n",
       "      <td>0</td>\n",
       "    </tr>\n",
       "    <tr>\n",
       "      <th>3</th>\n",
       "      <td>United States</td>\n",
       "      <td>2019-04-05</td>\n",
       "      <td>2</td>\n",
       "      <td>2</td>\n",
       "      <td>2</td>\n",
       "      <td>0.5000</td>\n",
       "      <td>5.50</td>\n",
       "      <td>949.50</td>\n",
       "      <td>0.0</td>\n",
       "      <td>0</td>\n",
       "      <td>0</td>\n",
       "    </tr>\n",
       "    <tr>\n",
       "      <th>4</th>\n",
       "      <td>Canada</td>\n",
       "      <td>2019-04-05</td>\n",
       "      <td>21</td>\n",
       "      <td>20</td>\n",
       "      <td>22</td>\n",
       "      <td>0.5455</td>\n",
       "      <td>4.23</td>\n",
       "      <td>182.32</td>\n",
       "      <td>0.0</td>\n",
       "      <td>0</td>\n",
       "      <td>0</td>\n",
       "    </tr>\n",
       "  </tbody>\n",
       "</table>\n",
       "</div>"
      ],
      "text/plain": [
       "         Country       Date  Users  New Users  Sessions  Bounce Rate  \\\n",
       "0         Panama 2019-04-05      1          1         1       0.0000   \n",
       "1          Japan 2019-04-05      1          1         1       1.0000   \n",
       "2         Brazil 2019-04-05      1          1         1       1.0000   \n",
       "3  United States 2019-04-05      2          2         2       0.5000   \n",
       "4         Canada 2019-04-05     21         20        22       0.5455   \n",
       "\n",
       "   Pages / Session  Avg. Session Duration  Booking (Goal 1 Conversion Rate)  \\\n",
       "0             2.00                 159.00                               0.0   \n",
       "1             1.00                   0.00                               0.0   \n",
       "2             1.00                   0.00                               0.0   \n",
       "3             5.50                 949.50                               0.0   \n",
       "4             4.23                 182.32                               0.0   \n",
       "\n",
       "   Booking (Goal 1 Completions)  Booking (Goal 1 Value)  \n",
       "0                             0                       0  \n",
       "1                             0                       0  \n",
       "2                             0                       0  \n",
       "3                             0                       0  \n",
       "4                             0                       0  "
      ]
     },
     "execution_count": 11,
     "metadata": {},
     "output_type": "execute_result"
    }
   ],
   "source": [
    "goo = goo.reset_index(drop=True) #reset index...\n",
    "goo.head()"
   ]
  },
  {
   "cell_type": "code",
   "execution_count": 12,
   "metadata": {},
   "outputs": [
    {
     "data": {
      "text/html": [
       "<div>\n",
       "<style scoped>\n",
       "    .dataframe tbody tr th:only-of-type {\n",
       "        vertical-align: middle;\n",
       "    }\n",
       "\n",
       "    .dataframe tbody tr th {\n",
       "        vertical-align: top;\n",
       "    }\n",
       "\n",
       "    .dataframe thead th {\n",
       "        text-align: right;\n",
       "    }\n",
       "</style>\n",
       "<table border=\"1\" class=\"dataframe\">\n",
       "  <thead>\n",
       "    <tr style=\"text-align: right;\">\n",
       "      <th></th>\n",
       "      <th>Country</th>\n",
       "      <th>Date</th>\n",
       "      <th>Users</th>\n",
       "      <th>New Users</th>\n",
       "      <th>Sessions</th>\n",
       "    </tr>\n",
       "  </thead>\n",
       "  <tbody>\n",
       "    <tr>\n",
       "      <th>0</th>\n",
       "      <td>Panama</td>\n",
       "      <td>2019-04-05</td>\n",
       "      <td>1</td>\n",
       "      <td>1</td>\n",
       "      <td>1</td>\n",
       "    </tr>\n",
       "    <tr>\n",
       "      <th>1</th>\n",
       "      <td>Japan</td>\n",
       "      <td>2019-04-05</td>\n",
       "      <td>1</td>\n",
       "      <td>1</td>\n",
       "      <td>1</td>\n",
       "    </tr>\n",
       "    <tr>\n",
       "      <th>2</th>\n",
       "      <td>Brazil</td>\n",
       "      <td>2019-04-05</td>\n",
       "      <td>1</td>\n",
       "      <td>1</td>\n",
       "      <td>1</td>\n",
       "    </tr>\n",
       "    <tr>\n",
       "      <th>3</th>\n",
       "      <td>United States</td>\n",
       "      <td>2019-04-05</td>\n",
       "      <td>2</td>\n",
       "      <td>2</td>\n",
       "      <td>2</td>\n",
       "    </tr>\n",
       "    <tr>\n",
       "      <th>4</th>\n",
       "      <td>Canada</td>\n",
       "      <td>2019-04-05</td>\n",
       "      <td>21</td>\n",
       "      <td>20</td>\n",
       "      <td>22</td>\n",
       "    </tr>\n",
       "  </tbody>\n",
       "</table>\n",
       "</div>"
      ],
      "text/plain": [
       "         Country       Date  Users  New Users  Sessions\n",
       "0         Panama 2019-04-05      1          1         1\n",
       "1          Japan 2019-04-05      1          1         1\n",
       "2         Brazil 2019-04-05      1          1         1\n",
       "3  United States 2019-04-05      2          2         2\n",
       "4         Canada 2019-04-05     21         20        22"
      ]
     },
     "execution_count": 12,
     "metadata": {},
     "output_type": "execute_result"
    }
   ],
   "source": [
    "#drop unecessary columns\n",
    "goo.drop(['Bounce Rate','Pages / Session','Avg. Session Duration','Booking (Goal 1 Conversion Rate)','Booking (Goal 1 Completions)','Booking (Goal 1 Value)'],axis=1, inplace=True)\n",
    "goo.head()"
   ]
  },
  {
   "cell_type": "code",
   "execution_count": 13,
   "metadata": {},
   "outputs": [
    {
     "data": {
      "text/html": [
       "<div>\n",
       "<style scoped>\n",
       "    .dataframe tbody tr th:only-of-type {\n",
       "        vertical-align: middle;\n",
       "    }\n",
       "\n",
       "    .dataframe tbody tr th {\n",
       "        vertical-align: top;\n",
       "    }\n",
       "\n",
       "    .dataframe thead th {\n",
       "        text-align: right;\n",
       "    }\n",
       "</style>\n",
       "<table border=\"1\" class=\"dataframe\">\n",
       "  <thead>\n",
       "    <tr style=\"text-align: right;\">\n",
       "      <th></th>\n",
       "      <th>Country</th>\n",
       "      <th>Date</th>\n",
       "      <th>Users</th>\n",
       "    </tr>\n",
       "  </thead>\n",
       "  <tbody>\n",
       "    <tr>\n",
       "      <th>0</th>\n",
       "      <td>Panama</td>\n",
       "      <td>2019-04-05</td>\n",
       "      <td>1</td>\n",
       "    </tr>\n",
       "    <tr>\n",
       "      <th>1</th>\n",
       "      <td>Japan</td>\n",
       "      <td>2019-04-05</td>\n",
       "      <td>1</td>\n",
       "    </tr>\n",
       "    <tr>\n",
       "      <th>2</th>\n",
       "      <td>Brazil</td>\n",
       "      <td>2019-04-05</td>\n",
       "      <td>1</td>\n",
       "    </tr>\n",
       "    <tr>\n",
       "      <th>3</th>\n",
       "      <td>United States</td>\n",
       "      <td>2019-04-05</td>\n",
       "      <td>2</td>\n",
       "    </tr>\n",
       "    <tr>\n",
       "      <th>4</th>\n",
       "      <td>Canada</td>\n",
       "      <td>2019-04-05</td>\n",
       "      <td>21</td>\n",
       "    </tr>\n",
       "  </tbody>\n",
       "</table>\n",
       "</div>"
      ],
      "text/plain": [
       "         Country       Date  Users\n",
       "0         Panama 2019-04-05      1\n",
       "1          Japan 2019-04-05      1\n",
       "2         Brazil 2019-04-05      1\n",
       "3  United States 2019-04-05      2\n",
       "4         Canada 2019-04-05     21"
      ]
     },
     "execution_count": 13,
     "metadata": {},
     "output_type": "execute_result"
    }
   ],
   "source": [
    "goo.drop(['New Users','Sessions'],axis=1, inplace=True)\n",
    "goo.head()"
   ]
  },
  {
   "cell_type": "code",
   "execution_count": 14,
   "metadata": {},
   "outputs": [
    {
     "data": {
      "text/html": [
       "<div>\n",
       "<style scoped>\n",
       "    .dataframe tbody tr th:only-of-type {\n",
       "        vertical-align: middle;\n",
       "    }\n",
       "\n",
       "    .dataframe tbody tr th {\n",
       "        vertical-align: top;\n",
       "    }\n",
       "\n",
       "    .dataframe thead th {\n",
       "        text-align: right;\n",
       "    }\n",
       "</style>\n",
       "<table border=\"1\" class=\"dataframe\">\n",
       "  <thead>\n",
       "    <tr style=\"text-align: right;\">\n",
       "      <th></th>\n",
       "      <th>Date</th>\n",
       "      <th>NetTicket</th>\n",
       "      <th>countryName</th>\n",
       "    </tr>\n",
       "  </thead>\n",
       "  <tbody>\n",
       "    <tr>\n",
       "      <th>0</th>\n",
       "      <td>2019-04-05</td>\n",
       "      <td>59.0</td>\n",
       "      <td>France</td>\n",
       "    </tr>\n",
       "    <tr>\n",
       "      <th>1</th>\n",
       "      <td>2019-04-05</td>\n",
       "      <td>59.0</td>\n",
       "      <td>France</td>\n",
       "    </tr>\n",
       "    <tr>\n",
       "      <th>2</th>\n",
       "      <td>2019-04-05</td>\n",
       "      <td>59.0</td>\n",
       "      <td>Canada</td>\n",
       "    </tr>\n",
       "    <tr>\n",
       "      <th>3</th>\n",
       "      <td>2019-04-05</td>\n",
       "      <td>25.0</td>\n",
       "      <td>Brazil</td>\n",
       "    </tr>\n",
       "    <tr>\n",
       "      <th>4</th>\n",
       "      <td>2019-04-05</td>\n",
       "      <td>25.0</td>\n",
       "      <td>Brazil</td>\n",
       "    </tr>\n",
       "  </tbody>\n",
       "</table>\n",
       "</div>"
      ],
      "text/plain": [
       "        Date  NetTicket countryName\n",
       "0 2019-04-05       59.0      France\n",
       "1 2019-04-05       59.0      France\n",
       "2 2019-04-05       59.0      Canada\n",
       "3 2019-04-05       25.0      Brazil\n",
       "4 2019-04-05       25.0      Brazil"
      ]
     },
     "execution_count": 14,
     "metadata": {},
     "output_type": "execute_result"
    }
   ],
   "source": [
    "#drop unecessary columns of the second file\n",
    "sa.drop(['ticketNumber','tripId','ticketStatus','tripName','tripCategoryId','invoiceId','invoiceStatus','groupId','Sales Office Invoice','tripAbbreviation','taxAbbreviation','startDate','GrossTicket','Commission','gender','dateOfBirth','countryOfOriginId'], axis=1, inplace=True)\n",
    "sa.head()"
   ]
  },
  {
   "cell_type": "code",
   "execution_count": 15,
   "metadata": {
    "scrolled": true
   },
   "outputs": [
    {
     "data": {
      "text/html": [
       "<div>\n",
       "<style scoped>\n",
       "    .dataframe tbody tr th:only-of-type {\n",
       "        vertical-align: middle;\n",
       "    }\n",
       "\n",
       "    .dataframe tbody tr th {\n",
       "        vertical-align: top;\n",
       "    }\n",
       "\n",
       "    .dataframe thead th {\n",
       "        text-align: right;\n",
       "    }\n",
       "</style>\n",
       "<table border=\"1\" class=\"dataframe\">\n",
       "  <thead>\n",
       "    <tr style=\"text-align: right;\">\n",
       "      <th></th>\n",
       "      <th>Date</th>\n",
       "      <th>NetTicket</th>\n",
       "      <th>countryName</th>\n",
       "    </tr>\n",
       "  </thead>\n",
       "  <tbody>\n",
       "    <tr>\n",
       "      <th>0</th>\n",
       "      <td>2019-04-05</td>\n",
       "      <td>59.0</td>\n",
       "      <td>France</td>\n",
       "    </tr>\n",
       "    <tr>\n",
       "      <th>1</th>\n",
       "      <td>2019-04-05</td>\n",
       "      <td>59.0</td>\n",
       "      <td>France</td>\n",
       "    </tr>\n",
       "    <tr>\n",
       "      <th>2</th>\n",
       "      <td>2019-04-05</td>\n",
       "      <td>59.0</td>\n",
       "      <td>Canada</td>\n",
       "    </tr>\n",
       "    <tr>\n",
       "      <th>3</th>\n",
       "      <td>2019-04-05</td>\n",
       "      <td>25.0</td>\n",
       "      <td>Brazil</td>\n",
       "    </tr>\n",
       "    <tr>\n",
       "      <th>4</th>\n",
       "      <td>2019-04-05</td>\n",
       "      <td>25.0</td>\n",
       "      <td>Brazil</td>\n",
       "    </tr>\n",
       "  </tbody>\n",
       "</table>\n",
       "</div>"
      ],
      "text/plain": [
       "        Date  NetTicket countryName\n",
       "0 2019-04-05       59.0      France\n",
       "1 2019-04-05       59.0      France\n",
       "2 2019-04-05       59.0      Canada\n",
       "3 2019-04-05       25.0      Brazil\n",
       "4 2019-04-05       25.0      Brazil"
      ]
     },
     "execution_count": 15,
     "metadata": {},
     "output_type": "execute_result"
    }
   ],
   "source": [
    "sa_drop = sa\n",
    "sa_drop.head()"
   ]
  },
  {
   "cell_type": "markdown",
   "metadata": {},
   "source": [
    "*Grouping columns - Sales Dataset*"
   ]
  },
  {
   "cell_type": "code",
   "execution_count": 16,
   "metadata": {},
   "outputs": [
    {
     "data": {
      "text/plain": [
       "Date        countryName               \n",
       "2019-04-05  Colombia                      8\n",
       "            Brazil                        4\n",
       "            France                        2\n",
       "            Canada                        1\n",
       "            Japan                         1\n",
       "            Mexico                        1\n",
       "2019-04-07  Canada                        1\n",
       "            Chile                         1\n",
       "            Japan                         1\n",
       "            United States                 1\n",
       "2019-04-08  Colombia                      1\n",
       "            Japan                         1\n",
       "            Panama                        1\n",
       "2019-04-09  India                         2\n",
       "            Brazil                        1\n",
       "2019-04-10  Canada                        1\n",
       "            Italy                         1\n",
       "2019-04-12  Canada                        2\n",
       "            Bangladesh                    1\n",
       "            Colombia                      1\n",
       "            Korea (South), Republic of    1\n",
       "            Mexico                        1\n",
       "2019-04-13  Brazil                        1\n",
       "            India                         1\n",
       "            Korea (South), Republic of    1\n",
       "            Turkey                        1\n",
       "            Ukraine                       1\n",
       "2019-04-14  Taiwan                        3\n",
       "            Brazil                        1\n",
       "            Canada                        1\n",
       "                                         ..\n",
       "2019-09-05  Japan                         3\n",
       "            Mexico                        3\n",
       "            Brazil                        1\n",
       "2019-09-06  France                        2\n",
       "            Germany                       2\n",
       "            United Kingdom                2\n",
       "2019-09-07  Brazil                        1\n",
       "            Japan                         1\n",
       "2019-09-08  Japan                         4\n",
       "            Canada                        2\n",
       "            Hong Kong                     2\n",
       "            Brazil                        1\n",
       "2019-09-09  Germany                       2\n",
       "            Singapore                     2\n",
       "            Andorra                       1\n",
       "            Peru                          1\n",
       "            Spain                         1\n",
       "2019-09-10  Canada                        3\n",
       "            Korea (South), Republic of    1\n",
       "            Panama                        1\n",
       "            Switzerland                   1\n",
       "2019-09-11  Germany                       2\n",
       "2019-09-12  Japan                         3\n",
       "            Austria                       1\n",
       "            Brazil                        1\n",
       "            Portugal                      1\n",
       "            Spain                         1\n",
       "2019-09-13  Mexico                        2\n",
       "            Ecuador                       1\n",
       "            Japan                         1\n",
       "Name: countryName, Length: 492, dtype: int64"
      ]
     },
     "execution_count": 16,
     "metadata": {},
     "output_type": "execute_result"
    }
   ],
   "source": [
    "sa2=sa_drop.groupby('Date')['countryName'].value_counts()\n",
    "sa2"
   ]
  },
  {
   "cell_type": "code",
   "execution_count": 17,
   "metadata": {},
   "outputs": [
    {
     "data": {
      "text/html": [
       "<div>\n",
       "<style scoped>\n",
       "    .dataframe tbody tr th:only-of-type {\n",
       "        vertical-align: middle;\n",
       "    }\n",
       "\n",
       "    .dataframe tbody tr th {\n",
       "        vertical-align: top;\n",
       "    }\n",
       "\n",
       "    .dataframe thead th {\n",
       "        text-align: right;\n",
       "    }\n",
       "</style>\n",
       "<table border=\"1\" class=\"dataframe\">\n",
       "  <thead>\n",
       "    <tr style=\"text-align: right;\">\n",
       "      <th></th>\n",
       "      <th></th>\n",
       "      <th>NetTicket</th>\n",
       "    </tr>\n",
       "    <tr>\n",
       "      <th>Date</th>\n",
       "      <th>countryName</th>\n",
       "      <th></th>\n",
       "    </tr>\n",
       "  </thead>\n",
       "  <tbody>\n",
       "    <tr>\n",
       "      <th rowspan=\"6\" valign=\"top\">2019-04-05</th>\n",
       "      <th>Brazil</th>\n",
       "      <td>4</td>\n",
       "    </tr>\n",
       "    <tr>\n",
       "      <th>Canada</th>\n",
       "      <td>1</td>\n",
       "    </tr>\n",
       "    <tr>\n",
       "      <th>Colombia</th>\n",
       "      <td>8</td>\n",
       "    </tr>\n",
       "    <tr>\n",
       "      <th>France</th>\n",
       "      <td>2</td>\n",
       "    </tr>\n",
       "    <tr>\n",
       "      <th>Japan</th>\n",
       "      <td>1</td>\n",
       "    </tr>\n",
       "    <tr>\n",
       "      <th>Mexico</th>\n",
       "      <td>1</td>\n",
       "    </tr>\n",
       "    <tr>\n",
       "      <th rowspan=\"4\" valign=\"top\">2019-04-07</th>\n",
       "      <th>Canada</th>\n",
       "      <td>1</td>\n",
       "    </tr>\n",
       "    <tr>\n",
       "      <th>Chile</th>\n",
       "      <td>1</td>\n",
       "    </tr>\n",
       "    <tr>\n",
       "      <th>Japan</th>\n",
       "      <td>1</td>\n",
       "    </tr>\n",
       "    <tr>\n",
       "      <th>United States</th>\n",
       "      <td>1</td>\n",
       "    </tr>\n",
       "    <tr>\n",
       "      <th rowspan=\"3\" valign=\"top\">2019-04-08</th>\n",
       "      <th>Colombia</th>\n",
       "      <td>1</td>\n",
       "    </tr>\n",
       "    <tr>\n",
       "      <th>Japan</th>\n",
       "      <td>1</td>\n",
       "    </tr>\n",
       "    <tr>\n",
       "      <th>Panama</th>\n",
       "      <td>1</td>\n",
       "    </tr>\n",
       "    <tr>\n",
       "      <th rowspan=\"2\" valign=\"top\">2019-04-09</th>\n",
       "      <th>Brazil</th>\n",
       "      <td>1</td>\n",
       "    </tr>\n",
       "    <tr>\n",
       "      <th>India</th>\n",
       "      <td>2</td>\n",
       "    </tr>\n",
       "    <tr>\n",
       "      <th rowspan=\"2\" valign=\"top\">2019-04-10</th>\n",
       "      <th>Canada</th>\n",
       "      <td>1</td>\n",
       "    </tr>\n",
       "    <tr>\n",
       "      <th>Italy</th>\n",
       "      <td>1</td>\n",
       "    </tr>\n",
       "    <tr>\n",
       "      <th rowspan=\"5\" valign=\"top\">2019-04-12</th>\n",
       "      <th>Bangladesh</th>\n",
       "      <td>1</td>\n",
       "    </tr>\n",
       "    <tr>\n",
       "      <th>Canada</th>\n",
       "      <td>2</td>\n",
       "    </tr>\n",
       "    <tr>\n",
       "      <th>Colombia</th>\n",
       "      <td>1</td>\n",
       "    </tr>\n",
       "    <tr>\n",
       "      <th>Korea (South), Republic of</th>\n",
       "      <td>1</td>\n",
       "    </tr>\n",
       "    <tr>\n",
       "      <th>Mexico</th>\n",
       "      <td>1</td>\n",
       "    </tr>\n",
       "    <tr>\n",
       "      <th rowspan=\"5\" valign=\"top\">2019-04-13</th>\n",
       "      <th>Brazil</th>\n",
       "      <td>1</td>\n",
       "    </tr>\n",
       "    <tr>\n",
       "      <th>India</th>\n",
       "      <td>1</td>\n",
       "    </tr>\n",
       "    <tr>\n",
       "      <th>Korea (South), Republic of</th>\n",
       "      <td>1</td>\n",
       "    </tr>\n",
       "    <tr>\n",
       "      <th>Turkey</th>\n",
       "      <td>1</td>\n",
       "    </tr>\n",
       "    <tr>\n",
       "      <th>Ukraine</th>\n",
       "      <td>1</td>\n",
       "    </tr>\n",
       "    <tr>\n",
       "      <th rowspan=\"3\" valign=\"top\">2019-04-14</th>\n",
       "      <th>Brazil</th>\n",
       "      <td>1</td>\n",
       "    </tr>\n",
       "    <tr>\n",
       "      <th>Canada</th>\n",
       "      <td>1</td>\n",
       "    </tr>\n",
       "    <tr>\n",
       "      <th>Taiwan</th>\n",
       "      <td>3</td>\n",
       "    </tr>\n",
       "    <tr>\n",
       "      <th>...</th>\n",
       "      <th>...</th>\n",
       "      <td>...</td>\n",
       "    </tr>\n",
       "    <tr>\n",
       "      <th rowspan=\"3\" valign=\"top\">2019-09-05</th>\n",
       "      <th>Brazil</th>\n",
       "      <td>1</td>\n",
       "    </tr>\n",
       "    <tr>\n",
       "      <th>Japan</th>\n",
       "      <td>3</td>\n",
       "    </tr>\n",
       "    <tr>\n",
       "      <th>Mexico</th>\n",
       "      <td>3</td>\n",
       "    </tr>\n",
       "    <tr>\n",
       "      <th rowspan=\"3\" valign=\"top\">2019-09-06</th>\n",
       "      <th>France</th>\n",
       "      <td>2</td>\n",
       "    </tr>\n",
       "    <tr>\n",
       "      <th>Germany</th>\n",
       "      <td>2</td>\n",
       "    </tr>\n",
       "    <tr>\n",
       "      <th>United Kingdom</th>\n",
       "      <td>2</td>\n",
       "    </tr>\n",
       "    <tr>\n",
       "      <th rowspan=\"2\" valign=\"top\">2019-09-07</th>\n",
       "      <th>Brazil</th>\n",
       "      <td>1</td>\n",
       "    </tr>\n",
       "    <tr>\n",
       "      <th>Japan</th>\n",
       "      <td>1</td>\n",
       "    </tr>\n",
       "    <tr>\n",
       "      <th rowspan=\"4\" valign=\"top\">2019-09-08</th>\n",
       "      <th>Brazil</th>\n",
       "      <td>1</td>\n",
       "    </tr>\n",
       "    <tr>\n",
       "      <th>Canada</th>\n",
       "      <td>2</td>\n",
       "    </tr>\n",
       "    <tr>\n",
       "      <th>Hong Kong</th>\n",
       "      <td>2</td>\n",
       "    </tr>\n",
       "    <tr>\n",
       "      <th>Japan</th>\n",
       "      <td>4</td>\n",
       "    </tr>\n",
       "    <tr>\n",
       "      <th rowspan=\"5\" valign=\"top\">2019-09-09</th>\n",
       "      <th>Andorra</th>\n",
       "      <td>1</td>\n",
       "    </tr>\n",
       "    <tr>\n",
       "      <th>Germany</th>\n",
       "      <td>2</td>\n",
       "    </tr>\n",
       "    <tr>\n",
       "      <th>Peru</th>\n",
       "      <td>1</td>\n",
       "    </tr>\n",
       "    <tr>\n",
       "      <th>Singapore</th>\n",
       "      <td>2</td>\n",
       "    </tr>\n",
       "    <tr>\n",
       "      <th>Spain</th>\n",
       "      <td>1</td>\n",
       "    </tr>\n",
       "    <tr>\n",
       "      <th rowspan=\"4\" valign=\"top\">2019-09-10</th>\n",
       "      <th>Canada</th>\n",
       "      <td>3</td>\n",
       "    </tr>\n",
       "    <tr>\n",
       "      <th>Korea (South), Republic of</th>\n",
       "      <td>1</td>\n",
       "    </tr>\n",
       "    <tr>\n",
       "      <th>Panama</th>\n",
       "      <td>1</td>\n",
       "    </tr>\n",
       "    <tr>\n",
       "      <th>Switzerland</th>\n",
       "      <td>1</td>\n",
       "    </tr>\n",
       "    <tr>\n",
       "      <th>2019-09-11</th>\n",
       "      <th>Germany</th>\n",
       "      <td>2</td>\n",
       "    </tr>\n",
       "    <tr>\n",
       "      <th rowspan=\"5\" valign=\"top\">2019-09-12</th>\n",
       "      <th>Austria</th>\n",
       "      <td>1</td>\n",
       "    </tr>\n",
       "    <tr>\n",
       "      <th>Brazil</th>\n",
       "      <td>1</td>\n",
       "    </tr>\n",
       "    <tr>\n",
       "      <th>Japan</th>\n",
       "      <td>3</td>\n",
       "    </tr>\n",
       "    <tr>\n",
       "      <th>Portugal</th>\n",
       "      <td>1</td>\n",
       "    </tr>\n",
       "    <tr>\n",
       "      <th>Spain</th>\n",
       "      <td>1</td>\n",
       "    </tr>\n",
       "    <tr>\n",
       "      <th rowspan=\"3\" valign=\"top\">2019-09-13</th>\n",
       "      <th>Ecuador</th>\n",
       "      <td>1</td>\n",
       "    </tr>\n",
       "    <tr>\n",
       "      <th>Japan</th>\n",
       "      <td>1</td>\n",
       "    </tr>\n",
       "    <tr>\n",
       "      <th>Mexico</th>\n",
       "      <td>2</td>\n",
       "    </tr>\n",
       "  </tbody>\n",
       "</table>\n",
       "<p>492 rows × 1 columns</p>\n",
       "</div>"
      ],
      "text/plain": [
       "                                       NetTicket\n",
       "Date       countryName                          \n",
       "2019-04-05 Brazil                              4\n",
       "           Canada                              1\n",
       "           Colombia                            8\n",
       "           France                              2\n",
       "           Japan                               1\n",
       "           Mexico                              1\n",
       "2019-04-07 Canada                              1\n",
       "           Chile                               1\n",
       "           Japan                               1\n",
       "           United States                       1\n",
       "2019-04-08 Colombia                            1\n",
       "           Japan                               1\n",
       "           Panama                              1\n",
       "2019-04-09 Brazil                              1\n",
       "           India                               2\n",
       "2019-04-10 Canada                              1\n",
       "           Italy                               1\n",
       "2019-04-12 Bangladesh                          1\n",
       "           Canada                              2\n",
       "           Colombia                            1\n",
       "           Korea (South), Republic of          1\n",
       "           Mexico                              1\n",
       "2019-04-13 Brazil                              1\n",
       "           India                               1\n",
       "           Korea (South), Republic of          1\n",
       "           Turkey                              1\n",
       "           Ukraine                             1\n",
       "2019-04-14 Brazil                              1\n",
       "           Canada                              1\n",
       "           Taiwan                              3\n",
       "...                                          ...\n",
       "2019-09-05 Brazil                              1\n",
       "           Japan                               3\n",
       "           Mexico                              3\n",
       "2019-09-06 France                              2\n",
       "           Germany                             2\n",
       "           United Kingdom                      2\n",
       "2019-09-07 Brazil                              1\n",
       "           Japan                               1\n",
       "2019-09-08 Brazil                              1\n",
       "           Canada                              2\n",
       "           Hong Kong                           2\n",
       "           Japan                               4\n",
       "2019-09-09 Andorra                             1\n",
       "           Germany                             2\n",
       "           Peru                                1\n",
       "           Singapore                           2\n",
       "           Spain                               1\n",
       "2019-09-10 Canada                              3\n",
       "           Korea (South), Republic of          1\n",
       "           Panama                              1\n",
       "           Switzerland                         1\n",
       "2019-09-11 Germany                             2\n",
       "2019-09-12 Austria                             1\n",
       "           Brazil                              1\n",
       "           Japan                               3\n",
       "           Portugal                            1\n",
       "           Spain                               1\n",
       "2019-09-13 Ecuador                             1\n",
       "           Japan                               1\n",
       "           Mexico                              2\n",
       "\n",
       "[492 rows x 1 columns]"
      ]
     },
     "execution_count": 17,
     "metadata": {},
     "output_type": "execute_result"
    }
   ],
   "source": [
    "sa3=sa_drop.groupby(['Date','countryName']).count()\n",
    "sa3"
   ]
  },
  {
   "cell_type": "code",
   "execution_count": 18,
   "metadata": {},
   "outputs": [
    {
     "data": {
      "text/plain": [
       "pandas.core.frame.DataFrame"
      ]
     },
     "execution_count": 18,
     "metadata": {},
     "output_type": "execute_result"
    }
   ],
   "source": [
    "type(sa3)"
   ]
  },
  {
   "cell_type": "code",
   "execution_count": 19,
   "metadata": {},
   "outputs": [
    {
     "data": {
      "text/plain": [
       "MultiIndex(levels=[[2019-04-05 00:00:00, 2019-04-07 00:00:00, 2019-04-08 00:00:00, 2019-04-09 00:00:00, 2019-04-10 00:00:00, 2019-04-12 00:00:00, 2019-04-13 00:00:00, 2019-04-14 00:00:00, 2019-04-15 00:00:00, 2019-04-16 00:00:00, 2019-04-17 00:00:00, 2019-04-18 00:00:00, 2019-04-19 00:00:00, 2019-04-20 00:00:00, 2019-04-21 00:00:00, 2019-04-22 00:00:00, 2019-04-23 00:00:00, 2019-04-24 00:00:00, 2019-04-25 00:00:00, 2019-04-26 00:00:00, 2019-04-27 00:00:00, 2019-04-30 00:00:00, 2019-05-01 00:00:00, 2019-05-02 00:00:00, 2019-05-03 00:00:00, 2019-05-04 00:00:00, 2019-05-07 00:00:00, 2019-05-08 00:00:00, 2019-05-09 00:00:00, 2019-05-10 00:00:00, 2019-05-13 00:00:00, 2019-05-14 00:00:00, 2019-05-15 00:00:00, 2019-05-16 00:00:00, 2019-05-17 00:00:00, 2019-05-18 00:00:00, 2019-05-20 00:00:00, 2019-05-21 00:00:00, 2019-05-22 00:00:00, 2019-05-23 00:00:00, 2019-05-24 00:00:00, 2019-05-25 00:00:00, 2019-05-27 00:00:00, 2019-05-28 00:00:00, 2019-05-29 00:00:00, 2019-05-30 00:00:00, 2019-05-31 00:00:00, 2019-06-01 00:00:00, 2019-06-03 00:00:00, 2019-06-05 00:00:00, 2019-06-06 00:00:00, 2019-06-07 00:00:00, 2019-06-09 00:00:00, 2019-06-10 00:00:00, 2019-06-11 00:00:00, 2019-06-12 00:00:00, 2019-06-13 00:00:00, 2019-06-14 00:00:00, 2019-06-16 00:00:00, 2019-06-17 00:00:00, 2019-06-18 00:00:00, 2019-06-19 00:00:00, 2019-06-20 00:00:00, 2019-06-21 00:00:00, 2019-06-22 00:00:00, 2019-06-23 00:00:00, 2019-06-24 00:00:00, 2019-06-25 00:00:00, 2019-06-26 00:00:00, 2019-06-27 00:00:00, 2019-06-28 00:00:00, 2019-06-30 00:00:00, 2019-07-01 00:00:00, 2019-07-03 00:00:00, 2019-07-04 00:00:00, 2019-07-05 00:00:00, 2019-07-06 00:00:00, 2019-07-07 00:00:00, 2019-07-08 00:00:00, 2019-07-09 00:00:00, 2019-07-10 00:00:00, 2019-07-11 00:00:00, 2019-07-12 00:00:00, 2019-07-13 00:00:00, 2019-07-14 00:00:00, 2019-07-15 00:00:00, 2019-07-16 00:00:00, 2019-07-17 00:00:00, 2019-07-18 00:00:00, 2019-07-19 00:00:00, 2019-07-20 00:00:00, 2019-07-21 00:00:00, 2019-07-22 00:00:00, 2019-07-23 00:00:00, 2019-07-24 00:00:00, 2019-07-25 00:00:00, 2019-07-26 00:00:00, 2019-07-27 00:00:00, 2019-07-28 00:00:00, 2019-07-29 00:00:00, 2019-07-30 00:00:00, 2019-07-31 00:00:00, 2019-08-01 00:00:00, 2019-08-02 00:00:00, 2019-08-05 00:00:00, 2019-08-06 00:00:00, 2019-08-07 00:00:00, 2019-08-08 00:00:00, 2019-08-09 00:00:00, 2019-08-10 00:00:00, 2019-08-11 00:00:00, 2019-08-12 00:00:00, 2019-08-13 00:00:00, 2019-08-14 00:00:00, 2019-08-15 00:00:00, 2019-08-16 00:00:00, 2019-08-17 00:00:00, 2019-08-18 00:00:00, 2019-08-19 00:00:00, 2019-08-20 00:00:00, 2019-08-21 00:00:00, 2019-08-22 00:00:00, 2019-08-23 00:00:00, 2019-08-24 00:00:00, 2019-08-27 00:00:00, 2019-08-28 00:00:00, 2019-08-29 00:00:00, 2019-08-30 00:00:00, 2019-08-31 00:00:00, 2019-09-01 00:00:00, 2019-09-02 00:00:00, 2019-09-03 00:00:00, 2019-09-04 00:00:00, 2019-09-05 00:00:00, 2019-09-06 00:00:00, 2019-09-07 00:00:00, 2019-09-08 00:00:00, 2019-09-09 00:00:00, 2019-09-10 00:00:00, 2019-09-11 00:00:00, 2019-09-12 00:00:00, 2019-09-13 00:00:00], ['Andorra', 'Australia', 'Austria', 'Bangladesh', 'Barbados', 'Belgium', 'Brazil', 'Canada', 'Chile', 'China', 'Colombia', 'Cote D'ivoire', 'Czech Republic', 'Ecuador', 'France', 'Germany', 'Ghana', 'Hong Kong', 'India', 'Iran, Islamic Republic of', 'Israel', 'Italy', 'Jamaica', 'Japan', 'Korea (South), Republic of', 'Mexico', 'Netherlands', 'Nigeria', 'Panama', 'Peru', 'Poland', 'Portugal', 'Russian Federation', 'Singapore', 'Slovakia (Slovak Republic)', 'Spain', 'Sri Lanka', 'Switzerland', 'Taiwan', 'Turkey', 'Ukraine', 'United Kingdom', 'United States', 'Venezuela', 'Viet Nam']],\n",
       "           codes=[[0, 0, 0, 0, 0, 0, 1, 1, 1, 1, 2, 2, 2, 3, 3, 4, 4, 5, 5, 5, 5, 5, 6, 6, 6, 6, 6, 7, 7, 7, 8, 8, 9, 9, 9, 10, 10, 10, 10, 10, 11, 12, 12, 13, 13, 14, 14, 15, 15, 16, 16, 16, 16, 16, 17, 17, 17, 17, 17, 18, 18, 19, 19, 19, 20, 20, 21, 22, 23, 23, 23, 24, 24, 24, 25, 25, 26, 27, 27, 27, 28, 28, 28, 29, 29, 29, 30, 30, 30, 31, 31, 31, 32, 32, 32, 33, 33, 33, 34, 34, 35, 36, 37, 37, 38, 38, 38, 39, 39, 39, 40, 40, 40, 40, 41, 42, 42, 42, 42, 42, 43, 44, 44, 44, 45, 45, 45, 45, 45, 45, 46, 46, 47, 48, 49, 49, 49, 49, 49, 49, 50, 50, 50, 50, 51, 51, 51, 52, 52, 53, 54, 54, 54, 55, 55, 55, 55, 56, 56, 56, 56, 57, 58, 59, 60, 61, 61, 62, 62, 62, 62, 62, 63, 63, 63, 64, 64, 64, 65, 66, 66, 66, 67, 67, 67, 67, 68, 68, 68, 68, 68, 68, 69, 69, 69, 69, 69, 70, 70, 70, 71, 72, 73, 73, 74, 74, 74, 74, 75, 75, 75, 75, 75, 75, 76, 77, 77, 78, 78, 78, 79, 79, 79, 79, 80, 80, 81, 81, 81, 81, 81, 81, 82, 82, 82, 82, 82, 83, 83, 83, 84, 84, 84, 85, 85, 85, 85, 85, 85, 85, 85, 86, 86, 86, 87, 87, 88, 88, 88, 88, 88, 88, 88, 88, 88, 88, 88, 89, 89, 89, 89, 89, 89, 89, 89, 90, 90, 90, 91, 91, 91, 92, 92, 92, 92, 92, 92, 92, 92, 92, 92, 92, 93, 93, 93, 94, 94, 94, 94, 94, 94, 94, 94, 94, 94, 95, 95, 95, 95, 95, 95, 95, 95, 96, 96, 96, 96, 96, 97, 97, 97, 97, 97, 97, 97, 98, 98, 99, 99, 99, 100, 100, 100, 100, 100, 100, 101, 101, 101, 101, 101, 101, 102, 102, 102, 102, 102, 102, 102, 103, 103, 103, 103, 103, 103, 104, 104, 104, 105, 105, 105, 106, 106, 106, 106, 106, 106, 106, 106, 107, 107, 107, 107, 107, 107, 107, 107, 108, 108, 108, 108, 109, 109, 109, 110, 111, 111, 112, 112, 112, 113, 113, 113, 114, 114, 114, 114, 115, 115, 115, 115, 116, 116, 116, 117, 117, 118, 118, 118, 118, 118, 118, 118, 119, 119, 119, 119, 119, 120, 120, 120, 120, 120, 120, 120, 120, 121, 121, 121, 121, 122, 122, 122, 122, 122, 122, 123, 123, 124, 124, 124, 125, 125, 125, 126, 126, 127, 127, 127, 128, 128, 129, 129, 130, 130, 131, 131, 131, 131, 132, 132, 132, 133, 133, 133, 134, 134, 134, 135, 135, 136, 136, 136, 136, 137, 137, 137, 137, 137, 138, 138, 138, 138, 139, 140, 140, 140, 140, 140, 141, 141, 141], [6, 7, 10, 14, 23, 25, 7, 8, 23, 42, 10, 23, 28, 6, 18, 7, 21, 3, 7, 10, 24, 25, 6, 18, 24, 39, 40, 6, 7, 38, 6, 37, 6, 7, 27, 5, 6, 9, 14, 25, 7, 6, 25, 23, 41, 14, 38, 9, 25, 7, 9, 10, 28, 43, 6, 10, 13, 25, 29, 6, 17, 7, 25, 44, 6, 24, 7, 6, 7, 8, 23, 6, 23, 25, 6, 14, 6, 6, 7, 20, 6, 7, 23, 7, 15, 30, 6, 7, 25, 6, 7, 25, 11, 15, 24, 6, 7, 24, 6, 23, 6, 41, 7, 14, 15, 18, 25, 6, 14, 23, 6, 7, 16, 25, 25, 6, 7, 15, 25, 28, 7, 6, 10, 23, 7, 14, 19, 23, 30, 37, 6, 18, 6, 15, 5, 7, 14, 15, 18, 37, 6, 15, 24, 25, 7, 25, 37, 10, 18, 10, 6, 15, 22, 6, 18, 21, 24, 1, 6, 10, 21, 24, 18, 7, 9, 25, 28, 6, 7, 14, 15, 38, 7, 21, 25, 6, 7, 18, 6, 6, 7, 18, 6, 7, 35, 44, 4, 10, 18, 23, 25, 41, 6, 9, 21, 24, 39, 6, 7, 10, 25, 24, 6, 10, 6, 7, 24, 32, 6, 7, 10, 24, 25, 40, 35, 6, 18, 6, 15, 37, 13, 21, 25, 40, 6, 25, 7, 15, 23, 24, 25, 37, 6, 7, 21, 25, 34, 6, 15, 24, 6, 7, 25, 6, 7, 10, 23, 25, 29, 41, 42, 6, 14, 24, 5, 40, 6, 7, 17, 18, 20, 24, 25, 32, 39, 40, 42, 5, 7, 14, 21, 24, 32, 35, 40, 7, 24, 25, 6, 23, 24, 6, 12, 15, 17, 21, 23, 25, 32, 35, 37, 38, 7, 21, 26, 6, 7, 10, 14, 21, 23, 25, 32, 35, 37, 5, 6, 15, 25, 28, 32, 35, 44, 14, 21, 23, 37, 39, 6, 10, 15, 21, 24, 25, 32, 6, 40, 14, 24, 25, 3, 6, 7, 10, 24, 25, 14, 15, 21, 24, 35, 37, 6, 12, 14, 23, 24, 25, 37, 5, 6, 15, 20, 21, 26, 1, 7, 24, 6, 15, 25, 6, 7, 21, 24, 28, 35, 36, 37, 5, 6, 7, 21, 24, 25, 37, 39, 5, 6, 23, 24, 6, 15, 21, 7, 15, 24, 7, 24, 38, 6, 24, 38, 6, 21, 23, 24, 9, 15, 21, 37, 15, 23, 25, 7, 9, 6, 7, 9, 15, 23, 27, 44, 6, 7, 9, 23, 25, 2, 6, 7, 9, 23, 25, 35, 43, 2, 6, 23, 25, 7, 21, 24, 25, 29, 44, 2, 7, 9, 10, 38, 23, 24, 25, 16, 21, 10, 15, 25, 23, 41, 6, 24, 18, 23, 6, 23, 25, 28, 6, 13, 41, 6, 23, 25, 14, 15, 41, 6, 23, 6, 7, 17, 23, 0, 15, 29, 33, 35, 7, 24, 28, 37, 15, 2, 6, 23, 31, 35, 13, 23, 25]],\n",
       "           names=['Date', 'countryName'])"
      ]
     },
     "execution_count": 19,
     "metadata": {},
     "output_type": "execute_result"
    }
   ],
   "source": [
    "sa3.index"
   ]
  },
  {
   "cell_type": "code",
   "execution_count": 20,
   "metadata": {},
   "outputs": [
    {
     "data": {
      "text/html": [
       "<div>\n",
       "<style scoped>\n",
       "    .dataframe tbody tr th:only-of-type {\n",
       "        vertical-align: middle;\n",
       "    }\n",
       "\n",
       "    .dataframe tbody tr th {\n",
       "        vertical-align: top;\n",
       "    }\n",
       "\n",
       "    .dataframe thead th {\n",
       "        text-align: right;\n",
       "    }\n",
       "</style>\n",
       "<table border=\"1\" class=\"dataframe\">\n",
       "  <thead>\n",
       "    <tr style=\"text-align: right;\">\n",
       "      <th></th>\n",
       "      <th>Date</th>\n",
       "      <th>countryName</th>\n",
       "      <th>NetTicket</th>\n",
       "    </tr>\n",
       "  </thead>\n",
       "  <tbody>\n",
       "    <tr>\n",
       "      <th>0</th>\n",
       "      <td>2019-04-05</td>\n",
       "      <td>Brazil</td>\n",
       "      <td>4</td>\n",
       "    </tr>\n",
       "    <tr>\n",
       "      <th>1</th>\n",
       "      <td>2019-04-05</td>\n",
       "      <td>Canada</td>\n",
       "      <td>1</td>\n",
       "    </tr>\n",
       "    <tr>\n",
       "      <th>2</th>\n",
       "      <td>2019-04-05</td>\n",
       "      <td>Colombia</td>\n",
       "      <td>8</td>\n",
       "    </tr>\n",
       "    <tr>\n",
       "      <th>3</th>\n",
       "      <td>2019-04-05</td>\n",
       "      <td>France</td>\n",
       "      <td>2</td>\n",
       "    </tr>\n",
       "    <tr>\n",
       "      <th>4</th>\n",
       "      <td>2019-04-05</td>\n",
       "      <td>Japan</td>\n",
       "      <td>1</td>\n",
       "    </tr>\n",
       "  </tbody>\n",
       "</table>\n",
       "</div>"
      ],
      "text/plain": [
       "        Date countryName  NetTicket\n",
       "0 2019-04-05      Brazil          4\n",
       "1 2019-04-05      Canada          1\n",
       "2 2019-04-05    Colombia          8\n",
       "3 2019-04-05      France          2\n",
       "4 2019-04-05       Japan          1"
      ]
     },
     "execution_count": 20,
     "metadata": {},
     "output_type": "execute_result"
    }
   ],
   "source": [
    "sa4= sa3.reset_index()\n",
    "sa4.head()"
   ]
  },
  {
   "cell_type": "code",
   "execution_count": 21,
   "metadata": {},
   "outputs": [
    {
     "data": {
      "text/html": [
       "<div>\n",
       "<style scoped>\n",
       "    .dataframe tbody tr th:only-of-type {\n",
       "        vertical-align: middle;\n",
       "    }\n",
       "\n",
       "    .dataframe tbody tr th {\n",
       "        vertical-align: top;\n",
       "    }\n",
       "\n",
       "    .dataframe thead th {\n",
       "        text-align: right;\n",
       "    }\n",
       "</style>\n",
       "<table border=\"1\" class=\"dataframe\">\n",
       "  <thead>\n",
       "    <tr style=\"text-align: right;\">\n",
       "      <th></th>\n",
       "      <th>Date</th>\n",
       "      <th>CountryName</th>\n",
       "      <th>#Buyers</th>\n",
       "    </tr>\n",
       "  </thead>\n",
       "  <tbody>\n",
       "    <tr>\n",
       "      <th>0</th>\n",
       "      <td>2019-04-05</td>\n",
       "      <td>Brazil</td>\n",
       "      <td>4</td>\n",
       "    </tr>\n",
       "    <tr>\n",
       "      <th>1</th>\n",
       "      <td>2019-04-05</td>\n",
       "      <td>Canada</td>\n",
       "      <td>1</td>\n",
       "    </tr>\n",
       "    <tr>\n",
       "      <th>2</th>\n",
       "      <td>2019-04-05</td>\n",
       "      <td>Colombia</td>\n",
       "      <td>8</td>\n",
       "    </tr>\n",
       "    <tr>\n",
       "      <th>3</th>\n",
       "      <td>2019-04-05</td>\n",
       "      <td>France</td>\n",
       "      <td>2</td>\n",
       "    </tr>\n",
       "    <tr>\n",
       "      <th>4</th>\n",
       "      <td>2019-04-05</td>\n",
       "      <td>Japan</td>\n",
       "      <td>1</td>\n",
       "    </tr>\n",
       "  </tbody>\n",
       "</table>\n",
       "</div>"
      ],
      "text/plain": [
       "        Date CountryName  #Buyers\n",
       "0 2019-04-05      Brazil        4\n",
       "1 2019-04-05      Canada        1\n",
       "2 2019-04-05    Colombia        8\n",
       "3 2019-04-05      France        2\n",
       "4 2019-04-05       Japan        1"
      ]
     },
     "execution_count": 21,
     "metadata": {},
     "output_type": "execute_result"
    }
   ],
   "source": [
    "sa4.columns = ['Date','CountryName','#Buyers']\n",
    "sa4.head()"
   ]
  },
  {
   "cell_type": "code",
   "execution_count": 22,
   "metadata": {},
   "outputs": [
    {
     "data": {
      "text/html": [
       "<div>\n",
       "<style scoped>\n",
       "    .dataframe tbody tr th:only-of-type {\n",
       "        vertical-align: middle;\n",
       "    }\n",
       "\n",
       "    .dataframe tbody tr th {\n",
       "        vertical-align: top;\n",
       "    }\n",
       "\n",
       "    .dataframe thead th {\n",
       "        text-align: right;\n",
       "    }\n",
       "</style>\n",
       "<table border=\"1\" class=\"dataframe\">\n",
       "  <thead>\n",
       "    <tr style=\"text-align: right;\">\n",
       "      <th></th>\n",
       "      <th></th>\n",
       "      <th>sum</th>\n",
       "      <th>count</th>\n",
       "    </tr>\n",
       "    <tr>\n",
       "      <th>Date</th>\n",
       "      <th>countryName</th>\n",
       "      <th></th>\n",
       "      <th></th>\n",
       "    </tr>\n",
       "  </thead>\n",
       "  <tbody>\n",
       "    <tr>\n",
       "      <th rowspan=\"6\" valign=\"top\">2019-04-05</th>\n",
       "      <th>Brazil</th>\n",
       "      <td>168.0</td>\n",
       "      <td>4</td>\n",
       "    </tr>\n",
       "    <tr>\n",
       "      <th>Canada</th>\n",
       "      <td>59.0</td>\n",
       "      <td>1</td>\n",
       "    </tr>\n",
       "    <tr>\n",
       "      <th>Colombia</th>\n",
       "      <td>234.0</td>\n",
       "      <td>8</td>\n",
       "    </tr>\n",
       "    <tr>\n",
       "      <th>France</th>\n",
       "      <td>118.0</td>\n",
       "      <td>2</td>\n",
       "    </tr>\n",
       "    <tr>\n",
       "      <th>Japan</th>\n",
       "      <td>24.0</td>\n",
       "      <td>1</td>\n",
       "    </tr>\n",
       "    <tr>\n",
       "      <th>Mexico</th>\n",
       "      <td>25.0</td>\n",
       "      <td>1</td>\n",
       "    </tr>\n",
       "    <tr>\n",
       "      <th rowspan=\"4\" valign=\"top\">2019-04-07</th>\n",
       "      <th>Canada</th>\n",
       "      <td>25.0</td>\n",
       "      <td>1</td>\n",
       "    </tr>\n",
       "    <tr>\n",
       "      <th>Chile</th>\n",
       "      <td>64.0</td>\n",
       "      <td>1</td>\n",
       "    </tr>\n",
       "    <tr>\n",
       "      <th>Japan</th>\n",
       "      <td>25.0</td>\n",
       "      <td>1</td>\n",
       "    </tr>\n",
       "    <tr>\n",
       "      <th>United States</th>\n",
       "      <td>349.0</td>\n",
       "      <td>1</td>\n",
       "    </tr>\n",
       "    <tr>\n",
       "      <th rowspan=\"3\" valign=\"top\">2019-04-08</th>\n",
       "      <th>Colombia</th>\n",
       "      <td>25.0</td>\n",
       "      <td>1</td>\n",
       "    </tr>\n",
       "    <tr>\n",
       "      <th>Japan</th>\n",
       "      <td>25.0</td>\n",
       "      <td>1</td>\n",
       "    </tr>\n",
       "    <tr>\n",
       "      <th>Panama</th>\n",
       "      <td>45.0</td>\n",
       "      <td>1</td>\n",
       "    </tr>\n",
       "    <tr>\n",
       "      <th rowspan=\"2\" valign=\"top\">2019-04-09</th>\n",
       "      <th>Brazil</th>\n",
       "      <td>45.0</td>\n",
       "      <td>1</td>\n",
       "    </tr>\n",
       "    <tr>\n",
       "      <th>India</th>\n",
       "      <td>598.0</td>\n",
       "      <td>2</td>\n",
       "    </tr>\n",
       "    <tr>\n",
       "      <th rowspan=\"2\" valign=\"top\">2019-04-10</th>\n",
       "      <th>Canada</th>\n",
       "      <td>25.0</td>\n",
       "      <td>1</td>\n",
       "    </tr>\n",
       "    <tr>\n",
       "      <th>Italy</th>\n",
       "      <td>479.0</td>\n",
       "      <td>1</td>\n",
       "    </tr>\n",
       "    <tr>\n",
       "      <th rowspan=\"5\" valign=\"top\">2019-04-12</th>\n",
       "      <th>Bangladesh</th>\n",
       "      <td>584.0</td>\n",
       "      <td>1</td>\n",
       "    </tr>\n",
       "    <tr>\n",
       "      <th>Canada</th>\n",
       "      <td>868.0</td>\n",
       "      <td>2</td>\n",
       "    </tr>\n",
       "    <tr>\n",
       "      <th>Colombia</th>\n",
       "      <td>76.0</td>\n",
       "      <td>1</td>\n",
       "    </tr>\n",
       "    <tr>\n",
       "      <th>Korea (South), Republic of</th>\n",
       "      <td>25.0</td>\n",
       "      <td>1</td>\n",
       "    </tr>\n",
       "    <tr>\n",
       "      <th>Mexico</th>\n",
       "      <td>76.0</td>\n",
       "      <td>1</td>\n",
       "    </tr>\n",
       "    <tr>\n",
       "      <th rowspan=\"5\" valign=\"top\">2019-04-13</th>\n",
       "      <th>Brazil</th>\n",
       "      <td>59.0</td>\n",
       "      <td>1</td>\n",
       "    </tr>\n",
       "    <tr>\n",
       "      <th>India</th>\n",
       "      <td>25.0</td>\n",
       "      <td>1</td>\n",
       "    </tr>\n",
       "    <tr>\n",
       "      <th>Korea (South), Republic of</th>\n",
       "      <td>25.0</td>\n",
       "      <td>1</td>\n",
       "    </tr>\n",
       "    <tr>\n",
       "      <th>Turkey</th>\n",
       "      <td>25.0</td>\n",
       "      <td>1</td>\n",
       "    </tr>\n",
       "    <tr>\n",
       "      <th>Ukraine</th>\n",
       "      <td>25.0</td>\n",
       "      <td>1</td>\n",
       "    </tr>\n",
       "    <tr>\n",
       "      <th rowspan=\"3\" valign=\"top\">2019-04-14</th>\n",
       "      <th>Brazil</th>\n",
       "      <td>25.0</td>\n",
       "      <td>1</td>\n",
       "    </tr>\n",
       "    <tr>\n",
       "      <th>Canada</th>\n",
       "      <td>25.0</td>\n",
       "      <td>1</td>\n",
       "    </tr>\n",
       "    <tr>\n",
       "      <th>Taiwan</th>\n",
       "      <td>75.0</td>\n",
       "      <td>3</td>\n",
       "    </tr>\n",
       "    <tr>\n",
       "      <th>...</th>\n",
       "      <th>...</th>\n",
       "      <td>...</td>\n",
       "      <td>...</td>\n",
       "    </tr>\n",
       "    <tr>\n",
       "      <th rowspan=\"3\" valign=\"top\">2019-09-05</th>\n",
       "      <th>Brazil</th>\n",
       "      <td>369.0</td>\n",
       "      <td>1</td>\n",
       "    </tr>\n",
       "    <tr>\n",
       "      <th>Japan</th>\n",
       "      <td>1058.0</td>\n",
       "      <td>3</td>\n",
       "    </tr>\n",
       "    <tr>\n",
       "      <th>Mexico</th>\n",
       "      <td>270.0</td>\n",
       "      <td>3</td>\n",
       "    </tr>\n",
       "    <tr>\n",
       "      <th rowspan=\"3\" valign=\"top\">2019-09-06</th>\n",
       "      <th>France</th>\n",
       "      <td>198.0</td>\n",
       "      <td>2</td>\n",
       "    </tr>\n",
       "    <tr>\n",
       "      <th>Germany</th>\n",
       "      <td>498.0</td>\n",
       "      <td>2</td>\n",
       "    </tr>\n",
       "    <tr>\n",
       "      <th>United Kingdom</th>\n",
       "      <td>498.0</td>\n",
       "      <td>2</td>\n",
       "    </tr>\n",
       "    <tr>\n",
       "      <th rowspan=\"2\" valign=\"top\">2019-09-07</th>\n",
       "      <th>Brazil</th>\n",
       "      <td>77.0</td>\n",
       "      <td>1</td>\n",
       "    </tr>\n",
       "    <tr>\n",
       "      <th>Japan</th>\n",
       "      <td>25.0</td>\n",
       "      <td>1</td>\n",
       "    </tr>\n",
       "    <tr>\n",
       "      <th rowspan=\"4\" valign=\"top\">2019-09-08</th>\n",
       "      <th>Brazil</th>\n",
       "      <td>484.0</td>\n",
       "      <td>1</td>\n",
       "    </tr>\n",
       "    <tr>\n",
       "      <th>Canada</th>\n",
       "      <td>1158.0</td>\n",
       "      <td>2</td>\n",
       "    </tr>\n",
       "    <tr>\n",
       "      <th>Hong Kong</th>\n",
       "      <td>198.0</td>\n",
       "      <td>2</td>\n",
       "    </tr>\n",
       "    <tr>\n",
       "      <th>Japan</th>\n",
       "      <td>140.0</td>\n",
       "      <td>4</td>\n",
       "    </tr>\n",
       "    <tr>\n",
       "      <th rowspan=\"5\" valign=\"top\">2019-09-09</th>\n",
       "      <th>Andorra</th>\n",
       "      <td>289.0</td>\n",
       "      <td>1</td>\n",
       "    </tr>\n",
       "    <tr>\n",
       "      <th>Germany</th>\n",
       "      <td>339.0</td>\n",
       "      <td>2</td>\n",
       "    </tr>\n",
       "    <tr>\n",
       "      <th>Peru</th>\n",
       "      <td>579.0</td>\n",
       "      <td>1</td>\n",
       "    </tr>\n",
       "    <tr>\n",
       "      <th>Singapore</th>\n",
       "      <td>498.0</td>\n",
       "      <td>2</td>\n",
       "    </tr>\n",
       "    <tr>\n",
       "      <th>Spain</th>\n",
       "      <td>289.0</td>\n",
       "      <td>1</td>\n",
       "    </tr>\n",
       "    <tr>\n",
       "      <th rowspan=\"4\" valign=\"top\">2019-09-10</th>\n",
       "      <th>Canada</th>\n",
       "      <td>258.0</td>\n",
       "      <td>3</td>\n",
       "    </tr>\n",
       "    <tr>\n",
       "      <th>Korea (South), Republic of</th>\n",
       "      <td>60.0</td>\n",
       "      <td>1</td>\n",
       "    </tr>\n",
       "    <tr>\n",
       "      <th>Panama</th>\n",
       "      <td>249.0</td>\n",
       "      <td>1</td>\n",
       "    </tr>\n",
       "    <tr>\n",
       "      <th>Switzerland</th>\n",
       "      <td>99.0</td>\n",
       "      <td>1</td>\n",
       "    </tr>\n",
       "    <tr>\n",
       "      <th>2019-09-11</th>\n",
       "      <th>Germany</th>\n",
       "      <td>180.0</td>\n",
       "      <td>2</td>\n",
       "    </tr>\n",
       "    <tr>\n",
       "      <th rowspan=\"5\" valign=\"top\">2019-09-12</th>\n",
       "      <th>Austria</th>\n",
       "      <td>99.0</td>\n",
       "      <td>1</td>\n",
       "    </tr>\n",
       "    <tr>\n",
       "      <th>Brazil</th>\n",
       "      <td>60.0</td>\n",
       "      <td>1</td>\n",
       "    </tr>\n",
       "    <tr>\n",
       "      <th>Japan</th>\n",
       "      <td>269.0</td>\n",
       "      <td>3</td>\n",
       "    </tr>\n",
       "    <tr>\n",
       "      <th>Portugal</th>\n",
       "      <td>25.0</td>\n",
       "      <td>1</td>\n",
       "    </tr>\n",
       "    <tr>\n",
       "      <th>Spain</th>\n",
       "      <td>25.0</td>\n",
       "      <td>1</td>\n",
       "    </tr>\n",
       "    <tr>\n",
       "      <th rowspan=\"3\" valign=\"top\">2019-09-13</th>\n",
       "      <th>Ecuador</th>\n",
       "      <td>99.0</td>\n",
       "      <td>1</td>\n",
       "    </tr>\n",
       "    <tr>\n",
       "      <th>Japan</th>\n",
       "      <td>60.0</td>\n",
       "      <td>1</td>\n",
       "    </tr>\n",
       "    <tr>\n",
       "      <th>Mexico</th>\n",
       "      <td>120.0</td>\n",
       "      <td>2</td>\n",
       "    </tr>\n",
       "  </tbody>\n",
       "</table>\n",
       "<p>492 rows × 2 columns</p>\n",
       "</div>"
      ],
      "text/plain": [
       "                                          sum  count\n",
       "Date       countryName                              \n",
       "2019-04-05 Brazil                       168.0      4\n",
       "           Canada                        59.0      1\n",
       "           Colombia                     234.0      8\n",
       "           France                       118.0      2\n",
       "           Japan                         24.0      1\n",
       "           Mexico                        25.0      1\n",
       "2019-04-07 Canada                        25.0      1\n",
       "           Chile                         64.0      1\n",
       "           Japan                         25.0      1\n",
       "           United States                349.0      1\n",
       "2019-04-08 Colombia                      25.0      1\n",
       "           Japan                         25.0      1\n",
       "           Panama                        45.0      1\n",
       "2019-04-09 Brazil                        45.0      1\n",
       "           India                        598.0      2\n",
       "2019-04-10 Canada                        25.0      1\n",
       "           Italy                        479.0      1\n",
       "2019-04-12 Bangladesh                   584.0      1\n",
       "           Canada                       868.0      2\n",
       "           Colombia                      76.0      1\n",
       "           Korea (South), Republic of    25.0      1\n",
       "           Mexico                        76.0      1\n",
       "2019-04-13 Brazil                        59.0      1\n",
       "           India                         25.0      1\n",
       "           Korea (South), Republic of    25.0      1\n",
       "           Turkey                        25.0      1\n",
       "           Ukraine                       25.0      1\n",
       "2019-04-14 Brazil                        25.0      1\n",
       "           Canada                        25.0      1\n",
       "           Taiwan                        75.0      3\n",
       "...                                       ...    ...\n",
       "2019-09-05 Brazil                       369.0      1\n",
       "           Japan                       1058.0      3\n",
       "           Mexico                       270.0      3\n",
       "2019-09-06 France                       198.0      2\n",
       "           Germany                      498.0      2\n",
       "           United Kingdom               498.0      2\n",
       "2019-09-07 Brazil                        77.0      1\n",
       "           Japan                         25.0      1\n",
       "2019-09-08 Brazil                       484.0      1\n",
       "           Canada                      1158.0      2\n",
       "           Hong Kong                    198.0      2\n",
       "           Japan                        140.0      4\n",
       "2019-09-09 Andorra                      289.0      1\n",
       "           Germany                      339.0      2\n",
       "           Peru                         579.0      1\n",
       "           Singapore                    498.0      2\n",
       "           Spain                        289.0      1\n",
       "2019-09-10 Canada                       258.0      3\n",
       "           Korea (South), Republic of    60.0      1\n",
       "           Panama                       249.0      1\n",
       "           Switzerland                   99.0      1\n",
       "2019-09-11 Germany                      180.0      2\n",
       "2019-09-12 Austria                       99.0      1\n",
       "           Brazil                        60.0      1\n",
       "           Japan                        269.0      3\n",
       "           Portugal                      25.0      1\n",
       "           Spain                         25.0      1\n",
       "2019-09-13 Ecuador                       99.0      1\n",
       "           Japan                         60.0      1\n",
       "           Mexico                       120.0      2\n",
       "\n",
       "[492 rows x 2 columns]"
      ]
     },
     "execution_count": 22,
     "metadata": {},
     "output_type": "execute_result"
    }
   ],
   "source": [
    "#Trying groupby again now with two variables as input and two as result wanted\n",
    "sa5 =sa_drop.groupby(['Date','countryName'])['NetTicket'].agg(['sum','count'])\n",
    "sa5"
   ]
  },
  {
   "cell_type": "code",
   "execution_count": 23,
   "metadata": {},
   "outputs": [
    {
     "data": {
      "text/plain": [
       "pandas.core.frame.DataFrame"
      ]
     },
     "execution_count": 23,
     "metadata": {},
     "output_type": "execute_result"
    }
   ],
   "source": [
    "type(sa5)"
   ]
  },
  {
   "cell_type": "code",
   "execution_count": 24,
   "metadata": {},
   "outputs": [
    {
     "data": {
      "text/plain": [
       "MultiIndex(levels=[[2019-04-05 00:00:00, 2019-04-07 00:00:00, 2019-04-08 00:00:00, 2019-04-09 00:00:00, 2019-04-10 00:00:00, 2019-04-12 00:00:00, 2019-04-13 00:00:00, 2019-04-14 00:00:00, 2019-04-15 00:00:00, 2019-04-16 00:00:00, 2019-04-17 00:00:00, 2019-04-18 00:00:00, 2019-04-19 00:00:00, 2019-04-20 00:00:00, 2019-04-21 00:00:00, 2019-04-22 00:00:00, 2019-04-23 00:00:00, 2019-04-24 00:00:00, 2019-04-25 00:00:00, 2019-04-26 00:00:00, 2019-04-27 00:00:00, 2019-04-30 00:00:00, 2019-05-01 00:00:00, 2019-05-02 00:00:00, 2019-05-03 00:00:00, 2019-05-04 00:00:00, 2019-05-07 00:00:00, 2019-05-08 00:00:00, 2019-05-09 00:00:00, 2019-05-10 00:00:00, 2019-05-13 00:00:00, 2019-05-14 00:00:00, 2019-05-15 00:00:00, 2019-05-16 00:00:00, 2019-05-17 00:00:00, 2019-05-18 00:00:00, 2019-05-20 00:00:00, 2019-05-21 00:00:00, 2019-05-22 00:00:00, 2019-05-23 00:00:00, 2019-05-24 00:00:00, 2019-05-25 00:00:00, 2019-05-27 00:00:00, 2019-05-28 00:00:00, 2019-05-29 00:00:00, 2019-05-30 00:00:00, 2019-05-31 00:00:00, 2019-06-01 00:00:00, 2019-06-03 00:00:00, 2019-06-05 00:00:00, 2019-06-06 00:00:00, 2019-06-07 00:00:00, 2019-06-09 00:00:00, 2019-06-10 00:00:00, 2019-06-11 00:00:00, 2019-06-12 00:00:00, 2019-06-13 00:00:00, 2019-06-14 00:00:00, 2019-06-16 00:00:00, 2019-06-17 00:00:00, 2019-06-18 00:00:00, 2019-06-19 00:00:00, 2019-06-20 00:00:00, 2019-06-21 00:00:00, 2019-06-22 00:00:00, 2019-06-23 00:00:00, 2019-06-24 00:00:00, 2019-06-25 00:00:00, 2019-06-26 00:00:00, 2019-06-27 00:00:00, 2019-06-28 00:00:00, 2019-06-30 00:00:00, 2019-07-01 00:00:00, 2019-07-03 00:00:00, 2019-07-04 00:00:00, 2019-07-05 00:00:00, 2019-07-06 00:00:00, 2019-07-07 00:00:00, 2019-07-08 00:00:00, 2019-07-09 00:00:00, 2019-07-10 00:00:00, 2019-07-11 00:00:00, 2019-07-12 00:00:00, 2019-07-13 00:00:00, 2019-07-14 00:00:00, 2019-07-15 00:00:00, 2019-07-16 00:00:00, 2019-07-17 00:00:00, 2019-07-18 00:00:00, 2019-07-19 00:00:00, 2019-07-20 00:00:00, 2019-07-21 00:00:00, 2019-07-22 00:00:00, 2019-07-23 00:00:00, 2019-07-24 00:00:00, 2019-07-25 00:00:00, 2019-07-26 00:00:00, 2019-07-27 00:00:00, 2019-07-28 00:00:00, 2019-07-29 00:00:00, 2019-07-30 00:00:00, 2019-07-31 00:00:00, 2019-08-01 00:00:00, 2019-08-02 00:00:00, 2019-08-05 00:00:00, 2019-08-06 00:00:00, 2019-08-07 00:00:00, 2019-08-08 00:00:00, 2019-08-09 00:00:00, 2019-08-10 00:00:00, 2019-08-11 00:00:00, 2019-08-12 00:00:00, 2019-08-13 00:00:00, 2019-08-14 00:00:00, 2019-08-15 00:00:00, 2019-08-16 00:00:00, 2019-08-17 00:00:00, 2019-08-18 00:00:00, 2019-08-19 00:00:00, 2019-08-20 00:00:00, 2019-08-21 00:00:00, 2019-08-22 00:00:00, 2019-08-23 00:00:00, 2019-08-24 00:00:00, 2019-08-27 00:00:00, 2019-08-28 00:00:00, 2019-08-29 00:00:00, 2019-08-30 00:00:00, 2019-08-31 00:00:00, 2019-09-01 00:00:00, 2019-09-02 00:00:00, 2019-09-03 00:00:00, 2019-09-04 00:00:00, 2019-09-05 00:00:00, 2019-09-06 00:00:00, 2019-09-07 00:00:00, 2019-09-08 00:00:00, 2019-09-09 00:00:00, 2019-09-10 00:00:00, 2019-09-11 00:00:00, 2019-09-12 00:00:00, 2019-09-13 00:00:00], ['Andorra', 'Australia', 'Austria', 'Bangladesh', 'Barbados', 'Belgium', 'Brazil', 'Canada', 'Chile', 'China', 'Colombia', 'Cote D'ivoire', 'Czech Republic', 'Ecuador', 'France', 'Germany', 'Ghana', 'Hong Kong', 'India', 'Iran, Islamic Republic of', 'Israel', 'Italy', 'Jamaica', 'Japan', 'Korea (South), Republic of', 'Mexico', 'Netherlands', 'Nigeria', 'Panama', 'Peru', 'Poland', 'Portugal', 'Russian Federation', 'Singapore', 'Slovakia (Slovak Republic)', 'Spain', 'Sri Lanka', 'Switzerland', 'Taiwan', 'Turkey', 'Ukraine', 'United Kingdom', 'United States', 'Venezuela', 'Viet Nam']],\n",
       "           codes=[[0, 0, 0, 0, 0, 0, 1, 1, 1, 1, 2, 2, 2, 3, 3, 4, 4, 5, 5, 5, 5, 5, 6, 6, 6, 6, 6, 7, 7, 7, 8, 8, 9, 9, 9, 10, 10, 10, 10, 10, 11, 12, 12, 13, 13, 14, 14, 15, 15, 16, 16, 16, 16, 16, 17, 17, 17, 17, 17, 18, 18, 19, 19, 19, 20, 20, 21, 22, 23, 23, 23, 24, 24, 24, 25, 25, 26, 27, 27, 27, 28, 28, 28, 29, 29, 29, 30, 30, 30, 31, 31, 31, 32, 32, 32, 33, 33, 33, 34, 34, 35, 36, 37, 37, 38, 38, 38, 39, 39, 39, 40, 40, 40, 40, 41, 42, 42, 42, 42, 42, 43, 44, 44, 44, 45, 45, 45, 45, 45, 45, 46, 46, 47, 48, 49, 49, 49, 49, 49, 49, 50, 50, 50, 50, 51, 51, 51, 52, 52, 53, 54, 54, 54, 55, 55, 55, 55, 56, 56, 56, 56, 57, 58, 59, 60, 61, 61, 62, 62, 62, 62, 62, 63, 63, 63, 64, 64, 64, 65, 66, 66, 66, 67, 67, 67, 67, 68, 68, 68, 68, 68, 68, 69, 69, 69, 69, 69, 70, 70, 70, 71, 72, 73, 73, 74, 74, 74, 74, 75, 75, 75, 75, 75, 75, 76, 77, 77, 78, 78, 78, 79, 79, 79, 79, 80, 80, 81, 81, 81, 81, 81, 81, 82, 82, 82, 82, 82, 83, 83, 83, 84, 84, 84, 85, 85, 85, 85, 85, 85, 85, 85, 86, 86, 86, 87, 87, 88, 88, 88, 88, 88, 88, 88, 88, 88, 88, 88, 89, 89, 89, 89, 89, 89, 89, 89, 90, 90, 90, 91, 91, 91, 92, 92, 92, 92, 92, 92, 92, 92, 92, 92, 92, 93, 93, 93, 94, 94, 94, 94, 94, 94, 94, 94, 94, 94, 95, 95, 95, 95, 95, 95, 95, 95, 96, 96, 96, 96, 96, 97, 97, 97, 97, 97, 97, 97, 98, 98, 99, 99, 99, 100, 100, 100, 100, 100, 100, 101, 101, 101, 101, 101, 101, 102, 102, 102, 102, 102, 102, 102, 103, 103, 103, 103, 103, 103, 104, 104, 104, 105, 105, 105, 106, 106, 106, 106, 106, 106, 106, 106, 107, 107, 107, 107, 107, 107, 107, 107, 108, 108, 108, 108, 109, 109, 109, 110, 111, 111, 112, 112, 112, 113, 113, 113, 114, 114, 114, 114, 115, 115, 115, 115, 116, 116, 116, 117, 117, 118, 118, 118, 118, 118, 118, 118, 119, 119, 119, 119, 119, 120, 120, 120, 120, 120, 120, 120, 120, 121, 121, 121, 121, 122, 122, 122, 122, 122, 122, 123, 123, 124, 124, 124, 125, 125, 125, 126, 126, 127, 127, 127, 128, 128, 129, 129, 130, 130, 131, 131, 131, 131, 132, 132, 132, 133, 133, 133, 134, 134, 134, 135, 135, 136, 136, 136, 136, 137, 137, 137, 137, 137, 138, 138, 138, 138, 139, 140, 140, 140, 140, 140, 141, 141, 141], [6, 7, 10, 14, 23, 25, 7, 8, 23, 42, 10, 23, 28, 6, 18, 7, 21, 3, 7, 10, 24, 25, 6, 18, 24, 39, 40, 6, 7, 38, 6, 37, 6, 7, 27, 5, 6, 9, 14, 25, 7, 6, 25, 23, 41, 14, 38, 9, 25, 7, 9, 10, 28, 43, 6, 10, 13, 25, 29, 6, 17, 7, 25, 44, 6, 24, 7, 6, 7, 8, 23, 6, 23, 25, 6, 14, 6, 6, 7, 20, 6, 7, 23, 7, 15, 30, 6, 7, 25, 6, 7, 25, 11, 15, 24, 6, 7, 24, 6, 23, 6, 41, 7, 14, 15, 18, 25, 6, 14, 23, 6, 7, 16, 25, 25, 6, 7, 15, 25, 28, 7, 6, 10, 23, 7, 14, 19, 23, 30, 37, 6, 18, 6, 15, 5, 7, 14, 15, 18, 37, 6, 15, 24, 25, 7, 25, 37, 10, 18, 10, 6, 15, 22, 6, 18, 21, 24, 1, 6, 10, 21, 24, 18, 7, 9, 25, 28, 6, 7, 14, 15, 38, 7, 21, 25, 6, 7, 18, 6, 6, 7, 18, 6, 7, 35, 44, 4, 10, 18, 23, 25, 41, 6, 9, 21, 24, 39, 6, 7, 10, 25, 24, 6, 10, 6, 7, 24, 32, 6, 7, 10, 24, 25, 40, 35, 6, 18, 6, 15, 37, 13, 21, 25, 40, 6, 25, 7, 15, 23, 24, 25, 37, 6, 7, 21, 25, 34, 6, 15, 24, 6, 7, 25, 6, 7, 10, 23, 25, 29, 41, 42, 6, 14, 24, 5, 40, 6, 7, 17, 18, 20, 24, 25, 32, 39, 40, 42, 5, 7, 14, 21, 24, 32, 35, 40, 7, 24, 25, 6, 23, 24, 6, 12, 15, 17, 21, 23, 25, 32, 35, 37, 38, 7, 21, 26, 6, 7, 10, 14, 21, 23, 25, 32, 35, 37, 5, 6, 15, 25, 28, 32, 35, 44, 14, 21, 23, 37, 39, 6, 10, 15, 21, 24, 25, 32, 6, 40, 14, 24, 25, 3, 6, 7, 10, 24, 25, 14, 15, 21, 24, 35, 37, 6, 12, 14, 23, 24, 25, 37, 5, 6, 15, 20, 21, 26, 1, 7, 24, 6, 15, 25, 6, 7, 21, 24, 28, 35, 36, 37, 5, 6, 7, 21, 24, 25, 37, 39, 5, 6, 23, 24, 6, 15, 21, 7, 15, 24, 7, 24, 38, 6, 24, 38, 6, 21, 23, 24, 9, 15, 21, 37, 15, 23, 25, 7, 9, 6, 7, 9, 15, 23, 27, 44, 6, 7, 9, 23, 25, 2, 6, 7, 9, 23, 25, 35, 43, 2, 6, 23, 25, 7, 21, 24, 25, 29, 44, 2, 7, 9, 10, 38, 23, 24, 25, 16, 21, 10, 15, 25, 23, 41, 6, 24, 18, 23, 6, 23, 25, 28, 6, 13, 41, 6, 23, 25, 14, 15, 41, 6, 23, 6, 7, 17, 23, 0, 15, 29, 33, 35, 7, 24, 28, 37, 15, 2, 6, 23, 31, 35, 13, 23, 25]],\n",
       "           names=['Date', 'countryName'])"
      ]
     },
     "execution_count": 24,
     "metadata": {},
     "output_type": "execute_result"
    }
   ],
   "source": [
    "sa5.index"
   ]
  },
  {
   "cell_type": "code",
   "execution_count": 25,
   "metadata": {},
   "outputs": [
    {
     "data": {
      "text/html": [
       "<div>\n",
       "<style scoped>\n",
       "    .dataframe tbody tr th:only-of-type {\n",
       "        vertical-align: middle;\n",
       "    }\n",
       "\n",
       "    .dataframe tbody tr th {\n",
       "        vertical-align: top;\n",
       "    }\n",
       "\n",
       "    .dataframe thead th {\n",
       "        text-align: right;\n",
       "    }\n",
       "</style>\n",
       "<table border=\"1\" class=\"dataframe\">\n",
       "  <thead>\n",
       "    <tr style=\"text-align: right;\">\n",
       "      <th></th>\n",
       "      <th>Date</th>\n",
       "      <th>countryName</th>\n",
       "      <th>sum</th>\n",
       "      <th>count</th>\n",
       "    </tr>\n",
       "  </thead>\n",
       "  <tbody>\n",
       "    <tr>\n",
       "      <th>0</th>\n",
       "      <td>2019-04-05</td>\n",
       "      <td>Brazil</td>\n",
       "      <td>168.0</td>\n",
       "      <td>4</td>\n",
       "    </tr>\n",
       "    <tr>\n",
       "      <th>1</th>\n",
       "      <td>2019-04-05</td>\n",
       "      <td>Canada</td>\n",
       "      <td>59.0</td>\n",
       "      <td>1</td>\n",
       "    </tr>\n",
       "    <tr>\n",
       "      <th>2</th>\n",
       "      <td>2019-04-05</td>\n",
       "      <td>Colombia</td>\n",
       "      <td>234.0</td>\n",
       "      <td>8</td>\n",
       "    </tr>\n",
       "    <tr>\n",
       "      <th>3</th>\n",
       "      <td>2019-04-05</td>\n",
       "      <td>France</td>\n",
       "      <td>118.0</td>\n",
       "      <td>2</td>\n",
       "    </tr>\n",
       "    <tr>\n",
       "      <th>4</th>\n",
       "      <td>2019-04-05</td>\n",
       "      <td>Japan</td>\n",
       "      <td>24.0</td>\n",
       "      <td>1</td>\n",
       "    </tr>\n",
       "  </tbody>\n",
       "</table>\n",
       "</div>"
      ],
      "text/plain": [
       "        Date countryName    sum  count\n",
       "0 2019-04-05      Brazil  168.0      4\n",
       "1 2019-04-05      Canada   59.0      1\n",
       "2 2019-04-05    Colombia  234.0      8\n",
       "3 2019-04-05      France  118.0      2\n",
       "4 2019-04-05       Japan   24.0      1"
      ]
     },
     "execution_count": 25,
     "metadata": {},
     "output_type": "execute_result"
    }
   ],
   "source": [
    "sa6= sa5.reset_index()\n",
    "sa6.head()"
   ]
  },
  {
   "cell_type": "code",
   "execution_count": 26,
   "metadata": {},
   "outputs": [
    {
     "data": {
      "text/html": [
       "<div>\n",
       "<style scoped>\n",
       "    .dataframe tbody tr th:only-of-type {\n",
       "        vertical-align: middle;\n",
       "    }\n",
       "\n",
       "    .dataframe tbody tr th {\n",
       "        vertical-align: top;\n",
       "    }\n",
       "\n",
       "    .dataframe thead th {\n",
       "        text-align: right;\n",
       "    }\n",
       "</style>\n",
       "<table border=\"1\" class=\"dataframe\">\n",
       "  <thead>\n",
       "    <tr style=\"text-align: right;\">\n",
       "      <th></th>\n",
       "      <th>Date</th>\n",
       "      <th>countryName</th>\n",
       "      <th>sum</th>\n",
       "      <th>count</th>\n",
       "    </tr>\n",
       "  </thead>\n",
       "  <tbody>\n",
       "    <tr>\n",
       "      <th>487</th>\n",
       "      <td>2019-09-12</td>\n",
       "      <td>Portugal</td>\n",
       "      <td>25.0</td>\n",
       "      <td>1</td>\n",
       "    </tr>\n",
       "    <tr>\n",
       "      <th>488</th>\n",
       "      <td>2019-09-12</td>\n",
       "      <td>Spain</td>\n",
       "      <td>25.0</td>\n",
       "      <td>1</td>\n",
       "    </tr>\n",
       "    <tr>\n",
       "      <th>489</th>\n",
       "      <td>2019-09-13</td>\n",
       "      <td>Ecuador</td>\n",
       "      <td>99.0</td>\n",
       "      <td>1</td>\n",
       "    </tr>\n",
       "    <tr>\n",
       "      <th>490</th>\n",
       "      <td>2019-09-13</td>\n",
       "      <td>Japan</td>\n",
       "      <td>60.0</td>\n",
       "      <td>1</td>\n",
       "    </tr>\n",
       "    <tr>\n",
       "      <th>491</th>\n",
       "      <td>2019-09-13</td>\n",
       "      <td>Mexico</td>\n",
       "      <td>120.0</td>\n",
       "      <td>2</td>\n",
       "    </tr>\n",
       "  </tbody>\n",
       "</table>\n",
       "</div>"
      ],
      "text/plain": [
       "          Date countryName    sum  count\n",
       "487 2019-09-12    Portugal   25.0      1\n",
       "488 2019-09-12       Spain   25.0      1\n",
       "489 2019-09-13     Ecuador   99.0      1\n",
       "490 2019-09-13       Japan   60.0      1\n",
       "491 2019-09-13      Mexico  120.0      2"
      ]
     },
     "execution_count": 26,
     "metadata": {},
     "output_type": "execute_result"
    }
   ],
   "source": [
    "sa6.tail()"
   ]
  },
  {
   "cell_type": "code",
   "execution_count": 27,
   "metadata": {},
   "outputs": [
    {
     "data": {
      "text/html": [
       "<div>\n",
       "<style scoped>\n",
       "    .dataframe tbody tr th:only-of-type {\n",
       "        vertical-align: middle;\n",
       "    }\n",
       "\n",
       "    .dataframe tbody tr th {\n",
       "        vertical-align: top;\n",
       "    }\n",
       "\n",
       "    .dataframe thead th {\n",
       "        text-align: right;\n",
       "    }\n",
       "</style>\n",
       "<table border=\"1\" class=\"dataframe\">\n",
       "  <thead>\n",
       "    <tr style=\"text-align: right;\">\n",
       "      <th></th>\n",
       "      <th>Date</th>\n",
       "      <th>CountryName</th>\n",
       "      <th>Sales</th>\n",
       "      <th>#ProductsBought</th>\n",
       "    </tr>\n",
       "  </thead>\n",
       "  <tbody>\n",
       "    <tr>\n",
       "      <th>0</th>\n",
       "      <td>2019-04-05</td>\n",
       "      <td>Brazil</td>\n",
       "      <td>168.0</td>\n",
       "      <td>4</td>\n",
       "    </tr>\n",
       "    <tr>\n",
       "      <th>1</th>\n",
       "      <td>2019-04-05</td>\n",
       "      <td>Canada</td>\n",
       "      <td>59.0</td>\n",
       "      <td>1</td>\n",
       "    </tr>\n",
       "    <tr>\n",
       "      <th>2</th>\n",
       "      <td>2019-04-05</td>\n",
       "      <td>Colombia</td>\n",
       "      <td>234.0</td>\n",
       "      <td>8</td>\n",
       "    </tr>\n",
       "    <tr>\n",
       "      <th>3</th>\n",
       "      <td>2019-04-05</td>\n",
       "      <td>France</td>\n",
       "      <td>118.0</td>\n",
       "      <td>2</td>\n",
       "    </tr>\n",
       "    <tr>\n",
       "      <th>4</th>\n",
       "      <td>2019-04-05</td>\n",
       "      <td>Japan</td>\n",
       "      <td>24.0</td>\n",
       "      <td>1</td>\n",
       "    </tr>\n",
       "  </tbody>\n",
       "</table>\n",
       "</div>"
      ],
      "text/plain": [
       "        Date CountryName  Sales  #ProductsBought\n",
       "0 2019-04-05      Brazil  168.0                4\n",
       "1 2019-04-05      Canada   59.0                1\n",
       "2 2019-04-05    Colombia  234.0                8\n",
       "3 2019-04-05      France  118.0                2\n",
       "4 2019-04-05       Japan   24.0                1"
      ]
     },
     "execution_count": 27,
     "metadata": {},
     "output_type": "execute_result"
    }
   ],
   "source": [
    "sa6.columns = ['Date','CountryName','Sales','#ProductsBought'] #finally! - Fixed columns names\n",
    "sa6.head()"
   ]
  },
  {
   "cell_type": "code",
   "execution_count": 28,
   "metadata": {},
   "outputs": [
    {
     "data": {
      "text/plain": [
       "RangeIndex(start=0, stop=492, step=1)"
      ]
     },
     "execution_count": 28,
     "metadata": {},
     "output_type": "execute_result"
    }
   ],
   "source": [
    "sa6.index #numbers of rows went from 899 to 492"
   ]
  },
  {
   "cell_type": "code",
   "execution_count": 29,
   "metadata": {},
   "outputs": [
    {
     "data": {
      "text/html": [
       "<div>\n",
       "<style scoped>\n",
       "    .dataframe tbody tr th:only-of-type {\n",
       "        vertical-align: middle;\n",
       "    }\n",
       "\n",
       "    .dataframe tbody tr th {\n",
       "        vertical-align: top;\n",
       "    }\n",
       "\n",
       "    .dataframe thead th {\n",
       "        text-align: right;\n",
       "    }\n",
       "</style>\n",
       "<table border=\"1\" class=\"dataframe\">\n",
       "  <thead>\n",
       "    <tr style=\"text-align: right;\">\n",
       "      <th></th>\n",
       "      <th>Country</th>\n",
       "      <th>Date</th>\n",
       "      <th>Users</th>\n",
       "    </tr>\n",
       "  </thead>\n",
       "  <tbody>\n",
       "    <tr>\n",
       "      <th>0</th>\n",
       "      <td>Panama</td>\n",
       "      <td>2019-04-05</td>\n",
       "      <td>1</td>\n",
       "    </tr>\n",
       "    <tr>\n",
       "      <th>1</th>\n",
       "      <td>Japan</td>\n",
       "      <td>2019-04-05</td>\n",
       "      <td>1</td>\n",
       "    </tr>\n",
       "    <tr>\n",
       "      <th>2</th>\n",
       "      <td>Brazil</td>\n",
       "      <td>2019-04-05</td>\n",
       "      <td>1</td>\n",
       "    </tr>\n",
       "    <tr>\n",
       "      <th>3</th>\n",
       "      <td>United States</td>\n",
       "      <td>2019-04-05</td>\n",
       "      <td>2</td>\n",
       "    </tr>\n",
       "    <tr>\n",
       "      <th>4</th>\n",
       "      <td>Canada</td>\n",
       "      <td>2019-04-05</td>\n",
       "      <td>21</td>\n",
       "    </tr>\n",
       "  </tbody>\n",
       "</table>\n",
       "</div>"
      ],
      "text/plain": [
       "         Country       Date  Users\n",
       "0         Panama 2019-04-05      1\n",
       "1          Japan 2019-04-05      1\n",
       "2         Brazil 2019-04-05      1\n",
       "3  United States 2019-04-05      2\n",
       "4         Canada 2019-04-05     21"
      ]
     },
     "execution_count": 29,
     "metadata": {},
     "output_type": "execute_result"
    }
   ],
   "source": [
    "goo.head()"
   ]
  },
  {
   "cell_type": "code",
   "execution_count": 30,
   "metadata": {},
   "outputs": [
    {
     "data": {
      "text/html": [
       "<div>\n",
       "<style scoped>\n",
       "    .dataframe tbody tr th:only-of-type {\n",
       "        vertical-align: middle;\n",
       "    }\n",
       "\n",
       "    .dataframe tbody tr th {\n",
       "        vertical-align: top;\n",
       "    }\n",
       "\n",
       "    .dataframe thead th {\n",
       "        text-align: right;\n",
       "    }\n",
       "</style>\n",
       "<table border=\"1\" class=\"dataframe\">\n",
       "  <thead>\n",
       "    <tr style=\"text-align: right;\">\n",
       "      <th></th>\n",
       "      <th>CountryName</th>\n",
       "      <th>Date</th>\n",
       "      <th>#OnlineUsers</th>\n",
       "    </tr>\n",
       "  </thead>\n",
       "  <tbody>\n",
       "    <tr>\n",
       "      <th>0</th>\n",
       "      <td>Panama</td>\n",
       "      <td>2019-04-05</td>\n",
       "      <td>1</td>\n",
       "    </tr>\n",
       "    <tr>\n",
       "      <th>1</th>\n",
       "      <td>Japan</td>\n",
       "      <td>2019-04-05</td>\n",
       "      <td>1</td>\n",
       "    </tr>\n",
       "    <tr>\n",
       "      <th>2</th>\n",
       "      <td>Brazil</td>\n",
       "      <td>2019-04-05</td>\n",
       "      <td>1</td>\n",
       "    </tr>\n",
       "    <tr>\n",
       "      <th>3</th>\n",
       "      <td>United States</td>\n",
       "      <td>2019-04-05</td>\n",
       "      <td>2</td>\n",
       "    </tr>\n",
       "    <tr>\n",
       "      <th>4</th>\n",
       "      <td>Canada</td>\n",
       "      <td>2019-04-05</td>\n",
       "      <td>21</td>\n",
       "    </tr>\n",
       "  </tbody>\n",
       "</table>\n",
       "</div>"
      ],
      "text/plain": [
       "     CountryName       Date  #OnlineUsers\n",
       "0         Panama 2019-04-05             1\n",
       "1          Japan 2019-04-05             1\n",
       "2         Brazil 2019-04-05             1\n",
       "3  United States 2019-04-05             2\n",
       "4         Canada 2019-04-05            21"
      ]
     },
     "execution_count": 30,
     "metadata": {},
     "output_type": "execute_result"
    }
   ],
   "source": [
    "goo.columns = ['CountryName','Date','#OnlineUsers'] #changed columns name\n",
    "goo.head()"
   ]
  },
  {
   "cell_type": "code",
   "execution_count": 31,
   "metadata": {},
   "outputs": [
    {
     "data": {
      "text/html": [
       "<div>\n",
       "<style scoped>\n",
       "    .dataframe tbody tr th:only-of-type {\n",
       "        vertical-align: middle;\n",
       "    }\n",
       "\n",
       "    .dataframe tbody tr th {\n",
       "        vertical-align: top;\n",
       "    }\n",
       "\n",
       "    .dataframe thead th {\n",
       "        text-align: right;\n",
       "    }\n",
       "</style>\n",
       "<table border=\"1\" class=\"dataframe\">\n",
       "  <thead>\n",
       "    <tr style=\"text-align: right;\">\n",
       "      <th></th>\n",
       "      <th>Date</th>\n",
       "      <th>CountryName</th>\n",
       "      <th>#OnlineUsers</th>\n",
       "    </tr>\n",
       "  </thead>\n",
       "  <tbody>\n",
       "    <tr>\n",
       "      <th>0</th>\n",
       "      <td>2019-04-05</td>\n",
       "      <td>Panama</td>\n",
       "      <td>1</td>\n",
       "    </tr>\n",
       "    <tr>\n",
       "      <th>1</th>\n",
       "      <td>2019-04-05</td>\n",
       "      <td>Japan</td>\n",
       "      <td>1</td>\n",
       "    </tr>\n",
       "    <tr>\n",
       "      <th>2</th>\n",
       "      <td>2019-04-05</td>\n",
       "      <td>Brazil</td>\n",
       "      <td>1</td>\n",
       "    </tr>\n",
       "    <tr>\n",
       "      <th>3</th>\n",
       "      <td>2019-04-05</td>\n",
       "      <td>United States</td>\n",
       "      <td>2</td>\n",
       "    </tr>\n",
       "    <tr>\n",
       "      <th>4</th>\n",
       "      <td>2019-04-05</td>\n",
       "      <td>Canada</td>\n",
       "      <td>21</td>\n",
       "    </tr>\n",
       "  </tbody>\n",
       "</table>\n",
       "</div>"
      ],
      "text/plain": [
       "        Date    CountryName  #OnlineUsers\n",
       "0 2019-04-05         Panama             1\n",
       "1 2019-04-05          Japan             1\n",
       "2 2019-04-05         Brazil             1\n",
       "3 2019-04-05  United States             2\n",
       "4 2019-04-05         Canada            21"
      ]
     },
     "execution_count": 31,
     "metadata": {},
     "output_type": "execute_result"
    }
   ],
   "source": [
    "goo = goo[['Date','CountryName','#OnlineUsers']] #reorder the columns\n",
    "goo.head()"
   ]
  },
  {
   "cell_type": "code",
   "execution_count": 32,
   "metadata": {},
   "outputs": [
    {
     "data": {
      "text/plain": [
       "RangeIndex(start=0, stop=3423, step=1)"
      ]
     },
     "execution_count": 32,
     "metadata": {},
     "output_type": "execute_result"
    }
   ],
   "source": [
    "goo.index #same number of rows from before"
   ]
  },
  {
   "cell_type": "markdown",
   "metadata": {},
   "source": [
    "* Merging Datasets (SA and GOO)"
   ]
  },
  {
   "cell_type": "code",
   "execution_count": 129,
   "metadata": {},
   "outputs": [
    {
     "data": {
      "text/html": [
       "<div>\n",
       "<style scoped>\n",
       "    .dataframe tbody tr th:only-of-type {\n",
       "        vertical-align: middle;\n",
       "    }\n",
       "\n",
       "    .dataframe tbody tr th {\n",
       "        vertical-align: top;\n",
       "    }\n",
       "\n",
       "    .dataframe thead th {\n",
       "        text-align: right;\n",
       "    }\n",
       "</style>\n",
       "<table border=\"1\" class=\"dataframe\">\n",
       "  <thead>\n",
       "    <tr style=\"text-align: right;\">\n",
       "      <th></th>\n",
       "      <th>Date</th>\n",
       "      <th>CountryName</th>\n",
       "      <th>#OnlineUsers</th>\n",
       "      <th>Sales</th>\n",
       "      <th>#ProductsBought</th>\n",
       "    </tr>\n",
       "  </thead>\n",
       "  <tbody>\n",
       "    <tr>\n",
       "      <th>0</th>\n",
       "      <td>2019-04-05</td>\n",
       "      <td>Japan</td>\n",
       "      <td>1</td>\n",
       "      <td>24.0</td>\n",
       "      <td>1</td>\n",
       "    </tr>\n",
       "    <tr>\n",
       "      <th>1</th>\n",
       "      <td>2019-04-05</td>\n",
       "      <td>Brazil</td>\n",
       "      <td>1</td>\n",
       "      <td>168.0</td>\n",
       "      <td>4</td>\n",
       "    </tr>\n",
       "    <tr>\n",
       "      <th>2</th>\n",
       "      <td>2019-04-05</td>\n",
       "      <td>Canada</td>\n",
       "      <td>21</td>\n",
       "      <td>59.0</td>\n",
       "      <td>1</td>\n",
       "    </tr>\n",
       "    <tr>\n",
       "      <th>3</th>\n",
       "      <td>2019-04-05</td>\n",
       "      <td>Mexico</td>\n",
       "      <td>1</td>\n",
       "      <td>25.0</td>\n",
       "      <td>1</td>\n",
       "    </tr>\n",
       "    <tr>\n",
       "      <th>4</th>\n",
       "      <td>2019-04-07</td>\n",
       "      <td>Canada</td>\n",
       "      <td>104</td>\n",
       "      <td>25.0</td>\n",
       "      <td>1</td>\n",
       "    </tr>\n",
       "    <tr>\n",
       "      <th>5</th>\n",
       "      <td>2019-04-07</td>\n",
       "      <td>United States</td>\n",
       "      <td>5</td>\n",
       "      <td>349.0</td>\n",
       "      <td>1</td>\n",
       "    </tr>\n",
       "    <tr>\n",
       "      <th>6</th>\n",
       "      <td>2019-04-07</td>\n",
       "      <td>Chile</td>\n",
       "      <td>1</td>\n",
       "      <td>64.0</td>\n",
       "      <td>1</td>\n",
       "    </tr>\n",
       "    <tr>\n",
       "      <th>7</th>\n",
       "      <td>2019-04-07</td>\n",
       "      <td>Japan</td>\n",
       "      <td>2</td>\n",
       "      <td>25.0</td>\n",
       "      <td>1</td>\n",
       "    </tr>\n",
       "    <tr>\n",
       "      <th>8</th>\n",
       "      <td>2019-04-08</td>\n",
       "      <td>Japan</td>\n",
       "      <td>9</td>\n",
       "      <td>25.0</td>\n",
       "      <td>1</td>\n",
       "    </tr>\n",
       "    <tr>\n",
       "      <th>9</th>\n",
       "      <td>2019-04-08</td>\n",
       "      <td>Colombia</td>\n",
       "      <td>4</td>\n",
       "      <td>25.0</td>\n",
       "      <td>1</td>\n",
       "    </tr>\n",
       "  </tbody>\n",
       "</table>\n",
       "</div>"
      ],
      "text/plain": [
       "        Date    CountryName  #OnlineUsers  Sales  #ProductsBought\n",
       "0 2019-04-05          Japan             1   24.0                1\n",
       "1 2019-04-05         Brazil             1  168.0                4\n",
       "2 2019-04-05         Canada            21   59.0                1\n",
       "3 2019-04-05         Mexico             1   25.0                1\n",
       "4 2019-04-07         Canada           104   25.0                1\n",
       "5 2019-04-07  United States             5  349.0                1\n",
       "6 2019-04-07          Chile             1   64.0                1\n",
       "7 2019-04-07          Japan             2   25.0                1\n",
       "8 2019-04-08          Japan             9   25.0                1\n",
       "9 2019-04-08       Colombia             4   25.0                1"
      ]
     },
     "execution_count": 129,
     "metadata": {},
     "output_type": "execute_result"
    }
   ],
   "source": [
    "sa_goo = goo.merge(sa6, how='inner', left_on=['Date', 'CountryName'], right_on=['Date', 'CountryName'])\n",
    "sa_goo.iloc [:10,:]"
   ]
  },
  {
   "cell_type": "code",
   "execution_count": 35,
   "metadata": {},
   "outputs": [
    {
     "data": {
      "text/plain": [
       "(347, 5)"
      ]
     },
     "execution_count": 35,
     "metadata": {},
     "output_type": "execute_result"
    }
   ],
   "source": [
    "sa_goo.shape #Lost 145 rows of data from dataset \"sa\" > probably sales occured from specific country but the access was in Canada"
   ]
  },
  {
   "cell_type": "code",
   "execution_count": 36,
   "metadata": {},
   "outputs": [
    {
     "data": {
      "text/html": [
       "<div>\n",
       "<style scoped>\n",
       "    .dataframe tbody tr th:only-of-type {\n",
       "        vertical-align: middle;\n",
       "    }\n",
       "\n",
       "    .dataframe tbody tr th {\n",
       "        vertical-align: top;\n",
       "    }\n",
       "\n",
       "    .dataframe thead th {\n",
       "        text-align: right;\n",
       "    }\n",
       "</style>\n",
       "<table border=\"1\" class=\"dataframe\">\n",
       "  <thead>\n",
       "    <tr style=\"text-align: right;\">\n",
       "      <th></th>\n",
       "      <th>Date</th>\n",
       "      <th>CountryName</th>\n",
       "      <th>#OnlineUsers</th>\n",
       "      <th>Sales</th>\n",
       "      <th>#ProductsBought</th>\n",
       "    </tr>\n",
       "  </thead>\n",
       "  <tbody>\n",
       "    <tr>\n",
       "      <th>0</th>\n",
       "      <td>2019-04-05</td>\n",
       "      <td>Panama</td>\n",
       "      <td>1</td>\n",
       "      <td>NaN</td>\n",
       "      <td>NaN</td>\n",
       "    </tr>\n",
       "    <tr>\n",
       "      <th>1</th>\n",
       "      <td>2019-04-05</td>\n",
       "      <td>Japan</td>\n",
       "      <td>1</td>\n",
       "      <td>24.0</td>\n",
       "      <td>1.0</td>\n",
       "    </tr>\n",
       "    <tr>\n",
       "      <th>2</th>\n",
       "      <td>2019-04-05</td>\n",
       "      <td>Brazil</td>\n",
       "      <td>1</td>\n",
       "      <td>168.0</td>\n",
       "      <td>4.0</td>\n",
       "    </tr>\n",
       "    <tr>\n",
       "      <th>3</th>\n",
       "      <td>2019-04-05</td>\n",
       "      <td>United States</td>\n",
       "      <td>2</td>\n",
       "      <td>NaN</td>\n",
       "      <td>NaN</td>\n",
       "    </tr>\n",
       "    <tr>\n",
       "      <th>4</th>\n",
       "      <td>2019-04-05</td>\n",
       "      <td>Canada</td>\n",
       "      <td>21</td>\n",
       "      <td>59.0</td>\n",
       "      <td>1.0</td>\n",
       "    </tr>\n",
       "  </tbody>\n",
       "</table>\n",
       "</div>"
      ],
      "text/plain": [
       "        Date    CountryName  #OnlineUsers  Sales  #ProductsBought\n",
       "0 2019-04-05         Panama             1    NaN              NaN\n",
       "1 2019-04-05          Japan             1   24.0              1.0\n",
       "2 2019-04-05         Brazil             1  168.0              4.0\n",
       "3 2019-04-05  United States             2    NaN              NaN\n",
       "4 2019-04-05         Canada            21   59.0              1.0"
      ]
     },
     "execution_count": 36,
     "metadata": {},
     "output_type": "execute_result"
    }
   ],
   "source": [
    "sgleft = goo.merge(sa6, how='left', on=['Date', 'CountryName']) #goo as main dataset\n",
    "sgleft.head()"
   ]
  },
  {
   "cell_type": "code",
   "execution_count": 37,
   "metadata": {},
   "outputs": [
    {
     "data": {
      "text/plain": [
       "(3423, 5)"
      ]
     },
     "execution_count": 37,
     "metadata": {},
     "output_type": "execute_result"
    }
   ],
   "source": [
    "sgleft.shape"
   ]
  },
  {
   "cell_type": "code",
   "execution_count": 38,
   "metadata": {},
   "outputs": [
    {
     "data": {
      "text/plain": [
       "(492, 5)"
      ]
     },
     "execution_count": 38,
     "metadata": {},
     "output_type": "execute_result"
    }
   ],
   "source": [
    "sgright = goo.merge(sa6, how='right', on=['Date', 'CountryName']) #sa as main dataset\n",
    "sgright.shape"
   ]
  },
  {
   "cell_type": "code",
   "execution_count": 39,
   "metadata": {},
   "outputs": [
    {
     "data": {
      "text/plain": [
       "(3568, 5)"
      ]
     },
     "execution_count": 39,
     "metadata": {},
     "output_type": "execute_result"
    }
   ],
   "source": [
    "sgouter = goo.merge(sa6, how='outer', on=['Date', 'CountryName']) \n",
    "#all datasets combined\n",
    "#For the purpose of predictions, will use the table inner (contains what was found for both dataset only)\n",
    "sgouter.shape"
   ]
  },
  {
   "cell_type": "markdown",
   "metadata": {},
   "source": [
    "# Data Visualization\n"
   ]
  },
  {
   "cell_type": "code",
   "execution_count": 40,
   "metadata": {},
   "outputs": [],
   "source": [
    "import seaborn as sns\n",
    "%matplotlib inline \n",
    "sns.set_style('whitegrid')"
   ]
  },
  {
   "cell_type": "markdown",
   "metadata": {},
   "source": [
    "* Quick visualization on the original data"
   ]
  },
  {
   "cell_type": "code",
   "execution_count": 41,
   "metadata": {},
   "outputs": [
    {
     "data": {
      "text/html": [
       "<div>\n",
       "<style scoped>\n",
       "    .dataframe tbody tr th:only-of-type {\n",
       "        vertical-align: middle;\n",
       "    }\n",
       "\n",
       "    .dataframe tbody tr th {\n",
       "        vertical-align: top;\n",
       "    }\n",
       "\n",
       "    .dataframe thead th {\n",
       "        text-align: right;\n",
       "    }\n",
       "</style>\n",
       "<table border=\"1\" class=\"dataframe\">\n",
       "  <thead>\n",
       "    <tr style=\"text-align: right;\">\n",
       "      <th></th>\n",
       "      <th>ticketNumber</th>\n",
       "      <th>Date</th>\n",
       "      <th>tripId</th>\n",
       "      <th>ticketStatus</th>\n",
       "      <th>tripName</th>\n",
       "      <th>tripAbbreviation</th>\n",
       "      <th>taxAbbreviation</th>\n",
       "      <th>startDate</th>\n",
       "      <th>tripCategoryId</th>\n",
       "      <th>GrossTicket</th>\n",
       "      <th>Commission</th>\n",
       "      <th>NetTicket</th>\n",
       "      <th>invoiceId</th>\n",
       "      <th>invoiceStatus</th>\n",
       "      <th>groupId</th>\n",
       "      <th>Sales Office Invoice</th>\n",
       "      <th>gender</th>\n",
       "      <th>dateOfBirth</th>\n",
       "      <th>countryOfOriginId</th>\n",
       "      <th>countryName</th>\n",
       "    </tr>\n",
       "  </thead>\n",
       "  <tbody>\n",
       "    <tr>\n",
       "      <th>0</th>\n",
       "      <td>4203-E81</td>\n",
       "      <td>2019-04-05</td>\n",
       "      <td>4203</td>\n",
       "      <td>2</td>\n",
       "      <td>Niagara Falls - Saturday</td>\n",
       "      <td>NF</td>\n",
       "      <td>HST</td>\n",
       "      <td>2019-04-20</td>\n",
       "      <td>1</td>\n",
       "      <td>59.0</td>\n",
       "      <td>0</td>\n",
       "      <td>59.0</td>\n",
       "      <td>105932</td>\n",
       "      <td>2</td>\n",
       "      <td>NaN</td>\n",
       "      <td>ISX Online</td>\n",
       "      <td>Female</td>\n",
       "      <td>1986-10-09</td>\n",
       "      <td>73.0</td>\n",
       "      <td>France</td>\n",
       "    </tr>\n",
       "    <tr>\n",
       "      <th>1</th>\n",
       "      <td>4203-SXF</td>\n",
       "      <td>2019-04-05</td>\n",
       "      <td>4203</td>\n",
       "      <td>2</td>\n",
       "      <td>Niagara Falls - Saturday</td>\n",
       "      <td>NF</td>\n",
       "      <td>HST</td>\n",
       "      <td>2019-04-20</td>\n",
       "      <td>1</td>\n",
       "      <td>59.0</td>\n",
       "      <td>0</td>\n",
       "      <td>59.0</td>\n",
       "      <td>105933</td>\n",
       "      <td>2</td>\n",
       "      <td>NaN</td>\n",
       "      <td>ISX Online</td>\n",
       "      <td>Female</td>\n",
       "      <td>1997-09-07</td>\n",
       "      <td>73.0</td>\n",
       "      <td>France</td>\n",
       "    </tr>\n",
       "    <tr>\n",
       "      <th>2</th>\n",
       "      <td>4203-UEW</td>\n",
       "      <td>2019-04-05</td>\n",
       "      <td>4203</td>\n",
       "      <td>2</td>\n",
       "      <td>Niagara Falls - Saturday</td>\n",
       "      <td>NF</td>\n",
       "      <td>HST</td>\n",
       "      <td>2019-04-20</td>\n",
       "      <td>1</td>\n",
       "      <td>59.0</td>\n",
       "      <td>0</td>\n",
       "      <td>59.0</td>\n",
       "      <td>105934</td>\n",
       "      <td>2</td>\n",
       "      <td>NaN</td>\n",
       "      <td>ISX Online</td>\n",
       "      <td>Male</td>\n",
       "      <td>2007-05-26</td>\n",
       "      <td>38.0</td>\n",
       "      <td>Canada</td>\n",
       "    </tr>\n",
       "    <tr>\n",
       "      <th>3</th>\n",
       "      <td>4217-2KH</td>\n",
       "      <td>2019-04-05</td>\n",
       "      <td>4217</td>\n",
       "      <td>2</td>\n",
       "      <td>ISX Sunset Boat Cruise Party (NEW BUS DEPARTUR...</td>\n",
       "      <td>BC</td>\n",
       "      <td>HST</td>\n",
       "      <td>2019-04-26</td>\n",
       "      <td>3</td>\n",
       "      <td>25.0</td>\n",
       "      <td>0</td>\n",
       "      <td>25.0</td>\n",
       "      <td>105935</td>\n",
       "      <td>2</td>\n",
       "      <td>NaN</td>\n",
       "      <td>ISX Online</td>\n",
       "      <td>Male</td>\n",
       "      <td>1987-11-10</td>\n",
       "      <td>30.0</td>\n",
       "      <td>Brazil</td>\n",
       "    </tr>\n",
       "    <tr>\n",
       "      <th>4</th>\n",
       "      <td>4217-I9I</td>\n",
       "      <td>2019-04-05</td>\n",
       "      <td>4217</td>\n",
       "      <td>2</td>\n",
       "      <td>ISX Sunset Boat Cruise Party (NEW BUS DEPARTUR...</td>\n",
       "      <td>BC</td>\n",
       "      <td>HST</td>\n",
       "      <td>2019-04-26</td>\n",
       "      <td>3</td>\n",
       "      <td>25.0</td>\n",
       "      <td>0</td>\n",
       "      <td>25.0</td>\n",
       "      <td>105936</td>\n",
       "      <td>2</td>\n",
       "      <td>NaN</td>\n",
       "      <td>ISX Online</td>\n",
       "      <td>Female</td>\n",
       "      <td>2000-06-30</td>\n",
       "      <td>30.0</td>\n",
       "      <td>Brazil</td>\n",
       "    </tr>\n",
       "  </tbody>\n",
       "</table>\n",
       "</div>"
      ],
      "text/plain": [
       "  ticketNumber       Date  tripId  ticketStatus  \\\n",
       "0     4203-E81 2019-04-05    4203             2   \n",
       "1     4203-SXF 2019-04-05    4203             2   \n",
       "2     4203-UEW 2019-04-05    4203             2   \n",
       "3     4217-2KH 2019-04-05    4217             2   \n",
       "4     4217-I9I 2019-04-05    4217             2   \n",
       "\n",
       "                                            tripName tripAbbreviation  \\\n",
       "0                           Niagara Falls - Saturday               NF   \n",
       "1                           Niagara Falls - Saturday               NF   \n",
       "2                           Niagara Falls - Saturday               NF   \n",
       "3  ISX Sunset Boat Cruise Party (NEW BUS DEPARTUR...               BC   \n",
       "4  ISX Sunset Boat Cruise Party (NEW BUS DEPARTUR...               BC   \n",
       "\n",
       "  taxAbbreviation   startDate  tripCategoryId  GrossTicket  Commission  \\\n",
       "0             HST  2019-04-20               1         59.0           0   \n",
       "1             HST  2019-04-20               1         59.0           0   \n",
       "2             HST  2019-04-20               1         59.0           0   \n",
       "3             HST  2019-04-26               3         25.0           0   \n",
       "4             HST  2019-04-26               3         25.0           0   \n",
       "\n",
       "   NetTicket  invoiceId  invoiceStatus  groupId Sales Office Invoice  gender  \\\n",
       "0       59.0     105932              2      NaN           ISX Online  Female   \n",
       "1       59.0     105933              2      NaN           ISX Online  Female   \n",
       "2       59.0     105934              2      NaN           ISX Online    Male   \n",
       "3       25.0     105935              2      NaN           ISX Online    Male   \n",
       "4       25.0     105936              2      NaN           ISX Online  Female   \n",
       "\n",
       "  dateOfBirth  countryOfOriginId countryName  \n",
       "0  1986-10-09               73.0      France  \n",
       "1  1997-09-07               73.0      France  \n",
       "2  2007-05-26               38.0      Canada  \n",
       "3  1987-11-10               30.0      Brazil  \n",
       "4  2000-06-30               30.0      Brazil  "
      ]
     },
     "execution_count": 41,
     "metadata": {},
     "output_type": "execute_result"
    }
   ],
   "source": [
    "sa_original.head()"
   ]
  },
  {
   "cell_type": "code",
   "execution_count": 42,
   "metadata": {},
   "outputs": [
    {
     "data": {
      "text/plain": [
       "<matplotlib.axes._subplots.AxesSubplot at 0x16fbe318438>"
      ]
     },
     "execution_count": 42,
     "metadata": {},
     "output_type": "execute_result"
    },
    {
     "data": {
      "image/png": "[encoded data removed]",
      "text/plain": [
       "<Figure size 432x288 with 1 Axes>"
      ]
     },
     "metadata": {},
     "output_type": "display_data"
    }
   ],
   "source": [
    "sns.scatterplot(data=sa_original, x='taxAbbreviation', y='NetTicket') \n",
    "#possible to see that the company online sales per purchase are higher on NY trips (tax code = . ) than Ontario trips (tax code = HST)\n",
    "#suggestion: Have the tax by total Sales (instead of per ticket)"
   ]
  },
  {
   "cell_type": "code",
   "execution_count": 43,
   "metadata": {},
   "outputs": [
    {
     "data": {
      "text/plain": [
       "<matplotlib.axes._subplots.AxesSubplot at 0x16fbe626860>"
      ]
     },
     "execution_count": 43,
     "metadata": {},
     "output_type": "execute_result"
    },
    {
     "data": {
      "image/png": "[encoded data removed]",
      "text/plain": [
       "<Figure size 432x288 with 1 Axes>"
      ]
     },
     "metadata": {},
     "output_type": "display_data"
    }
   ],
   "source": [
    "sns.scatterplot(data=sa_original, y='taxAbbreviation', x='NetTicket', hue='tripAbbreviation', alpha=0.8)"
   ]
  },
  {
   "cell_type": "code",
   "execution_count": 44,
   "metadata": {},
   "outputs": [
    {
     "data": {
      "text/plain": [
       "<matplotlib.axes._subplots.AxesSubplot at 0x16fbe6f3cc0>"
      ]
     },
     "execution_count": 44,
     "metadata": {},
     "output_type": "execute_result"
    },
    {
     "data": {
      "image/png": "[encoded data removed]",
      "text/plain": [
       "<Figure size 432x288 with 1 Axes>"
      ]
     },
     "metadata": {},
     "output_type": "display_data"
    }
   ],
   "source": [
    "sns.barplot(data=sa_original, y='taxAbbreviation', x='NetTicket', hue='gender')"
   ]
  },
  {
   "cell_type": "code",
   "execution_count": 46,
   "metadata": {},
   "outputs": [
    {
     "data": {
      "text/plain": [
       "<matplotlib.axes._subplots.AxesSubplot at 0x16fbe7a40f0>"
      ]
     },
     "execution_count": 46,
     "metadata": {},
     "output_type": "execute_result"
    },
    {
     "data": {
      "image/png": "[encoded data removed]",
      "text/plain": [
       "<Figure size 432x288 with 1 Axes>"
      ]
     },
     "metadata": {},
     "output_type": "display_data"
    }
   ],
   "source": [
    "sns.distplot(sa_original['NetTicket'], kde = False) #visualizing the frequency distribution of Sales in dollar increments"
   ]
  },
  {
   "cell_type": "code",
   "execution_count": 47,
   "metadata": {},
   "outputs": [
    {
     "data": {
      "text/plain": [
       "<matplotlib.axes._subplots.AxesSubplot at 0x16fbe7e1128>"
      ]
     },
     "execution_count": 47,
     "metadata": {},
     "output_type": "execute_result"
    },
    {
     "data": {
      "image/png": "[encoded data removed]",
      "text/plain": [
       "<Figure size 432x288 with 1 Axes>"
      ]
     },
     "metadata": {},
     "output_type": "display_data"
    }
   ],
   "source": [
    "sns.distplot(sa_original['NetTicket']) #area of the histogram is equal to 1"
   ]
  },
  {
   "cell_type": "code",
   "execution_count": 49,
   "metadata": {
    "collapsed": true
   },
   "outputs": [
    {
     "name": "stdout",
     "output_type": "stream",
     "text": [
      "gender\n",
      "Female    97392.0\n",
      "Male      54956.3\n",
      "Name: NetTicket, dtype: float64\n"
     ]
    }
   ],
   "source": [
    "gen = sa_original .groupby(['gender'])['NetTicket'].sum()\n",
    "print (gen)"
   ]
  },
  {
   "cell_type": "code",
   "execution_count": 50,
   "metadata": {
    "scrolled": true
   },
   "outputs": [
    {
     "data": {
      "image/png": "[encoded data removed]",
      "text/plain": [
       "<Figure size 432x288 with 1 Axes>"
      ]
     },
     "metadata": {},
     "output_type": "display_data"
    }
   ],
   "source": [
    "Amount = [97392.0, 54956.3]\n",
    "Gender = 'Female', 'Male'\n",
    "colors = ['r', 'g']\n",
    "plt.pie(Amount, labels=Gender, colors=colors, startangle=90, autopct='%.1f%%')\n",
    "plt.show()\n",
    "\n",
    "#Majority revenue from online sales comes from females."
   ]
  },
  {
   "cell_type": "code",
   "execution_count": 51,
   "metadata": {},
   "outputs": [],
   "source": [
    "#extra reports (future suggeestion)\n",
    "#fixtriptype = codes\n",
    "#Age by triptype\n",
    "#gender by triptype\n",
    "#age by totalspent\n",
    "#countrybytotalspent"
   ]
  },
  {
   "cell_type": "markdown",
   "metadata": {},
   "source": [
    "*Working now with the merged dataset choosen"
   ]
  },
  {
   "cell_type": "code",
   "execution_count": 52,
   "metadata": {},
   "outputs": [
    {
     "name": "stdout",
     "output_type": "stream",
     "text": [
      "CountryName\n",
      "Australia           479.0\n",
      "Austria              50.0\n",
      "Belgium             175.0\n",
      "Brazil            30481.3\n",
      "Canada            17974.0\n",
      "Chile                64.0\n",
      "China               595.0\n",
      "Colombia           3069.0\n",
      "Ecuador             334.0\n",
      "France             2094.0\n",
      "Germany            7604.0\n",
      "Hong Kong          1125.0\n",
      "India              4036.0\n",
      "Italy              6451.0\n",
      "Japan              7307.0\n",
      "Mexico            19056.0\n",
      "Netherlands          90.0\n",
      "Nigeria              60.0\n",
      "Poland              499.0\n",
      "Singapore           498.0\n",
      "Spain              1978.0\n",
      "Switzerland        2359.0\n",
      "Taiwan             1442.0\n",
      "Turkey               25.0\n",
      "Ukraine             268.0\n",
      "United Kingdom      408.0\n",
      "United States       468.0\n",
      "Name: Sales, dtype: float64\n"
     ]
    }
   ],
   "source": [
    "satot = sa_goo .groupby(['CountryName'])['Sales'].sum() #removed the dates\n",
    "print (satot)"
   ]
  },
  {
   "cell_type": "code",
   "execution_count": 53,
   "metadata": {},
   "outputs": [
    {
     "data": {
      "text/plain": [
       "pandas.core.series.Series"
      ]
     },
     "execution_count": 53,
     "metadata": {},
     "output_type": "execute_result"
    }
   ],
   "source": [
    "type(satot)"
   ]
  },
  {
   "cell_type": "code",
   "execution_count": 54,
   "metadata": {},
   "outputs": [
    {
     "data": {
      "text/plain": [
       "Index(['Australia', 'Austria', 'Belgium', 'Brazil', 'Canada', 'Chile', 'China',\n",
       "       'Colombia', 'Ecuador', 'France', 'Germany', 'Hong Kong', 'India',\n",
       "       'Italy', 'Japan', 'Mexico', 'Netherlands', 'Nigeria', 'Poland',\n",
       "       'Singapore', 'Spain', 'Switzerland', 'Taiwan', 'Turkey', 'Ukraine',\n",
       "       'United Kingdom', 'United States'],\n",
       "      dtype='object', name='CountryName')"
      ]
     },
     "execution_count": 54,
     "metadata": {},
     "output_type": "execute_result"
    }
   ],
   "source": [
    "satot.index"
   ]
  },
  {
   "cell_type": "code",
   "execution_count": 55,
   "metadata": {},
   "outputs": [
    {
     "data": {
      "text/html": [
       "<div>\n",
       "<style scoped>\n",
       "    .dataframe tbody tr th:only-of-type {\n",
       "        vertical-align: middle;\n",
       "    }\n",
       "\n",
       "    .dataframe tbody tr th {\n",
       "        vertical-align: top;\n",
       "    }\n",
       "\n",
       "    .dataframe thead th {\n",
       "        text-align: right;\n",
       "    }\n",
       "</style>\n",
       "<table border=\"1\" class=\"dataframe\">\n",
       "  <thead>\n",
       "    <tr style=\"text-align: right;\">\n",
       "      <th></th>\n",
       "      <th>CountryName</th>\n",
       "      <th>Sales</th>\n",
       "    </tr>\n",
       "  </thead>\n",
       "  <tbody>\n",
       "    <tr>\n",
       "      <th>0</th>\n",
       "      <td>Australia</td>\n",
       "      <td>479.0</td>\n",
       "    </tr>\n",
       "    <tr>\n",
       "      <th>1</th>\n",
       "      <td>Austria</td>\n",
       "      <td>50.0</td>\n",
       "    </tr>\n",
       "    <tr>\n",
       "      <th>2</th>\n",
       "      <td>Belgium</td>\n",
       "      <td>175.0</td>\n",
       "    </tr>\n",
       "    <tr>\n",
       "      <th>3</th>\n",
       "      <td>Brazil</td>\n",
       "      <td>30481.3</td>\n",
       "    </tr>\n",
       "    <tr>\n",
       "      <th>4</th>\n",
       "      <td>Canada</td>\n",
       "      <td>17974.0</td>\n",
       "    </tr>\n",
       "  </tbody>\n",
       "</table>\n",
       "</div>"
      ],
      "text/plain": [
       "  CountryName    Sales\n",
       "0   Australia    479.0\n",
       "1     Austria     50.0\n",
       "2     Belgium    175.0\n",
       "3      Brazil  30481.3\n",
       "4      Canada  17974.0"
      ]
     },
     "execution_count": 55,
     "metadata": {},
     "output_type": "execute_result"
    }
   ],
   "source": [
    "satot2= satot.reset_index()\n",
    "satot2.head()"
   ]
  },
  {
   "cell_type": "code",
   "execution_count": 56,
   "metadata": {},
   "outputs": [
    {
     "data": {
      "text/html": [
       "<div>\n",
       "<style scoped>\n",
       "    .dataframe tbody tr th:only-of-type {\n",
       "        vertical-align: middle;\n",
       "    }\n",
       "\n",
       "    .dataframe tbody tr th {\n",
       "        vertical-align: top;\n",
       "    }\n",
       "\n",
       "    .dataframe thead th {\n",
       "        text-align: right;\n",
       "    }\n",
       "</style>\n",
       "<table border=\"1\" class=\"dataframe\">\n",
       "  <thead>\n",
       "    <tr style=\"text-align: right;\">\n",
       "      <th></th>\n",
       "      <th>CountryName</th>\n",
       "      <th>Sales</th>\n",
       "    </tr>\n",
       "  </thead>\n",
       "  <tbody>\n",
       "    <tr>\n",
       "      <th>3</th>\n",
       "      <td>Brazil</td>\n",
       "      <td>30481.3</td>\n",
       "    </tr>\n",
       "    <tr>\n",
       "      <th>15</th>\n",
       "      <td>Mexico</td>\n",
       "      <td>19056.0</td>\n",
       "    </tr>\n",
       "    <tr>\n",
       "      <th>4</th>\n",
       "      <td>Canada</td>\n",
       "      <td>17974.0</td>\n",
       "    </tr>\n",
       "    <tr>\n",
       "      <th>10</th>\n",
       "      <td>Germany</td>\n",
       "      <td>7604.0</td>\n",
       "    </tr>\n",
       "    <tr>\n",
       "      <th>14</th>\n",
       "      <td>Japan</td>\n",
       "      <td>7307.0</td>\n",
       "    </tr>\n",
       "  </tbody>\n",
       "</table>\n",
       "</div>"
      ],
      "text/plain": [
       "   CountryName    Sales\n",
       "3       Brazil  30481.3\n",
       "15      Mexico  19056.0\n",
       "4       Canada  17974.0\n",
       "10     Germany   7604.0\n",
       "14       Japan   7307.0"
      ]
     },
     "execution_count": 56,
     "metadata": {},
     "output_type": "execute_result"
    }
   ],
   "source": [
    "satot2.sort_values('Sales', ascending=False, inplace=True) #sort by sales\n",
    "satot2.head()"
   ]
  },
  {
   "cell_type": "code",
   "execution_count": 57,
   "metadata": {},
   "outputs": [
    {
     "name": "stdout",
     "output_type": "stream",
     "text": [
      "   CountryName    Sales\n",
      "0       Brazil  30481.3\n",
      "1       Mexico  19056.0\n",
      "2       Canada  17974.0\n",
      "3      Germany   7604.0\n",
      "4        Japan   7307.0\n",
      "5        Italy   6451.0\n",
      "6        India   4036.0\n",
      "7     Colombia   3069.0\n",
      "8  Switzerland   2359.0\n",
      "9       France   2094.0\n"
     ]
    }
   ],
   "source": [
    "satot3= satot2.reset_index(drop=True) \n",
    "satot4 = satot3.iloc[:10,:]\n",
    "print(satot4)"
   ]
  },
  {
   "cell_type": "code",
   "execution_count": 58,
   "metadata": {},
   "outputs": [
    {
     "data": {
      "image/png": "[encoded data removed]",
      "text/plain": [
       "<Figure size 432x288 with 1 Axes>"
      ]
     },
     "metadata": {},
     "output_type": "display_data"
    }
   ],
   "source": [
    "Amount = satot4['Sales']\n",
    "Label = satot4['CountryName']\n",
    "plt.pie(Amount, labels=Label , startangle=20, autopct='%.1f%%')\n",
    "plt.show()\n",
    "\n",
    "#Countries by Sales (sales that I had online users only)"
   ]
  },
  {
   "cell_type": "markdown",
   "metadata": {},
   "source": [
    "# Statistics and Probability"
   ]
  },
  {
   "cell_type": "code",
   "execution_count": 59,
   "metadata": {},
   "outputs": [
    {
     "data": {
      "text/html": [
       "<div>\n",
       "<style scoped>\n",
       "    .dataframe tbody tr th:only-of-type {\n",
       "        vertical-align: middle;\n",
       "    }\n",
       "\n",
       "    .dataframe tbody tr th {\n",
       "        vertical-align: top;\n",
       "    }\n",
       "\n",
       "    .dataframe thead th {\n",
       "        text-align: right;\n",
       "    }\n",
       "</style>\n",
       "<table border=\"1\" class=\"dataframe\">\n",
       "  <thead>\n",
       "    <tr style=\"text-align: right;\">\n",
       "      <th></th>\n",
       "      <th>Date</th>\n",
       "      <th>CountryName</th>\n",
       "      <th>#OnlineUsers</th>\n",
       "      <th>Sales</th>\n",
       "      <th>#ProductsBought</th>\n",
       "    </tr>\n",
       "  </thead>\n",
       "  <tbody>\n",
       "    <tr>\n",
       "      <th>0</th>\n",
       "      <td>2019-04-05</td>\n",
       "      <td>Japan</td>\n",
       "      <td>1</td>\n",
       "      <td>24.0</td>\n",
       "      <td>1</td>\n",
       "    </tr>\n",
       "    <tr>\n",
       "      <th>1</th>\n",
       "      <td>2019-04-05</td>\n",
       "      <td>Brazil</td>\n",
       "      <td>1</td>\n",
       "      <td>168.0</td>\n",
       "      <td>4</td>\n",
       "    </tr>\n",
       "    <tr>\n",
       "      <th>2</th>\n",
       "      <td>2019-04-05</td>\n",
       "      <td>Canada</td>\n",
       "      <td>21</td>\n",
       "      <td>59.0</td>\n",
       "      <td>1</td>\n",
       "    </tr>\n",
       "    <tr>\n",
       "      <th>3</th>\n",
       "      <td>2019-04-05</td>\n",
       "      <td>Mexico</td>\n",
       "      <td>1</td>\n",
       "      <td>25.0</td>\n",
       "      <td>1</td>\n",
       "    </tr>\n",
       "    <tr>\n",
       "      <th>4</th>\n",
       "      <td>2019-04-07</td>\n",
       "      <td>Canada</td>\n",
       "      <td>104</td>\n",
       "      <td>25.0</td>\n",
       "      <td>1</td>\n",
       "    </tr>\n",
       "  </tbody>\n",
       "</table>\n",
       "</div>"
      ],
      "text/plain": [
       "        Date CountryName  #OnlineUsers  Sales  #ProductsBought\n",
       "0 2019-04-05       Japan             1   24.0                1\n",
       "1 2019-04-05      Brazil             1  168.0                4\n",
       "2 2019-04-05      Canada            21   59.0                1\n",
       "3 2019-04-05      Mexico             1   25.0                1\n",
       "4 2019-04-07      Canada           104   25.0                1"
      ]
     },
     "execution_count": 59,
     "metadata": {},
     "output_type": "execute_result"
    }
   ],
   "source": [
    "http://localhost:8888/notebooks/OneDrive/%C3%81rea%20de%20Trabalho/Learning/FB%20-%20Brainstation/Brainstation%20-%20Final%20Project.ipynb#Statistics-and-Probabilitysa_goo.head()"
   ]
  },
  {
   "cell_type": "code",
   "execution_count": 60,
   "metadata": {},
   "outputs": [
    {
     "data": {
      "text/plain": [
       "(347, 5)"
      ]
     },
     "execution_count": 60,
     "metadata": {},
     "output_type": "execute_result"
    }
   ],
   "source": [
    "sa_goo.shape"
   ]
  },
  {
   "cell_type": "code",
   "execution_count": 61,
   "metadata": {},
   "outputs": [
    {
     "name": "stdout",
     "output_type": "stream",
     "text": [
      "#OnlineUsers        37.824207\n",
      "Sales              314.090202\n",
      "#ProductsBought      1.858790\n",
      "dtype: float64\n"
     ]
    }
   ],
   "source": [
    "print(sa_goo.mean())"
   ]
  },
  {
   "cell_type": "code",
   "execution_count": 62,
   "metadata": {},
   "outputs": [
    {
     "name": "stdout",
     "output_type": "stream",
     "text": [
      "#OnlineUsers         9.0\n",
      "Sales              190.0\n",
      "#ProductsBought      1.0\n",
      "dtype: float64\n"
     ]
    }
   ],
   "source": [
    "print(sa_goo.median())"
   ]
  },
  {
   "cell_type": "code",
   "execution_count": 63,
   "metadata": {},
   "outputs": [
    {
     "name": "stdout",
     "output_type": "stream",
     "text": [
      "#OnlineUsers        66.372096\n",
      "Sales              371.169116\n",
      "#ProductsBought      1.438610\n",
      "dtype: float64\n"
     ]
    }
   ],
   "source": [
    "print(sa_goo.std())"
   ]
  },
  {
   "cell_type": "code",
   "execution_count": 64,
   "metadata": {},
   "outputs": [
    {
     "name": "stdout",
     "output_type": "stream",
     "text": [
      "#OnlineUsers         4405.255135\n",
      "Sales              137766.512331\n",
      "#ProductsBought         2.069597\n",
      "dtype: float64\n"
     ]
    }
   ],
   "source": [
    "print(sa_goo.var())"
   ]
  },
  {
   "cell_type": "code",
   "execution_count": 65,
   "metadata": {},
   "outputs": [
    {
     "data": {
      "text/plain": [
       "<matplotlib.axes._subplots.AxesSubplot at 0x16fbe9d36a0>"
      ]
     },
     "execution_count": 65,
     "metadata": {},
     "output_type": "execute_result"
    },
    {
     "data": {
      "image/png": "[encoded data removed]",
      "text/plain": [
       "<Figure size 432x288 with 2 Axes>"
      ]
     },
     "metadata": {},
     "output_type": "display_data"
    }
   ],
   "source": [
    "import seaborn as sns\n",
    "sns.heatmap(sa_goo.corr()) #weak correlation between online users and online sales"
   ]
  },
  {
   "cell_type": "code",
   "execution_count": 131,
   "metadata": {},
   "outputs": [
    {
     "data": {
      "text/html": [
       "<div>\n",
       "<style scoped>\n",
       "    .dataframe tbody tr th:only-of-type {\n",
       "        vertical-align: middle;\n",
       "    }\n",
       "\n",
       "    .dataframe tbody tr th {\n",
       "        vertical-align: top;\n",
       "    }\n",
       "\n",
       "    .dataframe thead th {\n",
       "        text-align: right;\n",
       "    }\n",
       "</style>\n",
       "<table border=\"1\" class=\"dataframe\">\n",
       "  <thead>\n",
       "    <tr style=\"text-align: right;\">\n",
       "      <th></th>\n",
       "      <th>Sales</th>\n",
       "      <th>#OnlineUsers</th>\n",
       "      <th>#ProductsBought</th>\n",
       "    </tr>\n",
       "    <tr>\n",
       "      <th>CountryName</th>\n",
       "      <th></th>\n",
       "      <th></th>\n",
       "      <th></th>\n",
       "    </tr>\n",
       "  </thead>\n",
       "  <tbody>\n",
       "    <tr>\n",
       "      <th>Australia</th>\n",
       "      <td>479.0</td>\n",
       "      <td>2</td>\n",
       "      <td>3</td>\n",
       "    </tr>\n",
       "    <tr>\n",
       "      <th>Austria</th>\n",
       "      <td>50.0</td>\n",
       "      <td>1</td>\n",
       "      <td>2</td>\n",
       "    </tr>\n",
       "    <tr>\n",
       "      <th>Belgium</th>\n",
       "      <td>175.0</td>\n",
       "      <td>11</td>\n",
       "      <td>3</td>\n",
       "    </tr>\n",
       "    <tr>\n",
       "      <th>Brazil</th>\n",
       "      <td>30481.3</td>\n",
       "      <td>1304</td>\n",
       "      <td>172</td>\n",
       "    </tr>\n",
       "    <tr>\n",
       "      <th>Canada</th>\n",
       "      <td>17974.0</td>\n",
       "      <td>9538</td>\n",
       "      <td>96</td>\n",
       "    </tr>\n",
       "  </tbody>\n",
       "</table>\n",
       "</div>"
      ],
      "text/plain": [
       "               Sales  #OnlineUsers  #ProductsBought\n",
       "CountryName                                        \n",
       "Australia      479.0             2                3\n",
       "Austria         50.0             1                2\n",
       "Belgium        175.0            11                3\n",
       "Brazil       30481.3          1304              172\n",
       "Canada       17974.0          9538               96"
      ]
     },
     "execution_count": 131,
     "metadata": {},
     "output_type": "execute_result"
    }
   ],
   "source": [
    "inner2 = sa_goo.groupby(['CountryName',])['Sales','#OnlineUsers','#ProductsBought'].sum() #grouping, removing dates\n",
    "inner2.iloc [:5,:]"
   ]
  },
  {
   "cell_type": "code",
   "execution_count": 68,
   "metadata": {},
   "outputs": [
    {
     "data": {
      "text/plain": [
       "(27, 3)"
      ]
     },
     "execution_count": 68,
     "metadata": {},
     "output_type": "execute_result"
    }
   ],
   "source": [
    "inner2.shape"
   ]
  },
  {
   "cell_type": "code",
   "execution_count": 69,
   "metadata": {},
   "outputs": [
    {
     "data": {
      "text/html": [
       "<div>\n",
       "<style scoped>\n",
       "    .dataframe tbody tr th:only-of-type {\n",
       "        vertical-align: middle;\n",
       "    }\n",
       "\n",
       "    .dataframe tbody tr th {\n",
       "        vertical-align: top;\n",
       "    }\n",
       "\n",
       "    .dataframe thead th {\n",
       "        text-align: right;\n",
       "    }\n",
       "</style>\n",
       "<table border=\"1\" class=\"dataframe\">\n",
       "  <thead>\n",
       "    <tr style=\"text-align: right;\">\n",
       "      <th></th>\n",
       "      <th>Sales</th>\n",
       "      <th>#OnlineUsers</th>\n",
       "      <th>#ProductsBought</th>\n",
       "    </tr>\n",
       "  </thead>\n",
       "  <tbody>\n",
       "    <tr>\n",
       "      <th>count</th>\n",
       "      <td>27.000000</td>\n",
       "      <td>27.000000</td>\n",
       "      <td>27.000000</td>\n",
       "    </tr>\n",
       "    <tr>\n",
       "      <th>mean</th>\n",
       "      <td>4036.640741</td>\n",
       "      <td>486.111111</td>\n",
       "      <td>23.888889</td>\n",
       "    </tr>\n",
       "    <tr>\n",
       "      <th>std</th>\n",
       "      <td>7266.353998</td>\n",
       "      <td>1834.658391</td>\n",
       "      <td>40.504827</td>\n",
       "    </tr>\n",
       "    <tr>\n",
       "      <th>min</th>\n",
       "      <td>25.000000</td>\n",
       "      <td>1.000000</td>\n",
       "      <td>1.000000</td>\n",
       "    </tr>\n",
       "    <tr>\n",
       "      <th>25%</th>\n",
       "      <td>301.000000</td>\n",
       "      <td>2.000000</td>\n",
       "      <td>2.000000</td>\n",
       "    </tr>\n",
       "    <tr>\n",
       "      <th>50%</th>\n",
       "      <td>595.000000</td>\n",
       "      <td>11.000000</td>\n",
       "      <td>4.000000</td>\n",
       "    </tr>\n",
       "    <tr>\n",
       "      <th>75%</th>\n",
       "      <td>3552.500000</td>\n",
       "      <td>56.000000</td>\n",
       "      <td>22.500000</td>\n",
       "    </tr>\n",
       "    <tr>\n",
       "      <th>max</th>\n",
       "      <td>30481.300000</td>\n",
       "      <td>9538.000000</td>\n",
       "      <td>172.000000</td>\n",
       "    </tr>\n",
       "  </tbody>\n",
       "</table>\n",
       "</div>"
      ],
      "text/plain": [
       "              Sales  #OnlineUsers  #ProductsBought\n",
       "count     27.000000     27.000000        27.000000\n",
       "mean    4036.640741    486.111111        23.888889\n",
       "std     7266.353998   1834.658391        40.504827\n",
       "min       25.000000      1.000000         1.000000\n",
       "25%      301.000000      2.000000         2.000000\n",
       "50%      595.000000     11.000000         4.000000\n",
       "75%     3552.500000     56.000000        22.500000\n",
       "max    30481.300000   9538.000000       172.000000"
      ]
     },
     "execution_count": 69,
     "metadata": {},
     "output_type": "execute_result"
    }
   ],
   "source": [
    "inner2.describe() #higher std on sales (min 25-max~30k)"
   ]
  },
  {
   "cell_type": "code",
   "execution_count": 70,
   "metadata": {},
   "outputs": [
    {
     "data": {
      "image/png": "[encoded data removed]",
      "text/plain": [
       "<Figure size 432x288 with 1 Axes>"
      ]
     },
     "metadata": {},
     "output_type": "display_data"
    }
   ],
   "source": [
    "inner2.plot();"
   ]
  },
  {
   "cell_type": "code",
   "execution_count": 71,
   "metadata": {},
   "outputs": [
    {
     "name": "stdout",
     "output_type": "stream",
     "text": [
      "                  Sales  #OnlineUsers  #ProductsBought\n",
      "CountryName                                           \n",
      "Australia         479.0             2                3\n",
      "Austria            50.0             1                2\n",
      "Belgium           175.0            11                3\n",
      "Brazil          30481.3          1304              172\n",
      "Chile              64.0             1                1\n",
      "China             595.0             2                2\n",
      "Colombia         3069.0            21               23\n",
      "Ecuador           334.0             3                2\n",
      "France           2094.0            56               22\n",
      "Germany          7604.0           506               48\n",
      "Hong Kong        1125.0             6                5\n",
      "India            4036.0           849               22\n",
      "Italy            6451.0           135               41\n",
      "Japan            7307.0            56               48\n",
      "Mexico          19056.0           462              105\n",
      "Netherlands        90.0             1                1\n",
      "Nigeria            60.0             1                1\n",
      "Poland            499.0             1                1\n",
      "Singapore         498.0             1                2\n",
      "Spain            1978.0            32               11\n",
      "Switzerland      2359.0            22               13\n",
      "Taiwan           1442.0            10                7\n",
      "Turkey             25.0             3                4\n",
      "Ukraine           268.0             6                4\n",
      "United Kingdom    408.0            52                2\n",
      "United States     468.0            43                4\n"
     ]
    }
   ],
   "source": [
    "gr5 = inner2.drop(['Canada'], axis=0) #dropped Canada since Google Analytics brings the location of the device as a User - not where they're from.\n",
    "print(gr5)"
   ]
  },
  {
   "cell_type": "code",
   "execution_count": 72,
   "metadata": {},
   "outputs": [
    {
     "data": {
      "text/html": [
       "<div>\n",
       "<style scoped>\n",
       "    .dataframe tbody tr th:only-of-type {\n",
       "        vertical-align: middle;\n",
       "    }\n",
       "\n",
       "    .dataframe tbody tr th {\n",
       "        vertical-align: top;\n",
       "    }\n",
       "\n",
       "    .dataframe thead th {\n",
       "        text-align: right;\n",
       "    }\n",
       "</style>\n",
       "<table border=\"1\" class=\"dataframe\">\n",
       "  <thead>\n",
       "    <tr style=\"text-align: right;\">\n",
       "      <th></th>\n",
       "      <th>Sales</th>\n",
       "      <th>#OnlineUsers</th>\n",
       "      <th>#ProductsBought</th>\n",
       "    </tr>\n",
       "    <tr>\n",
       "      <th>CountryName</th>\n",
       "      <th></th>\n",
       "      <th></th>\n",
       "      <th></th>\n",
       "    </tr>\n",
       "  </thead>\n",
       "  <tbody>\n",
       "    <tr>\n",
       "      <th>Australia</th>\n",
       "      <td>479.0</td>\n",
       "      <td>2</td>\n",
       "      <td>3</td>\n",
       "    </tr>\n",
       "    <tr>\n",
       "      <th>Austria</th>\n",
       "      <td>50.0</td>\n",
       "      <td>1</td>\n",
       "      <td>2</td>\n",
       "    </tr>\n",
       "    <tr>\n",
       "      <th>Belgium</th>\n",
       "      <td>175.0</td>\n",
       "      <td>11</td>\n",
       "      <td>3</td>\n",
       "    </tr>\n",
       "    <tr>\n",
       "      <th>Brazil</th>\n",
       "      <td>30481.3</td>\n",
       "      <td>1304</td>\n",
       "      <td>172</td>\n",
       "    </tr>\n",
       "    <tr>\n",
       "      <th>Chile</th>\n",
       "      <td>64.0</td>\n",
       "      <td>1</td>\n",
       "      <td>1</td>\n",
       "    </tr>\n",
       "  </tbody>\n",
       "</table>\n",
       "</div>"
      ],
      "text/plain": [
       "               Sales  #OnlineUsers  #ProductsBought\n",
       "CountryName                                        \n",
       "Australia      479.0             2                3\n",
       "Austria         50.0             1                2\n",
       "Belgium        175.0            11                3\n",
       "Brazil       30481.3          1304              172\n",
       "Chile           64.0             1                1"
      ]
     },
     "execution_count": 72,
     "metadata": {},
     "output_type": "execute_result"
    }
   ],
   "source": [
    "gr5.head()"
   ]
  },
  {
   "cell_type": "code",
   "execution_count": 73,
   "metadata": {},
   "outputs": [
    {
     "data": {
      "text/plain": [
       "Index(['Australia', 'Austria', 'Belgium', 'Brazil', 'Chile', 'China',\n",
       "       'Colombia', 'Ecuador', 'France', 'Germany', 'Hong Kong', 'India',\n",
       "       'Italy', 'Japan', 'Mexico', 'Netherlands', 'Nigeria', 'Poland',\n",
       "       'Singapore', 'Spain', 'Switzerland', 'Taiwan', 'Turkey', 'Ukraine',\n",
       "       'United Kingdom', 'United States'],\n",
       "      dtype='object', name='CountryName')"
      ]
     },
     "execution_count": 73,
     "metadata": {},
     "output_type": "execute_result"
    }
   ],
   "source": [
    "gr5.index"
   ]
  },
  {
   "cell_type": "code",
   "execution_count": 74,
   "metadata": {},
   "outputs": [
    {
     "data": {
      "text/html": [
       "<div>\n",
       "<style scoped>\n",
       "    .dataframe tbody tr th:only-of-type {\n",
       "        vertical-align: middle;\n",
       "    }\n",
       "\n",
       "    .dataframe tbody tr th {\n",
       "        vertical-align: top;\n",
       "    }\n",
       "\n",
       "    .dataframe thead th {\n",
       "        text-align: right;\n",
       "    }\n",
       "</style>\n",
       "<table border=\"1\" class=\"dataframe\">\n",
       "  <thead>\n",
       "    <tr style=\"text-align: right;\">\n",
       "      <th></th>\n",
       "      <th>CountryName</th>\n",
       "      <th>Sales</th>\n",
       "      <th>#OnlineUsers</th>\n",
       "      <th>#ProductsBought</th>\n",
       "    </tr>\n",
       "  </thead>\n",
       "  <tbody>\n",
       "    <tr>\n",
       "      <th>0</th>\n",
       "      <td>Australia</td>\n",
       "      <td>479.0</td>\n",
       "      <td>2</td>\n",
       "      <td>3</td>\n",
       "    </tr>\n",
       "    <tr>\n",
       "      <th>1</th>\n",
       "      <td>Austria</td>\n",
       "      <td>50.0</td>\n",
       "      <td>1</td>\n",
       "      <td>2</td>\n",
       "    </tr>\n",
       "    <tr>\n",
       "      <th>2</th>\n",
       "      <td>Belgium</td>\n",
       "      <td>175.0</td>\n",
       "      <td>11</td>\n",
       "      <td>3</td>\n",
       "    </tr>\n",
       "    <tr>\n",
       "      <th>3</th>\n",
       "      <td>Brazil</td>\n",
       "      <td>30481.3</td>\n",
       "      <td>1304</td>\n",
       "      <td>172</td>\n",
       "    </tr>\n",
       "    <tr>\n",
       "      <th>4</th>\n",
       "      <td>Chile</td>\n",
       "      <td>64.0</td>\n",
       "      <td>1</td>\n",
       "      <td>1</td>\n",
       "    </tr>\n",
       "  </tbody>\n",
       "</table>\n",
       "</div>"
      ],
      "text/plain": [
       "  CountryName    Sales  #OnlineUsers  #ProductsBought\n",
       "0   Australia    479.0             2                3\n",
       "1     Austria     50.0             1                2\n",
       "2     Belgium    175.0            11                3\n",
       "3      Brazil  30481.3          1304              172\n",
       "4       Chile     64.0             1                1"
      ]
     },
     "execution_count": 74,
     "metadata": {},
     "output_type": "execute_result"
    }
   ],
   "source": [
    "gr6 = gr5.reset_index()\n",
    "gr6.head()"
   ]
  },
  {
   "cell_type": "code",
   "execution_count": 75,
   "metadata": {},
   "outputs": [
    {
     "data": {
      "image/png": "[encoded data removed]",
      "text/plain": [
       "<Figure size 432x288 with 1 Axes>"
      ]
     },
     "metadata": {},
     "output_type": "display_data"
    }
   ],
   "source": [
    "gr5.plot();"
   ]
  },
  {
   "cell_type": "code",
   "execution_count": 76,
   "metadata": {},
   "outputs": [
    {
     "data": {
      "text/html": [
       "<div>\n",
       "<style scoped>\n",
       "    .dataframe tbody tr th:only-of-type {\n",
       "        vertical-align: middle;\n",
       "    }\n",
       "\n",
       "    .dataframe tbody tr th {\n",
       "        vertical-align: top;\n",
       "    }\n",
       "\n",
       "    .dataframe thead th {\n",
       "        text-align: right;\n",
       "    }\n",
       "</style>\n",
       "<table border=\"1\" class=\"dataframe\">\n",
       "  <thead>\n",
       "    <tr style=\"text-align: right;\">\n",
       "      <th></th>\n",
       "      <th>Sales</th>\n",
       "      <th>#OnlineUsers</th>\n",
       "      <th>#ProductsBought</th>\n",
       "    </tr>\n",
       "  </thead>\n",
       "  <tbody>\n",
       "    <tr>\n",
       "      <th>count</th>\n",
       "      <td>26.000000</td>\n",
       "      <td>26.000000</td>\n",
       "      <td>26.000000</td>\n",
       "    </tr>\n",
       "    <tr>\n",
       "      <th>mean</th>\n",
       "      <td>3500.588462</td>\n",
       "      <td>137.961538</td>\n",
       "      <td>21.115385</td>\n",
       "    </tr>\n",
       "    <tr>\n",
       "      <th>std</th>\n",
       "      <td>6844.198345</td>\n",
       "      <td>311.586454</td>\n",
       "      <td>38.603966</td>\n",
       "    </tr>\n",
       "    <tr>\n",
       "      <th>min</th>\n",
       "      <td>25.000000</td>\n",
       "      <td>1.000000</td>\n",
       "      <td>1.000000</td>\n",
       "    </tr>\n",
       "    <tr>\n",
       "      <th>25%</th>\n",
       "      <td>284.500000</td>\n",
       "      <td>2.000000</td>\n",
       "      <td>2.000000</td>\n",
       "    </tr>\n",
       "    <tr>\n",
       "      <th>50%</th>\n",
       "      <td>547.000000</td>\n",
       "      <td>10.500000</td>\n",
       "      <td>4.000000</td>\n",
       "    </tr>\n",
       "    <tr>\n",
       "      <th>75%</th>\n",
       "      <td>2891.500000</td>\n",
       "      <td>55.000000</td>\n",
       "      <td>22.000000</td>\n",
       "    </tr>\n",
       "    <tr>\n",
       "      <th>max</th>\n",
       "      <td>30481.300000</td>\n",
       "      <td>1304.000000</td>\n",
       "      <td>172.000000</td>\n",
       "    </tr>\n",
       "  </tbody>\n",
       "</table>\n",
       "</div>"
      ],
      "text/plain": [
       "              Sales  #OnlineUsers  #ProductsBought\n",
       "count     26.000000     26.000000        26.000000\n",
       "mean    3500.588462    137.961538        21.115385\n",
       "std     6844.198345    311.586454        38.603966\n",
       "min       25.000000      1.000000         1.000000\n",
       "25%      284.500000      2.000000         2.000000\n",
       "50%      547.000000     10.500000         4.000000\n",
       "75%     2891.500000     55.000000        22.000000\n",
       "max    30481.300000   1304.000000       172.000000"
      ]
     },
     "execution_count": 76,
     "metadata": {},
     "output_type": "execute_result"
    }
   ],
   "source": [
    "gr6.describe() #bc I dropped Canada, std on #Online Sales is lower."
   ]
  },
  {
   "cell_type": "code",
   "execution_count": 77,
   "metadata": {},
   "outputs": [
    {
     "data": {
      "text/plain": [
       "<seaborn.axisgrid.PairGrid at 0x16fbfb44208>"
      ]
     },
     "execution_count": 77,
     "metadata": {},
     "output_type": "execute_result"
    },
    {
     "data": {
      "image/png": "[encoded data removed]",
      "text/plain": [
       "<Figure size 540x540 with 12 Axes>"
      ]
     },
     "metadata": {},
     "output_type": "display_data"
    }
   ],
   "source": [
    "sns.pairplot(sa_goo)"
   ]
  },
  {
   "cell_type": "code",
   "execution_count": 78,
   "metadata": {},
   "outputs": [
    {
     "data": {
      "text/plain": [
       "<seaborn.axisgrid.PairGrid at 0x16fbff4aba8>"
      ]
     },
     "execution_count": 78,
     "metadata": {},
     "output_type": "execute_result"
    },
    {
     "data": {
      "image/png": "[encoded data removed]",
      "text/plain": [
       "<Figure size 540x540 with 12 Axes>"
      ]
     },
     "metadata": {},
     "output_type": "display_data"
    }
   ],
   "source": [
    "sns.pairplot(gr6) #strong relationship bettween sales and #products, not too good bettween online users and sales"
   ]
  },
  {
   "cell_type": "markdown",
   "metadata": {},
   "source": [
    "## Modeling"
   ]
  },
  {
   "cell_type": "code",
   "execution_count": 79,
   "metadata": {},
   "outputs": [
    {
     "data": {
      "text/html": [
       "<div>\n",
       "<style scoped>\n",
       "    .dataframe tbody tr th:only-of-type {\n",
       "        vertical-align: middle;\n",
       "    }\n",
       "\n",
       "    .dataframe tbody tr th {\n",
       "        vertical-align: top;\n",
       "    }\n",
       "\n",
       "    .dataframe thead th {\n",
       "        text-align: right;\n",
       "    }\n",
       "</style>\n",
       "<table border=\"1\" class=\"dataframe\">\n",
       "  <thead>\n",
       "    <tr style=\"text-align: right;\">\n",
       "      <th></th>\n",
       "      <th>Sales</th>\n",
       "      <th>CountryName</th>\n",
       "      <th>#OnlineUsers</th>\n",
       "      <th>#ProductsBought</th>\n",
       "    </tr>\n",
       "  </thead>\n",
       "  <tbody>\n",
       "    <tr>\n",
       "      <th>0</th>\n",
       "      <td>479.0</td>\n",
       "      <td>Australia</td>\n",
       "      <td>2</td>\n",
       "      <td>3</td>\n",
       "    </tr>\n",
       "    <tr>\n",
       "      <th>1</th>\n",
       "      <td>50.0</td>\n",
       "      <td>Austria</td>\n",
       "      <td>1</td>\n",
       "      <td>2</td>\n",
       "    </tr>\n",
       "    <tr>\n",
       "      <th>2</th>\n",
       "      <td>175.0</td>\n",
       "      <td>Belgium</td>\n",
       "      <td>11</td>\n",
       "      <td>3</td>\n",
       "    </tr>\n",
       "    <tr>\n",
       "      <th>3</th>\n",
       "      <td>30481.3</td>\n",
       "      <td>Brazil</td>\n",
       "      <td>1304</td>\n",
       "      <td>172</td>\n",
       "    </tr>\n",
       "    <tr>\n",
       "      <th>4</th>\n",
       "      <td>64.0</td>\n",
       "      <td>Chile</td>\n",
       "      <td>1</td>\n",
       "      <td>1</td>\n",
       "    </tr>\n",
       "  </tbody>\n",
       "</table>\n",
       "</div>"
      ],
      "text/plain": [
       "     Sales CountryName  #OnlineUsers  #ProductsBought\n",
       "0    479.0   Australia             2                3\n",
       "1     50.0     Austria             1                2\n",
       "2    175.0     Belgium            11                3\n",
       "3  30481.3      Brazil          1304              172\n",
       "4     64.0       Chile             1                1"
      ]
     },
     "execution_count": 79,
     "metadata": {},
     "output_type": "execute_result"
    }
   ],
   "source": [
    "gr6 = gr6[['Sales','CountryName','#OnlineUsers','#ProductsBought']]\n",
    "gr6.head()"
   ]
  },
  {
   "cell_type": "code",
   "execution_count": 80,
   "metadata": {},
   "outputs": [
    {
     "name": "stdout",
     "output_type": "stream",
     "text": [
      "Sales              float64\n",
      "CountryName         object\n",
      "#OnlineUsers       float64\n",
      "#ProductsBought    float64\n",
      "dtype: object\n"
     ]
    }
   ],
   "source": [
    "convert_dict = {'#OnlineUsers': float, #converted intg to floats\n",
    "        '#ProductsBought': float} \n",
    "  \n",
    "gr6 = gr6.astype(convert_dict) \n",
    "print(gr6.dtypes)"
   ]
  },
  {
   "cell_type": "code",
   "execution_count": 81,
   "metadata": {},
   "outputs": [
    {
     "name": "stdout",
     "output_type": "stream",
     "text": [
      "                  Sales  #OnlineUsers  #ProductsBought\n",
      "CountryName                                           \n",
      "Australia         479.0             2                3\n",
      "Austria            50.0             1                2\n",
      "Belgium           175.0            11                3\n",
      "Brazil          30481.3          1304              172\n",
      "Chile              64.0             1                1\n",
      "China             595.0             2                2\n",
      "Colombia         3069.0            21               23\n",
      "Ecuador           334.0             3                2\n",
      "France           2094.0            56               22\n",
      "Germany          7604.0           506               48\n",
      "Hong Kong        1125.0             6                5\n",
      "India            4036.0           849               22\n",
      "Italy            6451.0           135               41\n",
      "Japan            7307.0            56               48\n",
      "Mexico          19056.0           462              105\n",
      "Netherlands        90.0             1                1\n",
      "Nigeria            60.0             1                1\n",
      "Poland            499.0             1                1\n",
      "Singapore         498.0             1                2\n",
      "Spain            1978.0            32               11\n",
      "Switzerland      2359.0            22               13\n",
      "Taiwan           1442.0            10                7\n",
      "Turkey             25.0             3                4\n",
      "Ukraine           268.0             6                4\n",
      "United Kingdom    408.0            52                2\n",
      "United States     468.0            43                4\n"
     ]
    }
   ],
   "source": [
    "print(gr5)"
   ]
  },
  {
   "cell_type": "code",
   "execution_count": 82,
   "metadata": {},
   "outputs": [
    {
     "data": {
      "text/plain": [
       "(26, 3)"
      ]
     },
     "execution_count": 82,
     "metadata": {},
     "output_type": "execute_result"
    }
   ],
   "source": [
    "gr5.shape"
   ]
  },
  {
   "cell_type": "code",
   "execution_count": 83,
   "metadata": {},
   "outputs": [
    {
     "data": {
      "text/plain": [
       "(26, 4)"
      ]
     },
     "execution_count": 83,
     "metadata": {},
     "output_type": "execute_result"
    }
   ],
   "source": [
    "gr6.shape"
   ]
  },
  {
   "cell_type": "code",
   "execution_count": 84,
   "metadata": {},
   "outputs": [
    {
     "data": {
      "text/plain": [
       "Sales              float64\n",
       "#OnlineUsers         int64\n",
       "#ProductsBought      int64\n",
       "dtype: object"
      ]
     },
     "execution_count": 84,
     "metadata": {},
     "output_type": "execute_result"
    }
   ],
   "source": [
    "gr5.dtypes #found why my regression is not working... have to transform int to float"
   ]
  },
  {
   "cell_type": "code",
   "execution_count": 85,
   "metadata": {},
   "outputs": [
    {
     "data": {
      "text/html": [
       "<div>\n",
       "<style scoped>\n",
       "    .dataframe tbody tr th:only-of-type {\n",
       "        vertical-align: middle;\n",
       "    }\n",
       "\n",
       "    .dataframe tbody tr th {\n",
       "        vertical-align: top;\n",
       "    }\n",
       "\n",
       "    .dataframe thead th {\n",
       "        text-align: right;\n",
       "    }\n",
       "</style>\n",
       "<table border=\"1\" class=\"dataframe\">\n",
       "  <thead>\n",
       "    <tr style=\"text-align: right;\">\n",
       "      <th></th>\n",
       "      <th>Sales</th>\n",
       "      <th>#OnlineUsers</th>\n",
       "      <th>#ProductsBought</th>\n",
       "    </tr>\n",
       "    <tr>\n",
       "      <th>CountryName</th>\n",
       "      <th></th>\n",
       "      <th></th>\n",
       "      <th></th>\n",
       "    </tr>\n",
       "  </thead>\n",
       "  <tbody>\n",
       "    <tr>\n",
       "      <th>Australia</th>\n",
       "      <td>479.0</td>\n",
       "      <td>2.0</td>\n",
       "      <td>3.0</td>\n",
       "    </tr>\n",
       "    <tr>\n",
       "      <th>Austria</th>\n",
       "      <td>50.0</td>\n",
       "      <td>1.0</td>\n",
       "      <td>2.0</td>\n",
       "    </tr>\n",
       "    <tr>\n",
       "      <th>Belgium</th>\n",
       "      <td>175.0</td>\n",
       "      <td>11.0</td>\n",
       "      <td>3.0</td>\n",
       "    </tr>\n",
       "    <tr>\n",
       "      <th>Brazil</th>\n",
       "      <td>30481.3</td>\n",
       "      <td>1304.0</td>\n",
       "      <td>172.0</td>\n",
       "    </tr>\n",
       "    <tr>\n",
       "      <th>Chile</th>\n",
       "      <td>64.0</td>\n",
       "      <td>1.0</td>\n",
       "      <td>1.0</td>\n",
       "    </tr>\n",
       "    <tr>\n",
       "      <th>China</th>\n",
       "      <td>595.0</td>\n",
       "      <td>2.0</td>\n",
       "      <td>2.0</td>\n",
       "    </tr>\n",
       "    <tr>\n",
       "      <th>Colombia</th>\n",
       "      <td>3069.0</td>\n",
       "      <td>21.0</td>\n",
       "      <td>23.0</td>\n",
       "    </tr>\n",
       "    <tr>\n",
       "      <th>Ecuador</th>\n",
       "      <td>334.0</td>\n",
       "      <td>3.0</td>\n",
       "      <td>2.0</td>\n",
       "    </tr>\n",
       "    <tr>\n",
       "      <th>France</th>\n",
       "      <td>2094.0</td>\n",
       "      <td>56.0</td>\n",
       "      <td>22.0</td>\n",
       "    </tr>\n",
       "    <tr>\n",
       "      <th>Germany</th>\n",
       "      <td>7604.0</td>\n",
       "      <td>506.0</td>\n",
       "      <td>48.0</td>\n",
       "    </tr>\n",
       "    <tr>\n",
       "      <th>Hong Kong</th>\n",
       "      <td>1125.0</td>\n",
       "      <td>6.0</td>\n",
       "      <td>5.0</td>\n",
       "    </tr>\n",
       "    <tr>\n",
       "      <th>India</th>\n",
       "      <td>4036.0</td>\n",
       "      <td>849.0</td>\n",
       "      <td>22.0</td>\n",
       "    </tr>\n",
       "    <tr>\n",
       "      <th>Italy</th>\n",
       "      <td>6451.0</td>\n",
       "      <td>135.0</td>\n",
       "      <td>41.0</td>\n",
       "    </tr>\n",
       "    <tr>\n",
       "      <th>Japan</th>\n",
       "      <td>7307.0</td>\n",
       "      <td>56.0</td>\n",
       "      <td>48.0</td>\n",
       "    </tr>\n",
       "    <tr>\n",
       "      <th>Mexico</th>\n",
       "      <td>19056.0</td>\n",
       "      <td>462.0</td>\n",
       "      <td>105.0</td>\n",
       "    </tr>\n",
       "    <tr>\n",
       "      <th>Netherlands</th>\n",
       "      <td>90.0</td>\n",
       "      <td>1.0</td>\n",
       "      <td>1.0</td>\n",
       "    </tr>\n",
       "    <tr>\n",
       "      <th>Nigeria</th>\n",
       "      <td>60.0</td>\n",
       "      <td>1.0</td>\n",
       "      <td>1.0</td>\n",
       "    </tr>\n",
       "    <tr>\n",
       "      <th>Poland</th>\n",
       "      <td>499.0</td>\n",
       "      <td>1.0</td>\n",
       "      <td>1.0</td>\n",
       "    </tr>\n",
       "    <tr>\n",
       "      <th>Singapore</th>\n",
       "      <td>498.0</td>\n",
       "      <td>1.0</td>\n",
       "      <td>2.0</td>\n",
       "    </tr>\n",
       "    <tr>\n",
       "      <th>Spain</th>\n",
       "      <td>1978.0</td>\n",
       "      <td>32.0</td>\n",
       "      <td>11.0</td>\n",
       "    </tr>\n",
       "    <tr>\n",
       "      <th>Switzerland</th>\n",
       "      <td>2359.0</td>\n",
       "      <td>22.0</td>\n",
       "      <td>13.0</td>\n",
       "    </tr>\n",
       "    <tr>\n",
       "      <th>Taiwan</th>\n",
       "      <td>1442.0</td>\n",
       "      <td>10.0</td>\n",
       "      <td>7.0</td>\n",
       "    </tr>\n",
       "    <tr>\n",
       "      <th>Turkey</th>\n",
       "      <td>25.0</td>\n",
       "      <td>3.0</td>\n",
       "      <td>4.0</td>\n",
       "    </tr>\n",
       "    <tr>\n",
       "      <th>Ukraine</th>\n",
       "      <td>268.0</td>\n",
       "      <td>6.0</td>\n",
       "      <td>4.0</td>\n",
       "    </tr>\n",
       "    <tr>\n",
       "      <th>United Kingdom</th>\n",
       "      <td>408.0</td>\n",
       "      <td>52.0</td>\n",
       "      <td>2.0</td>\n",
       "    </tr>\n",
       "    <tr>\n",
       "      <th>United States</th>\n",
       "      <td>468.0</td>\n",
       "      <td>43.0</td>\n",
       "      <td>4.0</td>\n",
       "    </tr>\n",
       "  </tbody>\n",
       "</table>\n",
       "</div>"
      ],
      "text/plain": [
       "                  Sales  #OnlineUsers  #ProductsBought\n",
       "CountryName                                           \n",
       "Australia         479.0           2.0              3.0\n",
       "Austria            50.0           1.0              2.0\n",
       "Belgium           175.0          11.0              3.0\n",
       "Brazil          30481.3        1304.0            172.0\n",
       "Chile              64.0           1.0              1.0\n",
       "China             595.0           2.0              2.0\n",
       "Colombia         3069.0          21.0             23.0\n",
       "Ecuador           334.0           3.0              2.0\n",
       "France           2094.0          56.0             22.0\n",
       "Germany          7604.0         506.0             48.0\n",
       "Hong Kong        1125.0           6.0              5.0\n",
       "India            4036.0         849.0             22.0\n",
       "Italy            6451.0         135.0             41.0\n",
       "Japan            7307.0          56.0             48.0\n",
       "Mexico          19056.0         462.0            105.0\n",
       "Netherlands        90.0           1.0              1.0\n",
       "Nigeria            60.0           1.0              1.0\n",
       "Poland            499.0           1.0              1.0\n",
       "Singapore         498.0           1.0              2.0\n",
       "Spain            1978.0          32.0             11.0\n",
       "Switzerland      2359.0          22.0             13.0\n",
       "Taiwan           1442.0          10.0              7.0\n",
       "Turkey             25.0           3.0              4.0\n",
       "Ukraine           268.0           6.0              4.0\n",
       "United Kingdom    408.0          52.0              2.0\n",
       "United States     468.0          43.0              4.0"
      ]
     },
     "execution_count": 85,
     "metadata": {},
     "output_type": "execute_result"
    }
   ],
   "source": [
    "gr5 = gr5.astype(float)\n",
    "gr5"
   ]
  },
  {
   "cell_type": "code",
   "execution_count": 86,
   "metadata": {},
   "outputs": [
    {
     "data": {
      "text/plain": [
       "Sales              float64\n",
       "#OnlineUsers       float64\n",
       "#ProductsBought    float64\n",
       "dtype: object"
      ]
     },
     "execution_count": 86,
     "metadata": {},
     "output_type": "execute_result"
    }
   ],
   "source": [
    "gr5.dtypes"
   ]
  },
  {
   "cell_type": "code",
   "execution_count": 87,
   "metadata": {},
   "outputs": [],
   "source": [
    "# defined x and y \n",
    "x = gr5.values[:,1:3] # independent variables, Online and Products by country over 3 months\n",
    "y = gr5.values[:,0:1]  # dependent variable, Sales by country over 3 months    "
   ]
  },
  {
   "cell_type": "code",
   "execution_count": 88,
   "metadata": {},
   "outputs": [
    {
     "data": {
      "text/plain": [
       "(26, 2)"
      ]
     },
     "execution_count": 88,
     "metadata": {},
     "output_type": "execute_result"
    }
   ],
   "source": [
    "x.shape"
   ]
  },
  {
   "cell_type": "code",
   "execution_count": 89,
   "metadata": {},
   "outputs": [
    {
     "data": {
      "text/plain": [
       "(26, 1)"
      ]
     },
     "execution_count": 89,
     "metadata": {},
     "output_type": "execute_result"
    }
   ],
   "source": [
    "y.shape"
   ]
  },
  {
   "cell_type": "code",
   "execution_count": 90,
   "metadata": {},
   "outputs": [
    {
     "data": {
      "text/html": [
       "<table class=\"simpletable\">\n",
       "<caption>OLS Regression Results</caption>\n",
       "<tr>\n",
       "  <th>Dep. Variable:</th>            <td>y</td>        <th>  R-squared:         </th> <td>   0.994</td>\n",
       "</tr>\n",
       "<tr>\n",
       "  <th>Model:</th>                   <td>OLS</td>       <th>  Adj. R-squared:    </th> <td>   0.994</td>\n",
       "</tr>\n",
       "<tr>\n",
       "  <th>Method:</th>             <td>Least Squares</td>  <th>  F-statistic:       </th> <td>   1983.</td>\n",
       "</tr>\n",
       "<tr>\n",
       "  <th>Date:</th>             <td>Wed, 18 Sep 2019</td> <th>  Prob (F-statistic):</th> <td>1.78e-26</td>\n",
       "</tr>\n",
       "<tr>\n",
       "  <th>Time:</th>                 <td>18:23:45</td>     <th>  Log-Likelihood:    </th> <td> -198.97</td>\n",
       "</tr>\n",
       "<tr>\n",
       "  <th>No. Observations:</th>      <td>    26</td>      <th>  AIC:               </th> <td>   403.9</td>\n",
       "</tr>\n",
       "<tr>\n",
       "  <th>Df Residuals:</th>          <td>    23</td>      <th>  BIC:               </th> <td>   407.7</td>\n",
       "</tr>\n",
       "<tr>\n",
       "  <th>Df Model:</th>              <td>     2</td>      <th>                     </th>     <td> </td>   \n",
       "</tr>\n",
       "<tr>\n",
       "  <th>Covariance Type:</th>      <td>nonrobust</td>    <th>                     </th>     <td> </td>   \n",
       "</tr>\n",
       "</table>\n",
       "<table class=\"simpletable\">\n",
       "<tr>\n",
       "      <td></td>         <th>coef</th>     <th>std err</th>      <th>t</th>      <th>P>|t|</th>  <th>[0.025</th>    <th>0.975]</th>  \n",
       "</tr>\n",
       "<tr>\n",
       "  <th>Intercept</th> <td> -228.3878</td> <td>  121.699</td> <td>   -1.877</td> <td> 0.073</td> <td> -480.140</td> <td>   23.365</td>\n",
       "</tr>\n",
       "<tr>\n",
       "  <th>x[0]</th>      <td>    0.7346</td> <td>    0.632</td> <td>    1.163</td> <td> 0.257</td> <td>   -0.572</td> <td>    2.042</td>\n",
       "</tr>\n",
       "<tr>\n",
       "  <th>x[1]</th>      <td>  171.8002</td> <td>    5.100</td> <td>   33.686</td> <td> 0.000</td> <td>  161.250</td> <td>  182.350</td>\n",
       "</tr>\n",
       "</table>\n",
       "<table class=\"simpletable\">\n",
       "<tr>\n",
       "  <th>Omnibus:</th>       <td> 7.230</td> <th>  Durbin-Watson:     </th> <td>   1.894</td>\n",
       "</tr>\n",
       "<tr>\n",
       "  <th>Prob(Omnibus):</th> <td> 0.027</td> <th>  Jarque-Bera (JB):  </th> <td>   5.209</td>\n",
       "</tr>\n",
       "<tr>\n",
       "  <th>Skew:</th>          <td>-0.977</td> <th>  Prob(JB):          </th> <td>  0.0739</td>\n",
       "</tr>\n",
       "<tr>\n",
       "  <th>Kurtosis:</th>      <td> 3.994</td> <th>  Cond. No.          </th> <td>    386.</td>\n",
       "</tr>\n",
       "</table><br/><br/>Warnings:<br/>[1] Standard Errors assume that the covariance matrix of the errors is correctly specified."
      ],
      "text/plain": [
       "<class 'statsmodels.iolib.summary.Summary'>\n",
       "\"\"\"\n",
       "                            OLS Regression Results                            \n",
       "==============================================================================\n",
       "Dep. Variable:                      y   R-squared:                       0.994\n",
       "Model:                            OLS   Adj. R-squared:                  0.994\n",
       "Method:                 Least Squares   F-statistic:                     1983.\n",
       "Date:                Wed, 18 Sep 2019   Prob (F-statistic):           1.78e-26\n",
       "Time:                        18:23:45   Log-Likelihood:                -198.97\n",
       "No. Observations:                  26   AIC:                             403.9\n",
       "Df Residuals:                      23   BIC:                             407.7\n",
       "Df Model:                           2                                         \n",
       "Covariance Type:            nonrobust                                         \n",
       "==============================================================================\n",
       "                 coef    std err          t      P>|t|      [0.025      0.975]\n",
       "------------------------------------------------------------------------------\n",
       "Intercept   -228.3878    121.699     -1.877      0.073    -480.140      23.365\n",
       "x[0]           0.7346      0.632      1.163      0.257      -0.572       2.042\n",
       "x[1]         171.8002      5.100     33.686      0.000     161.250     182.350\n",
       "==============================================================================\n",
       "Omnibus:                        7.230   Durbin-Watson:                   1.894\n",
       "Prob(Omnibus):                  0.027   Jarque-Bera (JB):                5.209\n",
       "Skew:                          -0.977   Prob(JB):                       0.0739\n",
       "Kurtosis:                       3.994   Cond. No.                         386.\n",
       "==============================================================================\n",
       "\n",
       "Warnings:\n",
       "[1] Standard Errors assume that the covariance matrix of the errors is correctly specified.\n",
       "\"\"\""
      ]
     },
     "execution_count": 90,
     "metadata": {},
     "output_type": "execute_result"
    }
   ],
   "source": [
    "model = smf.ols(data = gr5, formula = \"y ~ x\")  \n",
    "result = model.fit()  \n",
    "result.summary()\n",
    "\n",
    "#x[0] has a very low test statistic; as such, we cannot reject the null hypothesis that x=0\n",
    "#I will run another regression removing x[0] from the list of independent variables."
   ]
  },
  {
   "cell_type": "code",
   "execution_count": 91,
   "metadata": {},
   "outputs": [
    {
     "data": {
      "text/html": [
       "<table class=\"simpletable\">\n",
       "<caption>OLS Regression Results</caption>\n",
       "<tr>\n",
       "  <th>Dep. Variable:</th>           <td>y1</td>        <th>  R-squared:         </th> <td>   0.994</td>\n",
       "</tr>\n",
       "<tr>\n",
       "  <th>Model:</th>                   <td>OLS</td>       <th>  Adj. R-squared:    </th> <td>   0.994</td>\n",
       "</tr>\n",
       "<tr>\n",
       "  <th>Method:</th>             <td>Least Squares</td>  <th>  F-statistic:       </th> <td>   3908.</td>\n",
       "</tr>\n",
       "<tr>\n",
       "  <th>Date:</th>             <td>Wed, 18 Sep 2019</td> <th>  Prob (F-statistic):</th> <td>4.32e-28</td>\n",
       "</tr>\n",
       "<tr>\n",
       "  <th>Time:</th>                 <td>18:23:45</td>     <th>  Log-Likelihood:    </th> <td> -199.71</td>\n",
       "</tr>\n",
       "<tr>\n",
       "  <th>No. Observations:</th>      <td>    26</td>      <th>  AIC:               </th> <td>   403.4</td>\n",
       "</tr>\n",
       "<tr>\n",
       "  <th>Df Residuals:</th>          <td>    24</td>      <th>  BIC:               </th> <td>   405.9</td>\n",
       "</tr>\n",
       "<tr>\n",
       "  <th>Df Model:</th>              <td>     1</td>      <th>                     </th>     <td> </td>   \n",
       "</tr>\n",
       "<tr>\n",
       "  <th>Covariance Type:</th>      <td>nonrobust</td>    <th>                     </th>     <td> </td>   \n",
       "</tr>\n",
       "</table>\n",
       "<table class=\"simpletable\">\n",
       "<tr>\n",
       "      <td></td>         <th>coef</th>     <th>std err</th>      <th>t</th>      <th>P>|t|</th>  <th>[0.025</th>    <th>0.975]</th>  \n",
       "</tr>\n",
       "<tr>\n",
       "  <th>Intercept</th> <td> -231.5705</td> <td>  122.556</td> <td>   -1.890</td> <td> 0.071</td> <td> -484.513</td> <td>   21.372</td>\n",
       "</tr>\n",
       "<tr>\n",
       "  <th>x1</th>        <td>  176.7507</td> <td>    2.827</td> <td>   62.513</td> <td> 0.000</td> <td>  170.915</td> <td>  182.586</td>\n",
       "</tr>\n",
       "</table>\n",
       "<table class=\"simpletable\">\n",
       "<tr>\n",
       "  <th>Omnibus:</th>       <td> 9.591</td> <th>  Durbin-Watson:     </th> <td>   1.926</td>\n",
       "</tr>\n",
       "<tr>\n",
       "  <th>Prob(Omnibus):</th> <td> 0.008</td> <th>  Jarque-Bera (JB):  </th> <td>   7.749</td>\n",
       "</tr>\n",
       "<tr>\n",
       "  <th>Skew:</th>          <td>-1.224</td> <th>  Prob(JB):          </th> <td>  0.0208</td>\n",
       "</tr>\n",
       "<tr>\n",
       "  <th>Kurtosis:</th>      <td> 4.078</td> <th>  Cond. No.          </th> <td>    49.6</td>\n",
       "</tr>\n",
       "</table><br/><br/>Warnings:<br/>[1] Standard Errors assume that the covariance matrix of the errors is correctly specified."
      ],
      "text/plain": [
       "<class 'statsmodels.iolib.summary.Summary'>\n",
       "\"\"\"\n",
       "                            OLS Regression Results                            \n",
       "==============================================================================\n",
       "Dep. Variable:                     y1   R-squared:                       0.994\n",
       "Model:                            OLS   Adj. R-squared:                  0.994\n",
       "Method:                 Least Squares   F-statistic:                     3908.\n",
       "Date:                Wed, 18 Sep 2019   Prob (F-statistic):           4.32e-28\n",
       "Time:                        18:23:45   Log-Likelihood:                -199.71\n",
       "No. Observations:                  26   AIC:                             403.4\n",
       "Df Residuals:                      24   BIC:                             405.9\n",
       "Df Model:                           1                                         \n",
       "Covariance Type:            nonrobust                                         \n",
       "==============================================================================\n",
       "                 coef    std err          t      P>|t|      [0.025      0.975]\n",
       "------------------------------------------------------------------------------\n",
       "Intercept   -231.5705    122.556     -1.890      0.071    -484.513      21.372\n",
       "x1           176.7507      2.827     62.513      0.000     170.915     182.586\n",
       "==============================================================================\n",
       "Omnibus:                        9.591   Durbin-Watson:                   1.926\n",
       "Prob(Omnibus):                  0.008   Jarque-Bera (JB):                7.749\n",
       "Skew:                          -1.224   Prob(JB):                       0.0208\n",
       "Kurtosis:                       4.078   Cond. No.                         49.6\n",
       "==============================================================================\n",
       "\n",
       "Warnings:\n",
       "[1] Standard Errors assume that the covariance matrix of the errors is correctly specified.\n",
       "\"\"\""
      ]
     },
     "execution_count": 91,
     "metadata": {},
     "output_type": "execute_result"
    }
   ],
   "source": [
    "\n",
    "x1 = gr5.values[:,2:3]\n",
    "y1 = gr5.values[:,0]       # defined x and y \n",
    "\n",
    "model = smf.ols(data = gr5, formula = \"y1 ~ x1\")  \n",
    "result2 = model.fit()  \n",
    "result2.summary()\n",
    "\n",
    "#single variable regression, showing sales by country on number of products sold. \n",
    "#R-squared close to 1 suggests a very good fit.\n",
    "#Note, R-squared remain the same from previous model indicating that the inclusion of #Online Users in the model added no predictive ability to the regression\n",
    "#F-statistic of 3908 also suggests a significant model.\n",
    "#Based off the T-stat of the coef we can reject the null hypothesis that X=0\n"
   ]
  },
  {
   "cell_type": "code",
   "execution_count": 92,
   "metadata": {},
   "outputs": [
    {
     "name": "stdout",
     "output_type": "stream",
     "text": [
      "(26,)\n",
      "(26,)\n"
     ]
    }
   ],
   "source": [
    "print(y1.shape)\n",
    "print(y1.shape)"
   ]
  },
  {
   "cell_type": "code",
   "execution_count": 93,
   "metadata": {},
   "outputs": [],
   "source": [
    "x1_train, x1_test, y1_train, y1_test = train_test_split(x1, y1, test_size=0.4, random_state=0)"
   ]
  },
  {
   "cell_type": "code",
   "execution_count": 94,
   "metadata": {},
   "outputs": [
    {
     "data": {
      "text/plain": [
       "LinearRegression(copy_X=True, fit_intercept=True, n_jobs=None,\n",
       "         normalize=False)"
      ]
     },
     "execution_count": 94,
     "metadata": {},
     "output_type": "execute_result"
    }
   ],
   "source": [
    "regres = LinearRegression() \n",
    "regres.fit(x1_train, y1_train) #training the algorithm"
   ]
  },
  {
   "cell_type": "code",
   "execution_count": 95,
   "metadata": {},
   "outputs": [],
   "source": [
    "y1_pred = regres.predict(x1_test)"
   ]
  },
  {
   "cell_type": "code",
   "execution_count": 96,
   "metadata": {},
   "outputs": [
    {
     "name": "stdout",
     "output_type": "stream",
     "text": [
      "     Actual     Predicted\n",
      "0     175.0    194.200402\n",
      "1    2359.0   1958.388552\n",
      "2   19056.0  18188.919529\n",
      "3     499.0   -158.637228\n",
      "4     595.0     17.781587\n",
      "5    4036.0   3546.157886\n",
      "6      25.0    370.619217\n",
      "7    7307.0   8133.047076\n",
      "8     498.0     17.781587\n",
      "9    1978.0   1605.550922\n",
      "10     60.0   -158.637228\n"
     ]
    }
   ],
   "source": [
    "fe = pd.DataFrame({'Actual': y1_test, 'Predicted': y1_pred})\n",
    "fe1 = fe.head(25)\n",
    "print(fe1)"
   ]
  },
  {
   "cell_type": "code",
   "execution_count": 97,
   "metadata": {},
   "outputs": [
    {
     "name": "stdout",
     "output_type": "stream",
     "text": [
      "Mean Absolute Error: 477.68737164072996\n",
      "Mean Squared Error: 285203.3217774909\n",
      "Root Mean Squared Error: 534.0443069423088\n"
     ]
    }
   ],
   "source": [
    "print('Mean Absolute Error:', metrics.mean_absolute_error(y1_test, y1_pred))  \n",
    "print('Mean Squared Error:', metrics.mean_squared_error(y1_test, y1_pred))  \n",
    "print('Root Mean Squared Error:', np.sqrt(metrics.mean_squared_error(y1_test, y1_pred)))\n",
    "\n"
   ]
  },
  {
   "cell_type": "code",
   "execution_count": 98,
   "metadata": {},
   "outputs": [
    {
     "data": {
      "image/png": "[encoded data removed]",
      "text/plain": [
       "<Figure size 720x576 with 1 Axes>"
      ]
     },
     "metadata": {},
     "output_type": "display_data"
    }
   ],
   "source": [
    "fe1.plot(kind='bar',figsize=(10,8))\n",
    "plt.grid(which='major', linestyle='-', linewidth='0.5', color='grey')\n",
    "plt.grid(which='minor', linestyle=':', linewidth='0.5', color='black')\n",
    "plt.show()"
   ]
  },
  {
   "cell_type": "code",
   "execution_count": 99,
   "metadata": {},
   "outputs": [
    {
     "name": "stdout",
     "output_type": "stream",
     "text": [
      "(11,)\n",
      "(11,)\n"
     ]
    }
   ],
   "source": [
    "print(y1_test.shape)\n",
    "print(y1_pred.shape)"
   ]
  },
  {
   "cell_type": "code",
   "execution_count": 100,
   "metadata": {},
   "outputs": [
    {
     "name": "stdout",
     "output_type": "stream",
     "text": [
      "float64\n",
      "float64\n"
     ]
    }
   ],
   "source": [
    "print(y1_test.dtype)\n",
    "print(y1_pred.dtype)"
   ]
  },
  {
   "cell_type": "code",
   "execution_count": 101,
   "metadata": {},
   "outputs": [
    {
     "data": {
      "text/html": [
       "<div>\n",
       "<style scoped>\n",
       "    .dataframe tbody tr th:only-of-type {\n",
       "        vertical-align: middle;\n",
       "    }\n",
       "\n",
       "    .dataframe tbody tr th {\n",
       "        vertical-align: top;\n",
       "    }\n",
       "\n",
       "    .dataframe thead th {\n",
       "        text-align: right;\n",
       "    }\n",
       "</style>\n",
       "<table border=\"1\" class=\"dataframe\">\n",
       "  <thead>\n",
       "    <tr style=\"text-align: right;\">\n",
       "      <th></th>\n",
       "      <th>Unnamed: 0</th>\n",
       "      <th>Dily_Sales</th>\n",
       "      <th>#Users_Brazil</th>\n",
       "      <th>#Users_Mexico</th>\n",
       "      <th>#Users_Japan</th>\n",
       "      <th>#Users_Chile</th>\n",
       "      <th>#Users_United States</th>\n",
       "      <th>#Users_Colombia</th>\n",
       "      <th>#Users_India</th>\n",
       "      <th>#Users_Italy</th>\n",
       "      <th>...</th>\n",
       "      <th>#Users_Germany</th>\n",
       "      <th>#Users_United Kingdom</th>\n",
       "      <th>#Users_Australia</th>\n",
       "      <th>#Users_Spain</th>\n",
       "      <th>#Users_Ukraine</th>\n",
       "      <th>#Users_Hong Kong</th>\n",
       "      <th>#Users_Belgium</th>\n",
       "      <th>#Users_Netherlands</th>\n",
       "      <th>#Users_Austria</th>\n",
       "      <th>#Users_Singapore</th>\n",
       "    </tr>\n",
       "  </thead>\n",
       "  <tbody>\n",
       "    <tr>\n",
       "      <th>0</th>\n",
       "      <td>2019-04-05</td>\n",
       "      <td>217</td>\n",
       "      <td>1</td>\n",
       "      <td>1</td>\n",
       "      <td>1</td>\n",
       "      <td>0</td>\n",
       "      <td>0</td>\n",
       "      <td>0</td>\n",
       "      <td>0</td>\n",
       "      <td>0</td>\n",
       "      <td>...</td>\n",
       "      <td>0</td>\n",
       "      <td>0</td>\n",
       "      <td>0</td>\n",
       "      <td>0</td>\n",
       "      <td>0</td>\n",
       "      <td>0</td>\n",
       "      <td>0</td>\n",
       "      <td>0</td>\n",
       "      <td>0</td>\n",
       "      <td>0</td>\n",
       "    </tr>\n",
       "    <tr>\n",
       "      <th>1</th>\n",
       "      <td>2019-04-06</td>\n",
       "      <td>0</td>\n",
       "      <td>0</td>\n",
       "      <td>0</td>\n",
       "      <td>0</td>\n",
       "      <td>0</td>\n",
       "      <td>0</td>\n",
       "      <td>0</td>\n",
       "      <td>0</td>\n",
       "      <td>0</td>\n",
       "      <td>...</td>\n",
       "      <td>0</td>\n",
       "      <td>0</td>\n",
       "      <td>0</td>\n",
       "      <td>0</td>\n",
       "      <td>0</td>\n",
       "      <td>0</td>\n",
       "      <td>0</td>\n",
       "      <td>0</td>\n",
       "      <td>0</td>\n",
       "      <td>0</td>\n",
       "    </tr>\n",
       "    <tr>\n",
       "      <th>2</th>\n",
       "      <td>2019-04-07</td>\n",
       "      <td>438</td>\n",
       "      <td>0</td>\n",
       "      <td>0</td>\n",
       "      <td>2</td>\n",
       "      <td>1</td>\n",
       "      <td>5</td>\n",
       "      <td>0</td>\n",
       "      <td>0</td>\n",
       "      <td>0</td>\n",
       "      <td>...</td>\n",
       "      <td>0</td>\n",
       "      <td>0</td>\n",
       "      <td>0</td>\n",
       "      <td>0</td>\n",
       "      <td>0</td>\n",
       "      <td>0</td>\n",
       "      <td>0</td>\n",
       "      <td>0</td>\n",
       "      <td>0</td>\n",
       "      <td>0</td>\n",
       "    </tr>\n",
       "    <tr>\n",
       "      <th>3</th>\n",
       "      <td>2019-04-08</td>\n",
       "      <td>50</td>\n",
       "      <td>0</td>\n",
       "      <td>0</td>\n",
       "      <td>9</td>\n",
       "      <td>0</td>\n",
       "      <td>0</td>\n",
       "      <td>4</td>\n",
       "      <td>0</td>\n",
       "      <td>0</td>\n",
       "      <td>...</td>\n",
       "      <td>0</td>\n",
       "      <td>0</td>\n",
       "      <td>0</td>\n",
       "      <td>0</td>\n",
       "      <td>0</td>\n",
       "      <td>0</td>\n",
       "      <td>0</td>\n",
       "      <td>0</td>\n",
       "      <td>0</td>\n",
       "      <td>0</td>\n",
       "    </tr>\n",
       "    <tr>\n",
       "      <th>4</th>\n",
       "      <td>2019-04-09</td>\n",
       "      <td>643</td>\n",
       "      <td>21</td>\n",
       "      <td>0</td>\n",
       "      <td>0</td>\n",
       "      <td>0</td>\n",
       "      <td>0</td>\n",
       "      <td>0</td>\n",
       "      <td>1</td>\n",
       "      <td>0</td>\n",
       "      <td>...</td>\n",
       "      <td>0</td>\n",
       "      <td>0</td>\n",
       "      <td>0</td>\n",
       "      <td>0</td>\n",
       "      <td>0</td>\n",
       "      <td>0</td>\n",
       "      <td>0</td>\n",
       "      <td>0</td>\n",
       "      <td>0</td>\n",
       "      <td>0</td>\n",
       "    </tr>\n",
       "  </tbody>\n",
       "</table>\n",
       "<p>5 rows × 28 columns</p>\n",
       "</div>"
      ],
      "text/plain": [
       "   Unnamed: 0 Dily_Sales  #Users_Brazil  #Users_Mexico  #Users_Japan  \\\n",
       "0  2019-04-05        217              1              1             1   \n",
       "1  2019-04-06          0              0              0             0   \n",
       "2  2019-04-07        438              0              0             2   \n",
       "3  2019-04-08         50              0              0             9   \n",
       "4  2019-04-09        643             21              0             0   \n",
       "\n",
       "   #Users_Chile  #Users_United States  #Users_Colombia  #Users_India  \\\n",
       "0             0                     0                0             0   \n",
       "1             0                     0                0             0   \n",
       "2             1                     5                0             0   \n",
       "3             0                     0                4             0   \n",
       "4             0                     0                0             1   \n",
       "\n",
       "   #Users_Italy  ...  #Users_Germany  #Users_United Kingdom  #Users_Australia  \\\n",
       "0             0  ...               0                      0                 0   \n",
       "1             0  ...               0                      0                 0   \n",
       "2             0  ...               0                      0                 0   \n",
       "3             0  ...               0                      0                 0   \n",
       "4             0  ...               0                      0                 0   \n",
       "\n",
       "   #Users_Spain  #Users_Ukraine  #Users_Hong Kong  #Users_Belgium  \\\n",
       "0             0               0                 0               0   \n",
       "1             0               0                 0               0   \n",
       "2             0               0                 0               0   \n",
       "3             0               0                 0               0   \n",
       "4             0               0                 0               0   \n",
       "\n",
       "   #Users_Netherlands  #Users_Austria  #Users_Singapore  \n",
       "0                   0               0                 0  \n",
       "1                   0               0                 0  \n",
       "2                   0               0                 0  \n",
       "3                   0               0                 0  \n",
       "4                   0               0                 0  \n",
       "\n",
       "[5 rows x 28 columns]"
      ]
     },
     "execution_count": 101,
     "metadata": {},
     "output_type": "execute_result"
    }
   ],
   "source": [
    "tempt2 = pd.read_csv('data/tempt2.csv',parse_dates=[1]) #using new template (same dataset) in order to be able to test different variables\n",
    "tempt2.head()\n",
    "\n",
    "#canada still removed"
   ]
  },
  {
   "cell_type": "code",
   "execution_count": 102,
   "metadata": {},
   "outputs": [
    {
     "data": {
      "text/plain": [
       "Unnamed: 0               object\n",
       "Dily_Sales               object\n",
       "#Users_Brazil             int64\n",
       "#Users_Mexico             int64\n",
       "#Users_Japan              int64\n",
       "#Users_Chile              int64\n",
       "#Users_United States      int64\n",
       "#Users_Colombia           int64\n",
       "#Users_India              int64\n",
       "#Users_Italy              int64\n",
       "#Users_Turkey             int64\n",
       "#Users_Taiwan             int64\n",
       "#Users_Switzerland        int64\n",
       "#Users_Nigeria            int64\n",
       "#Users_France             int64\n",
       "#Users_China              int64\n",
       "#Users_Ecuador            int64\n",
       "#Users_Poland             int64\n",
       "#Users_Germany            int64\n",
       "#Users_United Kingdom     int64\n",
       "#Users_Australia          int64\n",
       "#Users_Spain              int64\n",
       "#Users_Ukraine            int64\n",
       "#Users_Hong Kong          int64\n",
       "#Users_Belgium            int64\n",
       "#Users_Netherlands        int64\n",
       "#Users_Austria            int64\n",
       "#Users_Singapore          int64\n",
       "dtype: object"
      ]
     },
     "execution_count": 102,
     "metadata": {},
     "output_type": "execute_result"
    }
   ],
   "source": [
    "tempt2.dtypes"
   ]
  },
  {
   "cell_type": "code",
   "execution_count": 103,
   "metadata": {},
   "outputs": [
    {
     "data": {
      "text/html": [
       "<div>\n",
       "<style scoped>\n",
       "    .dataframe tbody tr th:only-of-type {\n",
       "        vertical-align: middle;\n",
       "    }\n",
       "\n",
       "    .dataframe tbody tr th {\n",
       "        vertical-align: top;\n",
       "    }\n",
       "\n",
       "    .dataframe thead th {\n",
       "        text-align: right;\n",
       "    }\n",
       "</style>\n",
       "<table border=\"1\" class=\"dataframe\">\n",
       "  <thead>\n",
       "    <tr style=\"text-align: right;\">\n",
       "      <th></th>\n",
       "      <th>Dily_Sales</th>\n",
       "      <th>#Users_Brazil</th>\n",
       "      <th>#Users_Mexico</th>\n",
       "      <th>#Users_Japan</th>\n",
       "      <th>#Users_Chile</th>\n",
       "      <th>#Users_United States</th>\n",
       "      <th>#Users_Colombia</th>\n",
       "      <th>#Users_India</th>\n",
       "      <th>#Users_Italy</th>\n",
       "      <th>#Users_Turkey</th>\n",
       "      <th>...</th>\n",
       "      <th>#Users_Germany</th>\n",
       "      <th>#Users_United Kingdom</th>\n",
       "      <th>#Users_Australia</th>\n",
       "      <th>#Users_Spain</th>\n",
       "      <th>#Users_Ukraine</th>\n",
       "      <th>#Users_Hong Kong</th>\n",
       "      <th>#Users_Belgium</th>\n",
       "      <th>#Users_Netherlands</th>\n",
       "      <th>#Users_Austria</th>\n",
       "      <th>#Users_Singapore</th>\n",
       "    </tr>\n",
       "    <tr>\n",
       "      <th>Unnamed: 0</th>\n",
       "      <th></th>\n",
       "      <th></th>\n",
       "      <th></th>\n",
       "      <th></th>\n",
       "      <th></th>\n",
       "      <th></th>\n",
       "      <th></th>\n",
       "      <th></th>\n",
       "      <th></th>\n",
       "      <th></th>\n",
       "      <th></th>\n",
       "      <th></th>\n",
       "      <th></th>\n",
       "      <th></th>\n",
       "      <th></th>\n",
       "      <th></th>\n",
       "      <th></th>\n",
       "      <th></th>\n",
       "      <th></th>\n",
       "      <th></th>\n",
       "      <th></th>\n",
       "    </tr>\n",
       "  </thead>\n",
       "  <tbody>\n",
       "    <tr>\n",
       "      <th>2019-04-05</th>\n",
       "      <td>217</td>\n",
       "      <td>1</td>\n",
       "      <td>1</td>\n",
       "      <td>1</td>\n",
       "      <td>0</td>\n",
       "      <td>0</td>\n",
       "      <td>0</td>\n",
       "      <td>0</td>\n",
       "      <td>0</td>\n",
       "      <td>0</td>\n",
       "      <td>...</td>\n",
       "      <td>0</td>\n",
       "      <td>0</td>\n",
       "      <td>0</td>\n",
       "      <td>0</td>\n",
       "      <td>0</td>\n",
       "      <td>0</td>\n",
       "      <td>0</td>\n",
       "      <td>0</td>\n",
       "      <td>0</td>\n",
       "      <td>0</td>\n",
       "    </tr>\n",
       "    <tr>\n",
       "      <th>2019-04-06</th>\n",
       "      <td>0</td>\n",
       "      <td>0</td>\n",
       "      <td>0</td>\n",
       "      <td>0</td>\n",
       "      <td>0</td>\n",
       "      <td>0</td>\n",
       "      <td>0</td>\n",
       "      <td>0</td>\n",
       "      <td>0</td>\n",
       "      <td>0</td>\n",
       "      <td>...</td>\n",
       "      <td>0</td>\n",
       "      <td>0</td>\n",
       "      <td>0</td>\n",
       "      <td>0</td>\n",
       "      <td>0</td>\n",
       "      <td>0</td>\n",
       "      <td>0</td>\n",
       "      <td>0</td>\n",
       "      <td>0</td>\n",
       "      <td>0</td>\n",
       "    </tr>\n",
       "    <tr>\n",
       "      <th>2019-04-07</th>\n",
       "      <td>438</td>\n",
       "      <td>0</td>\n",
       "      <td>0</td>\n",
       "      <td>2</td>\n",
       "      <td>1</td>\n",
       "      <td>5</td>\n",
       "      <td>0</td>\n",
       "      <td>0</td>\n",
       "      <td>0</td>\n",
       "      <td>0</td>\n",
       "      <td>...</td>\n",
       "      <td>0</td>\n",
       "      <td>0</td>\n",
       "      <td>0</td>\n",
       "      <td>0</td>\n",
       "      <td>0</td>\n",
       "      <td>0</td>\n",
       "      <td>0</td>\n",
       "      <td>0</td>\n",
       "      <td>0</td>\n",
       "      <td>0</td>\n",
       "    </tr>\n",
       "    <tr>\n",
       "      <th>2019-04-08</th>\n",
       "      <td>50</td>\n",
       "      <td>0</td>\n",
       "      <td>0</td>\n",
       "      <td>9</td>\n",
       "      <td>0</td>\n",
       "      <td>0</td>\n",
       "      <td>4</td>\n",
       "      <td>0</td>\n",
       "      <td>0</td>\n",
       "      <td>0</td>\n",
       "      <td>...</td>\n",
       "      <td>0</td>\n",
       "      <td>0</td>\n",
       "      <td>0</td>\n",
       "      <td>0</td>\n",
       "      <td>0</td>\n",
       "      <td>0</td>\n",
       "      <td>0</td>\n",
       "      <td>0</td>\n",
       "      <td>0</td>\n",
       "      <td>0</td>\n",
       "    </tr>\n",
       "    <tr>\n",
       "      <th>2019-04-09</th>\n",
       "      <td>643</td>\n",
       "      <td>21</td>\n",
       "      <td>0</td>\n",
       "      <td>0</td>\n",
       "      <td>0</td>\n",
       "      <td>0</td>\n",
       "      <td>0</td>\n",
       "      <td>1</td>\n",
       "      <td>0</td>\n",
       "      <td>0</td>\n",
       "      <td>...</td>\n",
       "      <td>0</td>\n",
       "      <td>0</td>\n",
       "      <td>0</td>\n",
       "      <td>0</td>\n",
       "      <td>0</td>\n",
       "      <td>0</td>\n",
       "      <td>0</td>\n",
       "      <td>0</td>\n",
       "      <td>0</td>\n",
       "      <td>0</td>\n",
       "    </tr>\n",
       "  </tbody>\n",
       "</table>\n",
       "<p>5 rows × 27 columns</p>\n",
       "</div>"
      ],
      "text/plain": [
       "           Dily_Sales  #Users_Brazil  #Users_Mexico  #Users_Japan  \\\n",
       "Unnamed: 0                                                          \n",
       "2019-04-05        217              1              1             1   \n",
       "2019-04-06          0              0              0             0   \n",
       "2019-04-07        438              0              0             2   \n",
       "2019-04-08         50              0              0             9   \n",
       "2019-04-09        643             21              0             0   \n",
       "\n",
       "            #Users_Chile  #Users_United States  #Users_Colombia  #Users_India  \\\n",
       "Unnamed: 0                                                                      \n",
       "2019-04-05             0                     0                0             0   \n",
       "2019-04-06             0                     0                0             0   \n",
       "2019-04-07             1                     5                0             0   \n",
       "2019-04-08             0                     0                4             0   \n",
       "2019-04-09             0                     0                0             1   \n",
       "\n",
       "            #Users_Italy  #Users_Turkey  ...  #Users_Germany  \\\n",
       "Unnamed: 0                               ...                   \n",
       "2019-04-05             0              0  ...               0   \n",
       "2019-04-06             0              0  ...               0   \n",
       "2019-04-07             0              0  ...               0   \n",
       "2019-04-08             0              0  ...               0   \n",
       "2019-04-09             0              0  ...               0   \n",
       "\n",
       "            #Users_United Kingdom  #Users_Australia  #Users_Spain  \\\n",
       "Unnamed: 0                                                          \n",
       "2019-04-05                      0                 0             0   \n",
       "2019-04-06                      0                 0             0   \n",
       "2019-04-07                      0                 0             0   \n",
       "2019-04-08                      0                 0             0   \n",
       "2019-04-09                      0                 0             0   \n",
       "\n",
       "            #Users_Ukraine  #Users_Hong Kong  #Users_Belgium  \\\n",
       "Unnamed: 0                                                     \n",
       "2019-04-05               0                 0               0   \n",
       "2019-04-06               0                 0               0   \n",
       "2019-04-07               0                 0               0   \n",
       "2019-04-08               0                 0               0   \n",
       "2019-04-09               0                 0               0   \n",
       "\n",
       "            #Users_Netherlands  #Users_Austria  #Users_Singapore  \n",
       "Unnamed: 0                                                        \n",
       "2019-04-05                   0               0                 0  \n",
       "2019-04-06                   0               0                 0  \n",
       "2019-04-07                   0               0                 0  \n",
       "2019-04-08                   0               0                 0  \n",
       "2019-04-09                   0               0                 0  \n",
       "\n",
       "[5 rows x 27 columns]"
      ]
     },
     "execution_count": 103,
     "metadata": {},
     "output_type": "execute_result"
    }
   ],
   "source": [
    "tempt2= tempt2.set_index('Unnamed: 0') #set date  as index\n",
    "tempt2.head()"
   ]
  },
  {
   "cell_type": "code",
   "execution_count": 104,
   "metadata": {},
   "outputs": [
    {
     "data": {
      "text/plain": [
       "Dily_Sales               float64\n",
       "#Users_Brazil            float64\n",
       "#Users_Mexico            float64\n",
       "#Users_Japan             float64\n",
       "#Users_Chile             float64\n",
       "#Users_United States     float64\n",
       "#Users_Colombia          float64\n",
       "#Users_India             float64\n",
       "#Users_Italy             float64\n",
       "#Users_Turkey            float64\n",
       "#Users_Taiwan            float64\n",
       "#Users_Switzerland       float64\n",
       "#Users_Nigeria           float64\n",
       "#Users_France            float64\n",
       "#Users_China             float64\n",
       "#Users_Ecuador           float64\n",
       "#Users_Poland            float64\n",
       "#Users_Germany           float64\n",
       "#Users_United Kingdom    float64\n",
       "#Users_Australia         float64\n",
       "#Users_Spain             float64\n",
       "#Users_Ukraine           float64\n",
       "#Users_Hong Kong         float64\n",
       "#Users_Belgium           float64\n",
       "#Users_Netherlands       float64\n",
       "#Users_Austria           float64\n",
       "#Users_Singapore         float64\n",
       "dtype: object"
      ]
     },
     "execution_count": 104,
     "metadata": {},
     "output_type": "execute_result"
    }
   ],
   "source": [
    "tempt2 = tempt2.astype(float)\n",
    "tempt2.dtypes"
   ]
  },
  {
   "cell_type": "code",
   "execution_count": 105,
   "metadata": {},
   "outputs": [
    {
     "data": {
      "text/plain": [
       "(162, 27)"
      ]
     },
     "execution_count": 105,
     "metadata": {},
     "output_type": "execute_result"
    }
   ],
   "source": [
    "tempt2.shape"
   ]
  },
  {
   "cell_type": "code",
   "execution_count": 106,
   "metadata": {},
   "outputs": [],
   "source": [
    "x3 = tempt2.values[:,1:28]\n",
    "y3 = tempt2.values[:,0:1]       # defined x and y "
   ]
  },
  {
   "cell_type": "code",
   "execution_count": 107,
   "metadata": {},
   "outputs": [
    {
     "data": {
      "text/plain": [
       "(162, 26)"
      ]
     },
     "execution_count": 107,
     "metadata": {},
     "output_type": "execute_result"
    }
   ],
   "source": [
    "x3.shape"
   ]
  },
  {
   "cell_type": "code",
   "execution_count": 108,
   "metadata": {},
   "outputs": [
    {
     "data": {
      "text/plain": [
       "(162, 1)"
      ]
     },
     "execution_count": 108,
     "metadata": {},
     "output_type": "execute_result"
    }
   ],
   "source": [
    "y3.shape"
   ]
  },
  {
   "cell_type": "code",
   "execution_count": 109,
   "metadata": {},
   "outputs": [
    {
     "data": {
      "text/html": [
       "<table class=\"simpletable\">\n",
       "<caption>OLS Regression Results</caption>\n",
       "<tr>\n",
       "  <th>Dep. Variable:</th>           <td>y3</td>        <th>  R-squared:         </th> <td>   0.483</td>\n",
       "</tr>\n",
       "<tr>\n",
       "  <th>Model:</th>                   <td>OLS</td>       <th>  Adj. R-squared:    </th> <td>   0.383</td>\n",
       "</tr>\n",
       "<tr>\n",
       "  <th>Method:</th>             <td>Least Squares</td>  <th>  F-statistic:       </th> <td>   4.850</td>\n",
       "</tr>\n",
       "<tr>\n",
       "  <th>Date:</th>             <td>Wed, 18 Sep 2019</td> <th>  Prob (F-statistic):</th> <td>5.04e-10</td>\n",
       "</tr>\n",
       "<tr>\n",
       "  <th>Time:</th>                 <td>18:23:45</td>     <th>  Log-Likelihood:    </th> <td> -1235.8</td>\n",
       "</tr>\n",
       "<tr>\n",
       "  <th>No. Observations:</th>      <td>   162</td>      <th>  AIC:               </th> <td>   2526.</td>\n",
       "</tr>\n",
       "<tr>\n",
       "  <th>Df Residuals:</th>          <td>   135</td>      <th>  BIC:               </th> <td>   2609.</td>\n",
       "</tr>\n",
       "<tr>\n",
       "  <th>Df Model:</th>              <td>    26</td>      <th>                     </th>     <td> </td>   \n",
       "</tr>\n",
       "<tr>\n",
       "  <th>Covariance Type:</th>      <td>nonrobust</td>    <th>                     </th>     <td> </td>   \n",
       "</tr>\n",
       "</table>\n",
       "<table class=\"simpletable\">\n",
       "<tr>\n",
       "      <td></td>         <th>coef</th>     <th>std err</th>      <th>t</th>      <th>P>|t|</th>  <th>[0.025</th>    <th>0.975]</th>  \n",
       "</tr>\n",
       "<tr>\n",
       "  <th>Intercept</th> <td>   54.4481</td> <td>   66.583</td> <td>    0.818</td> <td> 0.415</td> <td>  -77.232</td> <td>  186.128</td>\n",
       "</tr>\n",
       "<tr>\n",
       "  <th>x3[0]</th>     <td>   26.4408</td> <td>    4.664</td> <td>    5.670</td> <td> 0.000</td> <td>   17.218</td> <td>   35.664</td>\n",
       "</tr>\n",
       "<tr>\n",
       "  <th>x3[1]</th>     <td>   46.2115</td> <td>    9.630</td> <td>    4.799</td> <td> 0.000</td> <td>   27.166</td> <td>   65.257</td>\n",
       "</tr>\n",
       "<tr>\n",
       "  <th>x3[2]</th>     <td>  127.8054</td> <td>   46.502</td> <td>    2.748</td> <td> 0.007</td> <td>   35.838</td> <td>  219.773</td>\n",
       "</tr>\n",
       "<tr>\n",
       "  <th>x3[3]</th>     <td>   61.1261</td> <td>  570.934</td> <td>    0.107</td> <td> 0.915</td> <td>-1068.005</td> <td> 1190.257</td>\n",
       "</tr>\n",
       "<tr>\n",
       "  <th>x3[4]</th>     <td>   13.3630</td> <td>   23.471</td> <td>    0.569</td> <td> 0.570</td> <td>  -33.055</td> <td>   59.781</td>\n",
       "</tr>\n",
       "<tr>\n",
       "  <th>x3[5]</th>     <td>   65.4421</td> <td>   97.788</td> <td>    0.669</td> <td> 0.504</td> <td> -127.953</td> <td>  258.837</td>\n",
       "</tr>\n",
       "<tr>\n",
       "  <th>x3[6]</th>     <td>    2.1255</td> <td>    1.369</td> <td>    1.552</td> <td> 0.123</td> <td>   -0.582</td> <td>    4.833</td>\n",
       "</tr>\n",
       "<tr>\n",
       "  <th>x3[7]</th>     <td>   64.5336</td> <td>   20.796</td> <td>    3.103</td> <td> 0.002</td> <td>   23.406</td> <td>  105.661</td>\n",
       "</tr>\n",
       "<tr>\n",
       "  <th>x3[8]</th>     <td> -453.8920</td> <td>  368.747</td> <td>   -1.231</td> <td> 0.220</td> <td>-1183.160</td> <td>  275.375</td>\n",
       "</tr>\n",
       "<tr>\n",
       "  <th>x3[9]</th>     <td>   42.0113</td> <td>  107.735</td> <td>    0.390</td> <td> 0.697</td> <td> -171.055</td> <td>  255.078</td>\n",
       "</tr>\n",
       "<tr>\n",
       "  <th>x3[10]</th>    <td>   54.2623</td> <td>   71.798</td> <td>    0.756</td> <td> 0.451</td> <td>  -87.733</td> <td>  196.258</td>\n",
       "</tr>\n",
       "<tr>\n",
       "  <th>x3[11]</th>    <td>  231.7035</td> <td>  548.352</td> <td>    0.423</td> <td> 0.673</td> <td> -852.769</td> <td> 1316.176</td>\n",
       "</tr>\n",
       "<tr>\n",
       "  <th>x3[12]</th>    <td>   88.7438</td> <td>   37.633</td> <td>    2.358</td> <td> 0.020</td> <td>   14.318</td> <td>  163.170</td>\n",
       "</tr>\n",
       "<tr>\n",
       "  <th>x3[13]</th>    <td> -224.1679</td> <td>  513.211</td> <td>   -0.437</td> <td> 0.663</td> <td>-1239.142</td> <td>  790.806</td>\n",
       "</tr>\n",
       "<tr>\n",
       "  <th>x3[14]</th>    <td> -340.7948</td> <td>  252.202</td> <td>   -1.351</td> <td> 0.179</td> <td> -839.574</td> <td>  157.984</td>\n",
       "</tr>\n",
       "<tr>\n",
       "  <th>x3[15]</th>    <td>  872.1833</td> <td>  548.889</td> <td>    1.589</td> <td> 0.114</td> <td> -213.351</td> <td> 1957.718</td>\n",
       "</tr>\n",
       "<tr>\n",
       "  <th>x3[16]</th>    <td>    1.3686</td> <td>    2.847</td> <td>    0.481</td> <td> 0.632</td> <td>   -4.262</td> <td>    6.999</td>\n",
       "</tr>\n",
       "<tr>\n",
       "  <th>x3[17]</th>    <td>    2.0897</td> <td>   10.972</td> <td>    0.190</td> <td> 0.849</td> <td>  -19.609</td> <td>   23.789</td>\n",
       "</tr>\n",
       "<tr>\n",
       "  <th>x3[18]</th>    <td>  108.5043</td> <td>  392.773</td> <td>    0.276</td> <td> 0.783</td> <td> -668.280</td> <td>  885.289</td>\n",
       "</tr>\n",
       "<tr>\n",
       "  <th>x3[19]</th>    <td>    6.1476</td> <td>   53.093</td> <td>    0.116</td> <td> 0.908</td> <td>  -98.854</td> <td>  111.149</td>\n",
       "</tr>\n",
       "<tr>\n",
       "  <th>x3[20]</th>    <td> -129.7701</td> <td>  134.446</td> <td>   -0.965</td> <td> 0.336</td> <td> -395.664</td> <td>  136.123</td>\n",
       "</tr>\n",
       "<tr>\n",
       "  <th>x3[21]</th>    <td>  101.7914</td> <td>  145.323</td> <td>    0.700</td> <td> 0.485</td> <td> -185.613</td> <td>  389.196</td>\n",
       "</tr>\n",
       "<tr>\n",
       "  <th>x3[22]</th>    <td>   54.3916</td> <td>   68.245</td> <td>    0.797</td> <td> 0.427</td> <td>  -80.576</td> <td>  189.360</td>\n",
       "</tr>\n",
       "<tr>\n",
       "  <th>x3[23]</th>    <td> -531.8027</td> <td>  602.673</td> <td>   -0.882</td> <td> 0.379</td> <td>-1723.704</td> <td>  660.098</td>\n",
       "</tr>\n",
       "<tr>\n",
       "  <th>x3[24]</th>    <td> -299.4877</td> <td>  561.134</td> <td>   -0.534</td> <td> 0.594</td> <td>-1409.239</td> <td>  810.263</td>\n",
       "</tr>\n",
       "<tr>\n",
       "  <th>x3[25]</th>    <td> 1013.4863</td> <td>  725.513</td> <td>    1.397</td> <td> 0.165</td> <td> -421.355</td> <td> 2448.328</td>\n",
       "</tr>\n",
       "</table>\n",
       "<table class=\"simpletable\">\n",
       "<tr>\n",
       "  <th>Omnibus:</th>       <td>71.596</td> <th>  Durbin-Watson:     </th> <td>   1.991</td>\n",
       "</tr>\n",
       "<tr>\n",
       "  <th>Prob(Omnibus):</th> <td> 0.000</td> <th>  Jarque-Bera (JB):  </th> <td> 355.241</td>\n",
       "</tr>\n",
       "<tr>\n",
       "  <th>Skew:</th>          <td> 1.561</td> <th>  Prob(JB):          </th> <td>7.25e-78</td>\n",
       "</tr>\n",
       "<tr>\n",
       "  <th>Kurtosis:</th>      <td> 9.548</td> <th>  Cond. No.          </th> <td>    552.</td>\n",
       "</tr>\n",
       "</table><br/><br/>Warnings:<br/>[1] Standard Errors assume that the covariance matrix of the errors is correctly specified."
      ],
      "text/plain": [
       "<class 'statsmodels.iolib.summary.Summary'>\n",
       "\"\"\"\n",
       "                            OLS Regression Results                            \n",
       "==============================================================================\n",
       "Dep. Variable:                     y3   R-squared:                       0.483\n",
       "Model:                            OLS   Adj. R-squared:                  0.383\n",
       "Method:                 Least Squares   F-statistic:                     4.850\n",
       "Date:                Wed, 18 Sep 2019   Prob (F-statistic):           5.04e-10\n",
       "Time:                        18:23:45   Log-Likelihood:                -1235.8\n",
       "No. Observations:                 162   AIC:                             2526.\n",
       "Df Residuals:                     135   BIC:                             2609.\n",
       "Df Model:                          26                                         \n",
       "Covariance Type:            nonrobust                                         \n",
       "==============================================================================\n",
       "                 coef    std err          t      P>|t|      [0.025      0.975]\n",
       "------------------------------------------------------------------------------\n",
       "Intercept     54.4481     66.583      0.818      0.415     -77.232     186.128\n",
       "x3[0]         26.4408      4.664      5.670      0.000      17.218      35.664\n",
       "x3[1]         46.2115      9.630      4.799      0.000      27.166      65.257\n",
       "x3[2]        127.8054     46.502      2.748      0.007      35.838     219.773\n",
       "x3[3]         61.1261    570.934      0.107      0.915   -1068.005    1190.257\n",
       "x3[4]         13.3630     23.471      0.569      0.570     -33.055      59.781\n",
       "x3[5]         65.4421     97.788      0.669      0.504    -127.953     258.837\n",
       "x3[6]          2.1255      1.369      1.552      0.123      -0.582       4.833\n",
       "x3[7]         64.5336     20.796      3.103      0.002      23.406     105.661\n",
       "x3[8]       -453.8920    368.747     -1.231      0.220   -1183.160     275.375\n",
       "x3[9]         42.0113    107.735      0.390      0.697    -171.055     255.078\n",
       "x3[10]        54.2623     71.798      0.756      0.451     -87.733     196.258\n",
       "x3[11]       231.7035    548.352      0.423      0.673    -852.769    1316.176\n",
       "x3[12]        88.7438     37.633      2.358      0.020      14.318     163.170\n",
       "x3[13]      -224.1679    513.211     -0.437      0.663   -1239.142     790.806\n",
       "x3[14]      -340.7948    252.202     -1.351      0.179    -839.574     157.984\n",
       "x3[15]       872.1833    548.889      1.589      0.114    -213.351    1957.718\n",
       "x3[16]         1.3686      2.847      0.481      0.632      -4.262       6.999\n",
       "x3[17]         2.0897     10.972      0.190      0.849     -19.609      23.789\n",
       "x3[18]       108.5043    392.773      0.276      0.783    -668.280     885.289\n",
       "x3[19]         6.1476     53.093      0.116      0.908     -98.854     111.149\n",
       "x3[20]      -129.7701    134.446     -0.965      0.336    -395.664     136.123\n",
       "x3[21]       101.7914    145.323      0.700      0.485    -185.613     389.196\n",
       "x3[22]        54.3916     68.245      0.797      0.427     -80.576     189.360\n",
       "x3[23]      -531.8027    602.673     -0.882      0.379   -1723.704     660.098\n",
       "x3[24]      -299.4877    561.134     -0.534      0.594   -1409.239     810.263\n",
       "x3[25]      1013.4863    725.513      1.397      0.165    -421.355    2448.328\n",
       "==============================================================================\n",
       "Omnibus:                       71.596   Durbin-Watson:                   1.991\n",
       "Prob(Omnibus):                  0.000   Jarque-Bera (JB):              355.241\n",
       "Skew:                           1.561   Prob(JB):                     7.25e-78\n",
       "Kurtosis:                       9.548   Cond. No.                         552.\n",
       "==============================================================================\n",
       "\n",
       "Warnings:\n",
       "[1] Standard Errors assume that the covariance matrix of the errors is correctly specified.\n",
       "\"\"\""
      ]
     },
     "execution_count": 109,
     "metadata": {},
     "output_type": "execute_result"
    }
   ],
   "source": [
    "model = smf.ols(data = tempt2, formula = \"y3 ~ x3\")  \n",
    "result3 = model.fit()  \n",
    "result3.summary()\n",
    "\n",
    "#some countries coefficients are significant because they have very low p value\n",
    "#R-squared suggests not as good fit despite a strong f-stat (implying the model is significant)\n",
    "# ~40% of the variability in my dependent variable can be explained by variability in my independent variables.\n",
    "# High confidence that the statement above is true because of my high significance F"
   ]
  },
  {
   "cell_type": "code",
   "execution_count": 110,
   "metadata": {},
   "outputs": [],
   "source": [
    "x3_train, x3_test, y3_train, y3_test = train_test_split(x3, y3, test_size=0.2, random_state=0)"
   ]
  },
  {
   "cell_type": "code",
   "execution_count": 111,
   "metadata": {},
   "outputs": [
    {
     "data": {
      "text/plain": [
       "LinearRegression(copy_X=True, fit_intercept=True, n_jobs=None,\n",
       "         normalize=False)"
      ]
     },
     "execution_count": 111,
     "metadata": {},
     "output_type": "execute_result"
    }
   ],
   "source": [
    "regres3 = LinearRegression() \n",
    "regres3.fit(x3_train, y3_train)"
   ]
  },
  {
   "cell_type": "code",
   "execution_count": 112,
   "metadata": {},
   "outputs": [],
   "source": [
    "y3_pred = regres3.predict(x3_test)"
   ]
  },
  {
   "cell_type": "code",
   "execution_count": 113,
   "metadata": {},
   "outputs": [
    {
     "name": "stdout",
     "output_type": "stream",
     "text": [
      "Mean Absolute Error: 1563.93247738354\n",
      "Mean Squared Error: 45161144.747784145\n",
      "Root Mean Squared Error: 6720.204219202282\n"
     ]
    }
   ],
   "source": [
    "print('Mean Absolute Error:', metrics.mean_absolute_error(y3_test, y3_pred))  \n",
    "print('Mean Squared Error:', metrics.mean_squared_error(y3_test, y3_pred))  \n",
    "print('Root Mean Squared Error:', np.sqrt(metrics.mean_squared_error(y3_test, y3_pred)))"
   ]
  },
  {
   "cell_type": "code",
   "execution_count": 114,
   "metadata": {},
   "outputs": [
    {
     "data": {
      "text/html": [
       "<div>\n",
       "<style scoped>\n",
       "    .dataframe tbody tr th:only-of-type {\n",
       "        vertical-align: middle;\n",
       "    }\n",
       "\n",
       "    .dataframe tbody tr th {\n",
       "        vertical-align: top;\n",
       "    }\n",
       "\n",
       "    .dataframe thead th {\n",
       "        text-align: right;\n",
       "    }\n",
       "</style>\n",
       "<table border=\"1\" class=\"dataframe\">\n",
       "  <thead>\n",
       "    <tr style=\"text-align: right;\">\n",
       "      <th></th>\n",
       "      <th>Unnamed: 0</th>\n",
       "      <th>Dily_Sales</th>\n",
       "      <th>#Users_Brazil</th>\n",
       "      <th>#Users_Mexico</th>\n",
       "      <th>#Users_Japan</th>\n",
       "      <th>#Users_Italy</th>\n",
       "      <th>#Users_France</th>\n",
       "    </tr>\n",
       "  </thead>\n",
       "  <tbody>\n",
       "    <tr>\n",
       "      <th>0</th>\n",
       "      <td>43560</td>\n",
       "      <td>217</td>\n",
       "      <td>1</td>\n",
       "      <td>1</td>\n",
       "      <td>1</td>\n",
       "      <td>0</td>\n",
       "      <td>0</td>\n",
       "    </tr>\n",
       "    <tr>\n",
       "      <th>1</th>\n",
       "      <td>43561</td>\n",
       "      <td>0</td>\n",
       "      <td>0</td>\n",
       "      <td>0</td>\n",
       "      <td>0</td>\n",
       "      <td>0</td>\n",
       "      <td>0</td>\n",
       "    </tr>\n",
       "    <tr>\n",
       "      <th>2</th>\n",
       "      <td>43562</td>\n",
       "      <td>438</td>\n",
       "      <td>0</td>\n",
       "      <td>0</td>\n",
       "      <td>2</td>\n",
       "      <td>0</td>\n",
       "      <td>0</td>\n",
       "    </tr>\n",
       "    <tr>\n",
       "      <th>3</th>\n",
       "      <td>43563</td>\n",
       "      <td>50</td>\n",
       "      <td>0</td>\n",
       "      <td>0</td>\n",
       "      <td>9</td>\n",
       "      <td>0</td>\n",
       "      <td>0</td>\n",
       "    </tr>\n",
       "    <tr>\n",
       "      <th>4</th>\n",
       "      <td>43564</td>\n",
       "      <td>643</td>\n",
       "      <td>21</td>\n",
       "      <td>0</td>\n",
       "      <td>0</td>\n",
       "      <td>0</td>\n",
       "      <td>0</td>\n",
       "    </tr>\n",
       "  </tbody>\n",
       "</table>\n",
       "</div>"
      ],
      "text/plain": [
       "   Unnamed: 0 Dily_Sales  #Users_Brazil  #Users_Mexico  #Users_Japan  \\\n",
       "0       43560        217              1              1             1   \n",
       "1       43561          0              0              0             0   \n",
       "2       43562        438              0              0             2   \n",
       "3       43563         50              0              0             9   \n",
       "4       43564        643             21              0             0   \n",
       "\n",
       "   #Users_Italy  #Users_France  \n",
       "0             0              0  \n",
       "1             0              0  \n",
       "2             0              0  \n",
       "3             0              0  \n",
       "4             0              0  "
      ]
     },
     "execution_count": 114,
     "metadata": {},
     "output_type": "execute_result"
    }
   ],
   "source": [
    "tempt3 = pd.read_csv('data/tempt3.csv',parse_dates=[1]) #new doct only with variables that P>|t| are significant\n",
    "tempt3.head()\n",
    "\n",
    "#removed the non-significant coeficients "
   ]
  },
  {
   "cell_type": "code",
   "execution_count": 115,
   "metadata": {},
   "outputs": [],
   "source": [
    "tempt3= tempt3.set_index('Unnamed: 0') #set date  as index"
   ]
  },
  {
   "cell_type": "code",
   "execution_count": 116,
   "metadata": {},
   "outputs": [
    {
     "data": {
      "text/plain": [
       "Dily_Sales       float64\n",
       "#Users_Brazil    float64\n",
       "#Users_Mexico    float64\n",
       "#Users_Japan     float64\n",
       "#Users_Italy     float64\n",
       "#Users_France    float64\n",
       "dtype: object"
      ]
     },
     "execution_count": 116,
     "metadata": {},
     "output_type": "execute_result"
    }
   ],
   "source": [
    "tempt3 = tempt3.astype(float)\n",
    "tempt3.dtypes\n"
   ]
  },
  {
   "cell_type": "code",
   "execution_count": 117,
   "metadata": {},
   "outputs": [],
   "source": [
    "x4 = tempt3.values[:,1:28]\n",
    "y4 = tempt3.values[:,0:1] "
   ]
  },
  {
   "cell_type": "code",
   "execution_count": 118,
   "metadata": {},
   "outputs": [
    {
     "data": {
      "text/html": [
       "<table class=\"simpletable\">\n",
       "<caption>OLS Regression Results</caption>\n",
       "<tr>\n",
       "  <th>Dep. Variable:</th>           <td>y4</td>        <th>  R-squared:         </th> <td>   0.411</td>\n",
       "</tr>\n",
       "<tr>\n",
       "  <th>Model:</th>                   <td>OLS</td>       <th>  Adj. R-squared:    </th> <td>   0.393</td>\n",
       "</tr>\n",
       "<tr>\n",
       "  <th>Method:</th>             <td>Least Squares</td>  <th>  F-statistic:       </th> <td>   21.82</td>\n",
       "</tr>\n",
       "<tr>\n",
       "  <th>Date:</th>             <td>Wed, 18 Sep 2019</td> <th>  Prob (F-statistic):</th> <td>1.58e-16</td>\n",
       "</tr>\n",
       "<tr>\n",
       "  <th>Time:</th>                 <td>18:23:45</td>     <th>  Log-Likelihood:    </th> <td> -1246.3</td>\n",
       "</tr>\n",
       "<tr>\n",
       "  <th>No. Observations:</th>      <td>   162</td>      <th>  AIC:               </th> <td>   2505.</td>\n",
       "</tr>\n",
       "<tr>\n",
       "  <th>Df Residuals:</th>          <td>   156</td>      <th>  BIC:               </th> <td>   2523.</td>\n",
       "</tr>\n",
       "<tr>\n",
       "  <th>Df Model:</th>              <td>     5</td>      <th>                     </th>     <td> </td>   \n",
       "</tr>\n",
       "<tr>\n",
       "  <th>Covariance Type:</th>      <td>nonrobust</td>    <th>                     </th>     <td> </td>   \n",
       "</tr>\n",
       "</table>\n",
       "<table class=\"simpletable\">\n",
       "<tr>\n",
       "      <td></td>         <th>coef</th>     <th>std err</th>      <th>t</th>      <th>P>|t|</th>  <th>[0.025</th>    <th>0.975]</th>  \n",
       "</tr>\n",
       "<tr>\n",
       "  <th>Intercept</th> <td>  115.1172</td> <td>   61.317</td> <td>    1.877</td> <td> 0.062</td> <td>   -6.002</td> <td>  236.236</td>\n",
       "</tr>\n",
       "<tr>\n",
       "  <th>x4[0]</th>     <td>   24.5030</td> <td>    4.396</td> <td>    5.574</td> <td> 0.000</td> <td>   15.819</td> <td>   33.187</td>\n",
       "</tr>\n",
       "<tr>\n",
       "  <th>x4[1]</th>     <td>   46.1724</td> <td>    8.633</td> <td>    5.348</td> <td> 0.000</td> <td>   29.119</td> <td>   63.225</td>\n",
       "</tr>\n",
       "<tr>\n",
       "  <th>x4[2]</th>     <td>  143.8169</td> <td>   39.676</td> <td>    3.625</td> <td> 0.000</td> <td>   65.446</td> <td>  222.188</td>\n",
       "</tr>\n",
       "<tr>\n",
       "  <th>x4[3]</th>     <td>   40.4156</td> <td>   14.118</td> <td>    2.863</td> <td> 0.005</td> <td>   12.528</td> <td>   68.303</td>\n",
       "</tr>\n",
       "<tr>\n",
       "  <th>x4[4]</th>     <td>   99.5156</td> <td>   35.890</td> <td>    2.773</td> <td> 0.006</td> <td>   28.622</td> <td>  170.410</td>\n",
       "</tr>\n",
       "</table>\n",
       "<table class=\"simpletable\">\n",
       "<tr>\n",
       "  <th>Omnibus:</th>       <td>67.923</td> <th>  Durbin-Watson:     </th> <td>   2.018</td>\n",
       "</tr>\n",
       "<tr>\n",
       "  <th>Prob(Omnibus):</th> <td> 0.000</td> <th>  Jarque-Bera (JB):  </th> <td> 262.451</td>\n",
       "</tr>\n",
       "<tr>\n",
       "  <th>Skew:</th>          <td> 1.575</td> <th>  Prob(JB):          </th> <td>1.02e-57</td>\n",
       "</tr>\n",
       "<tr>\n",
       "  <th>Kurtosis:</th>      <td> 8.382</td> <th>  Cond. No.          </th> <td>    18.9</td>\n",
       "</tr>\n",
       "</table><br/><br/>Warnings:<br/>[1] Standard Errors assume that the covariance matrix of the errors is correctly specified."
      ],
      "text/plain": [
       "<class 'statsmodels.iolib.summary.Summary'>\n",
       "\"\"\"\n",
       "                            OLS Regression Results                            \n",
       "==============================================================================\n",
       "Dep. Variable:                     y4   R-squared:                       0.411\n",
       "Model:                            OLS   Adj. R-squared:                  0.393\n",
       "Method:                 Least Squares   F-statistic:                     21.82\n",
       "Date:                Wed, 18 Sep 2019   Prob (F-statistic):           1.58e-16\n",
       "Time:                        18:23:45   Log-Likelihood:                -1246.3\n",
       "No. Observations:                 162   AIC:                             2505.\n",
       "Df Residuals:                     156   BIC:                             2523.\n",
       "Df Model:                           5                                         \n",
       "Covariance Type:            nonrobust                                         \n",
       "==============================================================================\n",
       "                 coef    std err          t      P>|t|      [0.025      0.975]\n",
       "------------------------------------------------------------------------------\n",
       "Intercept    115.1172     61.317      1.877      0.062      -6.002     236.236\n",
       "x4[0]         24.5030      4.396      5.574      0.000      15.819      33.187\n",
       "x4[1]         46.1724      8.633      5.348      0.000      29.119      63.225\n",
       "x4[2]        143.8169     39.676      3.625      0.000      65.446     222.188\n",
       "x4[3]         40.4156     14.118      2.863      0.005      12.528      68.303\n",
       "x4[4]         99.5156     35.890      2.773      0.006      28.622     170.410\n",
       "==============================================================================\n",
       "Omnibus:                       67.923   Durbin-Watson:                   2.018\n",
       "Prob(Omnibus):                  0.000   Jarque-Bera (JB):              262.451\n",
       "Skew:                           1.575   Prob(JB):                     1.02e-57\n",
       "Kurtosis:                       8.382   Cond. No.                         18.9\n",
       "==============================================================================\n",
       "\n",
       "Warnings:\n",
       "[1] Standard Errors assume that the covariance matrix of the errors is correctly specified.\n",
       "\"\"\""
      ]
     },
     "execution_count": 118,
     "metadata": {},
     "output_type": "execute_result"
    }
   ],
   "source": [
    "model = smf.ols(data = tempt3, formula = \"y4 ~ x4\")  \n",
    "result4 = model.fit()  \n",
    "result4.summary()\n",
    "\n",
    "# dropped variables whose coefficients were not significant\n",
    "# brought me to a model with not as good fit, however, the model is statisticly significant with a high F-stat and with all coeffcients with p-value less than or equal to 0.006\n"
   ]
  },
  {
   "cell_type": "code",
   "execution_count": 119,
   "metadata": {},
   "outputs": [
    {
     "data": {
      "text/plain": [
       "(162, 5)"
      ]
     },
     "execution_count": 119,
     "metadata": {},
     "output_type": "execute_result"
    }
   ],
   "source": [
    "x4.shape"
   ]
  },
  {
   "cell_type": "code",
   "execution_count": 120,
   "metadata": {},
   "outputs": [
    {
     "data": {
      "text/plain": [
       "(162, 1)"
      ]
     },
     "execution_count": 120,
     "metadata": {},
     "output_type": "execute_result"
    }
   ],
   "source": [
    "y4.shape"
   ]
  },
  {
   "cell_type": "code",
   "execution_count": 121,
   "metadata": {},
   "outputs": [],
   "source": [
    "x4_train, x4_test, y4_train, y4_test = train_test_split(x4, y4, test_size=0.2, random_state=0)"
   ]
  },
  {
   "cell_type": "code",
   "execution_count": 122,
   "metadata": {},
   "outputs": [
    {
     "data": {
      "text/plain": [
       "LinearRegression(copy_X=True, fit_intercept=True, n_jobs=None,\n",
       "         normalize=False)"
      ]
     },
     "execution_count": 122,
     "metadata": {},
     "output_type": "execute_result"
    }
   ],
   "source": [
    "regressor = LinearRegression()  \n",
    "regressor.fit(x4_train, y4_train)"
   ]
  },
  {
   "cell_type": "code",
   "execution_count": 123,
   "metadata": {},
   "outputs": [],
   "source": [
    "y4_pred = regressor.predict(x4_test)"
   ]
  },
  {
   "cell_type": "code",
   "execution_count": 124,
   "metadata": {},
   "outputs": [
    {
     "name": "stdout",
     "output_type": "stream",
     "text": [
      "(33, 1)\n",
      "(33, 1)\n"
     ]
    }
   ],
   "source": [
    "print(y4_test.shape)\n",
    "print(y4_pred.shape)"
   ]
  },
  {
   "cell_type": "code",
   "execution_count": 125,
   "metadata": {},
   "outputs": [
    {
     "name": "stdout",
     "output_type": "stream",
     "text": [
      "(33, 1)\n"
     ]
    }
   ],
   "source": [
    "print(y4_test.shape)"
   ]
  },
  {
   "cell_type": "code",
   "execution_count": 126,
   "metadata": {},
   "outputs": [
    {
     "data": {
      "text/plain": [
       "<matplotlib.collections.PathCollection at 0x16fc0b73d30>"
      ]
     },
     "execution_count": 126,
     "metadata": {},
     "output_type": "execute_result"
    },
    {
     "data": {
      "image/png": "[encoded data removed]",
      "text/plain": [
       "<Figure size 432x288 with 1 Axes>"
      ]
     },
     "metadata": {},
     "output_type": "display_data"
    }
   ],
   "source": [
    "plt.scatter(y4_test,y4_pred)"
   ]
  },
  {
   "cell_type": "code",
   "execution_count": 127,
   "metadata": {},
   "outputs": [
    {
     "name": "stdout",
     "output_type": "stream",
     "text": [
      "Mean Absolute Error: 303.22685045483064\n",
      "Mean Squared Error: 234557.6357445017\n",
      "Root Mean Squared Error: 484.31150692968436\n"
     ]
    }
   ],
   "source": [
    "print('Mean Absolute Error:', metrics.mean_absolute_error(y4_test, y4_pred))  \n",
    "print('Mean Squared Error:', metrics.mean_squared_error(y4_test, y4_pred))  \n",
    "print('Root Mean Squared Error:', np.sqrt(metrics.mean_squared_error(y4_test, y4_pred)))"
   ]
  }
 ],
 "metadata": {
  "kernelspec": {
   "display_name": "Python 3",
   "language": "python",
   "name": "python3"
  },
  "language_info": {
   "codemirror_mode": {
    "name": "ipython",
    "version": 3
   },
   "file_extension": ".py",
   "mimetype": "text/x-python",
   "name": "python",
   "nbconvert_exporter": "python",
   "pygments_lexer": "ipython3",
   "version": "3.7.3"
  }
 },
 "nbformat": 4,
 "nbformat_minor": 2
}
